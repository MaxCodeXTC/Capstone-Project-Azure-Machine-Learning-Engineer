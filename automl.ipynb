{
 "cells": [
  {
   "cell_type": "markdown",
   "metadata": {},
   "source": [
    "# Automated ML\n",
    "\n",
    "TODO: Import Dependencies. In the cell below, import all the dependencies that you will need to complete the project."
   ]
  },
  {
   "cell_type": "code",
   "execution_count": 1,
   "metadata": {
    "gather": {
     "logged": 1598423888013
    },
    "jupyter": {
     "outputs_hidden": false,
     "source_hidden": false
    },
    "nteract": {
     "transient": {
      "deleting": false
     }
    }
   },
   "outputs": [],
   "source": [
    "from azureml.core import Workspace, Experiment\n",
    "from azureml.core.compute import ComputeTarget, AmlCompute\n",
    "from azureml.widgets import RunDetails\n",
    "import os\n",
    "import joblib\n",
    "\n",
    "from azureml.train.automl import AutoMLConfig\n",
    "from pprint import pprint # Used in printing automl model parameters\n",
    "from azureml.core import Model # Used to get model information"
   ]
  },
  {
   "cell_type": "markdown",
   "metadata": {},
   "source": [
    "## Dataset\n",
    "\n",
    "### Overview\n",
    "TODO: In this markdown cell, give an overview of the dataset you are using. Also mention the task you will be performing.\n",
    "\n",
    "\n",
    "TODO: Get data. In the cell below, write code to access the data you will be using in this project. Remember that the dataset needs to be external."
   ]
  },
  {
   "cell_type": "code",
   "execution_count": 5,
   "metadata": {},
   "outputs": [],
   "source": [
    "from azureml.data.dataset_factory import TabularDatasetFactory\n",
    "\n",
    "data_loc = \"https://raw.githubusercontent.com/khalidw/Capstone-Project-Azure-Machine-Learning-Engineer/master/divorce.csv\"\n",
    "ds = TabularDatasetFactory.from_delimited_files(data_loc)\n",
    "data = ds.to_pandas_dataframe().dropna()"
   ]
  },
  {
   "cell_type": "code",
   "execution_count": 8,
   "metadata": {},
   "outputs": [
    {
     "data": {
      "text/html": [
       "<div>\n",
       "<style scoped>\n",
       "    .dataframe tbody tr th:only-of-type {\n",
       "        vertical-align: middle;\n",
       "    }\n",
       "\n",
       "    .dataframe tbody tr th {\n",
       "        vertical-align: top;\n",
       "    }\n",
       "\n",
       "    .dataframe thead th {\n",
       "        text-align: right;\n",
       "    }\n",
       "</style>\n",
       "<table border=\"1\" class=\"dataframe\">\n",
       "  <thead>\n",
       "    <tr style=\"text-align: right;\">\n",
       "      <th></th>\n",
       "      <th>Atr1</th>\n",
       "      <th>Atr2</th>\n",
       "      <th>Atr3</th>\n",
       "      <th>Atr4</th>\n",
       "      <th>Atr5</th>\n",
       "      <th>Atr6</th>\n",
       "      <th>Atr7</th>\n",
       "      <th>Atr8</th>\n",
       "      <th>Atr9</th>\n",
       "      <th>Atr10</th>\n",
       "      <th>...</th>\n",
       "      <th>Atr46</th>\n",
       "      <th>Atr47</th>\n",
       "      <th>Atr48</th>\n",
       "      <th>Atr49</th>\n",
       "      <th>Atr50</th>\n",
       "      <th>Atr51</th>\n",
       "      <th>Atr52</th>\n",
       "      <th>Atr53</th>\n",
       "      <th>Atr54</th>\n",
       "      <th>Class</th>\n",
       "    </tr>\n",
       "  </thead>\n",
       "  <tbody>\n",
       "    <tr>\n",
       "      <th>count</th>\n",
       "      <td>170.000000</td>\n",
       "      <td>170.000000</td>\n",
       "      <td>170.000000</td>\n",
       "      <td>170.000000</td>\n",
       "      <td>170.000000</td>\n",
       "      <td>170.000000</td>\n",
       "      <td>170.000000</td>\n",
       "      <td>170.000000</td>\n",
       "      <td>170.000000</td>\n",
       "      <td>170.000000</td>\n",
       "      <td>...</td>\n",
       "      <td>170.000000</td>\n",
       "      <td>170.000000</td>\n",
       "      <td>170.000000</td>\n",
       "      <td>170.000000</td>\n",
       "      <td>170.000000</td>\n",
       "      <td>170.000000</td>\n",
       "      <td>170.000000</td>\n",
       "      <td>170.000000</td>\n",
       "      <td>170.000000</td>\n",
       "      <td>170.000000</td>\n",
       "    </tr>\n",
       "    <tr>\n",
       "      <th>mean</th>\n",
       "      <td>1.776471</td>\n",
       "      <td>1.652941</td>\n",
       "      <td>1.764706</td>\n",
       "      <td>1.482353</td>\n",
       "      <td>1.541176</td>\n",
       "      <td>0.747059</td>\n",
       "      <td>0.494118</td>\n",
       "      <td>1.452941</td>\n",
       "      <td>1.458824</td>\n",
       "      <td>1.576471</td>\n",
       "      <td>...</td>\n",
       "      <td>2.552941</td>\n",
       "      <td>2.270588</td>\n",
       "      <td>2.741176</td>\n",
       "      <td>2.382353</td>\n",
       "      <td>2.429412</td>\n",
       "      <td>2.476471</td>\n",
       "      <td>2.517647</td>\n",
       "      <td>2.241176</td>\n",
       "      <td>2.011765</td>\n",
       "      <td>0.494118</td>\n",
       "    </tr>\n",
       "    <tr>\n",
       "      <th>std</th>\n",
       "      <td>1.627257</td>\n",
       "      <td>1.468654</td>\n",
       "      <td>1.415444</td>\n",
       "      <td>1.504327</td>\n",
       "      <td>1.632169</td>\n",
       "      <td>0.904046</td>\n",
       "      <td>0.898698</td>\n",
       "      <td>1.546371</td>\n",
       "      <td>1.557976</td>\n",
       "      <td>1.421529</td>\n",
       "      <td>...</td>\n",
       "      <td>1.371786</td>\n",
       "      <td>1.586841</td>\n",
       "      <td>1.137348</td>\n",
       "      <td>1.511587</td>\n",
       "      <td>1.405090</td>\n",
       "      <td>1.260238</td>\n",
       "      <td>1.476537</td>\n",
       "      <td>1.505634</td>\n",
       "      <td>1.667611</td>\n",
       "      <td>0.501442</td>\n",
       "    </tr>\n",
       "    <tr>\n",
       "      <th>min</th>\n",
       "      <td>0.000000</td>\n",
       "      <td>0.000000</td>\n",
       "      <td>0.000000</td>\n",
       "      <td>0.000000</td>\n",
       "      <td>0.000000</td>\n",
       "      <td>0.000000</td>\n",
       "      <td>0.000000</td>\n",
       "      <td>0.000000</td>\n",
       "      <td>0.000000</td>\n",
       "      <td>0.000000</td>\n",
       "      <td>...</td>\n",
       "      <td>0.000000</td>\n",
       "      <td>0.000000</td>\n",
       "      <td>0.000000</td>\n",
       "      <td>0.000000</td>\n",
       "      <td>0.000000</td>\n",
       "      <td>0.000000</td>\n",
       "      <td>0.000000</td>\n",
       "      <td>0.000000</td>\n",
       "      <td>0.000000</td>\n",
       "      <td>0.000000</td>\n",
       "    </tr>\n",
       "    <tr>\n",
       "      <th>25%</th>\n",
       "      <td>0.000000</td>\n",
       "      <td>0.000000</td>\n",
       "      <td>0.000000</td>\n",
       "      <td>0.000000</td>\n",
       "      <td>0.000000</td>\n",
       "      <td>0.000000</td>\n",
       "      <td>0.000000</td>\n",
       "      <td>0.000000</td>\n",
       "      <td>0.000000</td>\n",
       "      <td>0.000000</td>\n",
       "      <td>...</td>\n",
       "      <td>2.000000</td>\n",
       "      <td>1.000000</td>\n",
       "      <td>2.000000</td>\n",
       "      <td>1.000000</td>\n",
       "      <td>1.000000</td>\n",
       "      <td>2.000000</td>\n",
       "      <td>1.000000</td>\n",
       "      <td>1.000000</td>\n",
       "      <td>0.000000</td>\n",
       "      <td>0.000000</td>\n",
       "    </tr>\n",
       "    <tr>\n",
       "      <th>50%</th>\n",
       "      <td>2.000000</td>\n",
       "      <td>2.000000</td>\n",
       "      <td>2.000000</td>\n",
       "      <td>1.000000</td>\n",
       "      <td>1.000000</td>\n",
       "      <td>0.000000</td>\n",
       "      <td>0.000000</td>\n",
       "      <td>1.000000</td>\n",
       "      <td>1.000000</td>\n",
       "      <td>2.000000</td>\n",
       "      <td>...</td>\n",
       "      <td>3.000000</td>\n",
       "      <td>2.000000</td>\n",
       "      <td>3.000000</td>\n",
       "      <td>3.000000</td>\n",
       "      <td>2.000000</td>\n",
       "      <td>3.000000</td>\n",
       "      <td>3.000000</td>\n",
       "      <td>2.000000</td>\n",
       "      <td>2.000000</td>\n",
       "      <td>0.000000</td>\n",
       "    </tr>\n",
       "    <tr>\n",
       "      <th>75%</th>\n",
       "      <td>3.000000</td>\n",
       "      <td>3.000000</td>\n",
       "      <td>3.000000</td>\n",
       "      <td>3.000000</td>\n",
       "      <td>3.000000</td>\n",
       "      <td>1.000000</td>\n",
       "      <td>1.000000</td>\n",
       "      <td>3.000000</td>\n",
       "      <td>3.000000</td>\n",
       "      <td>3.000000</td>\n",
       "      <td>...</td>\n",
       "      <td>4.000000</td>\n",
       "      <td>4.000000</td>\n",
       "      <td>4.000000</td>\n",
       "      <td>4.000000</td>\n",
       "      <td>4.000000</td>\n",
       "      <td>4.000000</td>\n",
       "      <td>4.000000</td>\n",
       "      <td>4.000000</td>\n",
       "      <td>4.000000</td>\n",
       "      <td>1.000000</td>\n",
       "    </tr>\n",
       "    <tr>\n",
       "      <th>max</th>\n",
       "      <td>4.000000</td>\n",
       "      <td>4.000000</td>\n",
       "      <td>4.000000</td>\n",
       "      <td>4.000000</td>\n",
       "      <td>4.000000</td>\n",
       "      <td>4.000000</td>\n",
       "      <td>4.000000</td>\n",
       "      <td>4.000000</td>\n",
       "      <td>4.000000</td>\n",
       "      <td>4.000000</td>\n",
       "      <td>...</td>\n",
       "      <td>4.000000</td>\n",
       "      <td>4.000000</td>\n",
       "      <td>4.000000</td>\n",
       "      <td>4.000000</td>\n",
       "      <td>4.000000</td>\n",
       "      <td>4.000000</td>\n",
       "      <td>4.000000</td>\n",
       "      <td>4.000000</td>\n",
       "      <td>4.000000</td>\n",
       "      <td>1.000000</td>\n",
       "    </tr>\n",
       "  </tbody>\n",
       "</table>\n",
       "<p>8 rows × 55 columns</p>\n",
       "</div>"
      ],
      "text/plain": [
       "             Atr1        Atr2        Atr3        Atr4        Atr5        Atr6  \\\n",
       "count  170.000000  170.000000  170.000000  170.000000  170.000000  170.000000   \n",
       "mean     1.776471    1.652941    1.764706    1.482353    1.541176    0.747059   \n",
       "std      1.627257    1.468654    1.415444    1.504327    1.632169    0.904046   \n",
       "min      0.000000    0.000000    0.000000    0.000000    0.000000    0.000000   \n",
       "25%      0.000000    0.000000    0.000000    0.000000    0.000000    0.000000   \n",
       "50%      2.000000    2.000000    2.000000    1.000000    1.000000    0.000000   \n",
       "75%      3.000000    3.000000    3.000000    3.000000    3.000000    1.000000   \n",
       "max      4.000000    4.000000    4.000000    4.000000    4.000000    4.000000   \n",
       "\n",
       "             Atr7        Atr8        Atr9       Atr10  ...       Atr46  \\\n",
       "count  170.000000  170.000000  170.000000  170.000000  ...  170.000000   \n",
       "mean     0.494118    1.452941    1.458824    1.576471  ...    2.552941   \n",
       "std      0.898698    1.546371    1.557976    1.421529  ...    1.371786   \n",
       "min      0.000000    0.000000    0.000000    0.000000  ...    0.000000   \n",
       "25%      0.000000    0.000000    0.000000    0.000000  ...    2.000000   \n",
       "50%      0.000000    1.000000    1.000000    2.000000  ...    3.000000   \n",
       "75%      1.000000    3.000000    3.000000    3.000000  ...    4.000000   \n",
       "max      4.000000    4.000000    4.000000    4.000000  ...    4.000000   \n",
       "\n",
       "            Atr47       Atr48       Atr49       Atr50       Atr51       Atr52  \\\n",
       "count  170.000000  170.000000  170.000000  170.000000  170.000000  170.000000   \n",
       "mean     2.270588    2.741176    2.382353    2.429412    2.476471    2.517647   \n",
       "std      1.586841    1.137348    1.511587    1.405090    1.260238    1.476537   \n",
       "min      0.000000    0.000000    0.000000    0.000000    0.000000    0.000000   \n",
       "25%      1.000000    2.000000    1.000000    1.000000    2.000000    1.000000   \n",
       "50%      2.000000    3.000000    3.000000    2.000000    3.000000    3.000000   \n",
       "75%      4.000000    4.000000    4.000000    4.000000    4.000000    4.000000   \n",
       "max      4.000000    4.000000    4.000000    4.000000    4.000000    4.000000   \n",
       "\n",
       "            Atr53       Atr54       Class  \n",
       "count  170.000000  170.000000  170.000000  \n",
       "mean     2.241176    2.011765    0.494118  \n",
       "std      1.505634    1.667611    0.501442  \n",
       "min      0.000000    0.000000    0.000000  \n",
       "25%      1.000000    0.000000    0.000000  \n",
       "50%      2.000000    2.000000    0.000000  \n",
       "75%      4.000000    4.000000    1.000000  \n",
       "max      4.000000    4.000000    1.000000  \n",
       "\n",
       "[8 rows x 55 columns]"
      ]
     },
     "execution_count": 8,
     "metadata": {},
     "output_type": "execute_result"
    }
   ],
   "source": [
    "data.describe()"
   ]
  },
  {
   "cell_type": "code",
   "execution_count": null,
   "metadata": {},
   "outputs": [],
   "source": []
  },
  {
   "cell_type": "code",
   "execution_count": 3,
   "metadata": {
    "gather": {
     "logged": 1598423890461
    },
    "jupyter": {
     "outputs_hidden": false,
     "source_hidden": false
    },
    "nteract": {
     "transient": {
      "deleting": false
     }
    }
   },
   "outputs": [],
   "source": [
    "ws = Workspace.from_config()\n",
    "\n",
    "# choose a name for experiment\n",
    "experiment_name = 'CapstoneExp'\n",
    "\n",
    "experiment=Experiment(ws, experiment_name)"
   ]
  },
  {
   "cell_type": "code",
   "execution_count": 4,
   "metadata": {},
   "outputs": [
    {
     "name": "stdout",
     "output_type": "stream",
     "text": [
      "optCompute exists already\n",
      "Succeeded\n",
      "AmlCompute wait for completion finished\n",
      "\n",
      "Minimum number of nodes requested have been provisioned\n"
     ]
    }
   ],
   "source": [
    "# Compute name should contain only letters, digits, hyphen and should be 2-16 charachters long\n",
    "compute_name = \"optCompute\"\n",
    "try:\n",
    "    trainCluster = ComputeTarget(ws, compute_name)\n",
    "    print(f\"{compute_name} exists already\")\n",
    "except:\n",
    "    compute_config = AmlCompute.provisioning_configuration(vm_size=\"Standard_D2_V2\", max_nodes=5)\n",
    "    trainCluster = ComputeTarget.create(ws, compute_name, compute_config)\n",
    "trainCluster.wait_for_completion(show_output=True)"
   ]
  },
  {
   "cell_type": "markdown",
   "metadata": {},
   "source": [
    "## AutoML Configuration\n",
    "\n",
    "TODO: Explain why you chose the automl settings and cofiguration you used below."
   ]
  },
  {
   "cell_type": "code",
   "execution_count": 10,
   "metadata": {
    "gather": {
     "logged": 1598429217746
    },
    "jupyter": {
     "outputs_hidden": false,
     "source_hidden": false
    },
    "nteract": {
     "transient": {
      "deleting": false
     }
    }
   },
   "outputs": [],
   "source": [
    "# TODO: Put your automl settings here\n",
    "automl_settings = {\n",
    "    \"experiment_timeout_minutes\": 20,\n",
    "    \"max_concurrent_iterations\": 5,\n",
    "    \"primary_metric\" : 'accuracy'\n",
    "}\n",
    "\n",
    "# TODO: Put your automl config here\n",
    "automl_config = AutoMLConfig(\n",
    "        task='classification',\n",
    "        compute_target=trainCluster,\n",
    "        training_data=ds,\n",
    "        label_column_name='Class',\n",
    "        n_cross_validations=5,\n",
    "        **automl_settings\n",
    ")"
   ]
  },
  {
   "cell_type": "code",
   "execution_count": 11,
   "metadata": {
    "gather": {
     "logged": 1598431107951
    },
    "jupyter": {
     "outputs_hidden": false,
     "source_hidden": false
    },
    "nteract": {
     "transient": {
      "deleting": false
     }
    }
   },
   "outputs": [
    {
     "name": "stdout",
     "output_type": "stream",
     "text": [
      "Running on remote.\n"
     ]
    }
   ],
   "source": [
    "# TODO: Submit your experiment\n",
    "remote_run = experiment.submit(automl_config)"
   ]
  },
  {
   "cell_type": "markdown",
   "metadata": {},
   "source": [
    "## Run Details\n",
    "\n",
    "OPTIONAL: Write about the different models trained and their performance. Why do you think some models did better than others?\n",
    "\n",
    "TODO: In the cell below, use the `RunDetails` widget to show the different experiments."
   ]
  },
  {
   "cell_type": "code",
   "execution_count": 12,
   "metadata": {
    "gather": {
     "logged": 1598431121770
    },
    "jupyter": {
     "outputs_hidden": false,
     "source_hidden": false
    },
    "nteract": {
     "transient": {
      "deleting": false
     }
    }
   },
   "outputs": [
    {
     "data": {
      "application/vnd.jupyter.widget-view+json": {
       "model_id": "fd6f566573da4af6bf0b7e2cf8e06857",
       "version_major": 2,
       "version_minor": 0
      },
      "text/plain": [
       "_AutoMLWidget(widget_settings={'childWidgetDisplay': 'popup', 'send_telemetry': False, 'log_level': 'INFO', 's…"
      ]
     },
     "metadata": {},
     "output_type": "display_data"
    },
    {
     "data": {
      "application/aml.mini.widget.v1": "{\"status\": \"Completed\", \"workbench_run_details_uri\": \"https://ml.azure.com/experiments/CapstoneExp/runs/AutoML_ce25be63-6ad2-40b3-9fb4-4e1a156aa6f9?wsid=/subscriptions/d7f39349-a66b-446e-aba6-0053c2cf1c11/resourcegroups/aml-quickstarts-133988/workspaces/quick-starts-ws-133988\", \"run_id\": \"AutoML_ce25be63-6ad2-40b3-9fb4-4e1a156aa6f9\", \"run_properties\": {\"run_id\": \"AutoML_ce25be63-6ad2-40b3-9fb4-4e1a156aa6f9\", \"created_utc\": \"2021-01-08T18:03:55.960437Z\", \"properties\": {\"num_iterations\": \"1000\", \"training_type\": \"TrainFull\", \"acquisition_function\": \"EI\", \"primary_metric\": \"accuracy\", \"train_split\": \"0\", \"acquisition_parameter\": \"0\", \"num_cross_validation\": \"5\", \"target\": \"optCompute\", \"AMLSettingsJsonString\": \"{\\\"path\\\":null,\\\"name\\\":\\\"CapstoneExp\\\",\\\"subscription_id\\\":\\\"d7f39349-a66b-446e-aba6-0053c2cf1c11\\\",\\\"resource_group\\\":\\\"aml-quickstarts-133988\\\",\\\"workspace_name\\\":\\\"quick-starts-ws-133988\\\",\\\"region\\\":\\\"southcentralus\\\",\\\"compute_target\\\":\\\"optCompute\\\",\\\"spark_service\\\":null,\\\"azure_service\\\":\\\"remote\\\",\\\"many_models\\\":false,\\\"pipeline_fetch_max_batch_size\\\":1,\\\"iterations\\\":1000,\\\"primary_metric\\\":\\\"accuracy\\\",\\\"task_type\\\":\\\"classification\\\",\\\"data_script\\\":null,\\\"validation_size\\\":0.0,\\\"n_cross_validations\\\":5,\\\"y_min\\\":null,\\\"y_max\\\":null,\\\"num_classes\\\":null,\\\"featurization\\\":\\\"auto\\\",\\\"_ignore_package_version_incompatibilities\\\":false,\\\"is_timeseries\\\":false,\\\"max_cores_per_iteration\\\":1,\\\"max_concurrent_iterations\\\":5,\\\"iteration_timeout_minutes\\\":null,\\\"mem_in_mb\\\":null,\\\"enforce_time_on_windows\\\":false,\\\"experiment_timeout_minutes\\\":20,\\\"experiment_exit_score\\\":null,\\\"whitelist_models\\\":null,\\\"blacklist_algos\\\":[\\\"TensorFlowLinearClassifier\\\",\\\"TensorFlowDNN\\\"],\\\"supported_models\\\":[\\\"LinearSVM\\\",\\\"AveragedPerceptronClassifier\\\",\\\"SGD\\\",\\\"MultinomialNaiveBayes\\\",\\\"SVM\\\",\\\"RandomForest\\\",\\\"TensorFlowDNN\\\",\\\"BernoulliNaiveBayes\\\",\\\"TensorFlowLinearClassifier\\\",\\\"KNN\\\",\\\"ExtremeRandomTrees\\\",\\\"XGBoostClassifier\\\",\\\"DecisionTree\\\",\\\"LogisticRegression\\\",\\\"LightGBM\\\",\\\"GradientBoosting\\\"],\\\"auto_blacklist\\\":true,\\\"blacklist_samples_reached\\\":false,\\\"exclude_nan_labels\\\":true,\\\"verbosity\\\":20,\\\"_debug_log\\\":\\\"azureml_automl.log\\\",\\\"show_warnings\\\":false,\\\"model_explainability\\\":true,\\\"service_url\\\":null,\\\"sdk_url\\\":null,\\\"sdk_packages\\\":null,\\\"enable_onnx_compatible_models\\\":false,\\\"enable_split_onnx_featurizer_estimator_models\\\":false,\\\"vm_type\\\":\\\"STANDARD_D2_V2\\\",\\\"telemetry_verbosity\\\":20,\\\"send_telemetry\\\":true,\\\"enable_dnn\\\":false,\\\"scenario\\\":\\\"SDK-1.13.0\\\",\\\"environment_label\\\":null,\\\"force_text_dnn\\\":false,\\\"enable_feature_sweeping\\\":true,\\\"enable_early_stopping\\\":false,\\\"early_stopping_n_iters\\\":10,\\\"metrics\\\":null,\\\"enable_ensembling\\\":true,\\\"enable_stack_ensembling\\\":true,\\\"ensemble_iterations\\\":15,\\\"enable_tf\\\":false,\\\"enable_subsampling\\\":null,\\\"subsample_seed\\\":null,\\\"enable_nimbusml\\\":false,\\\"enable_streaming\\\":false,\\\"force_streaming\\\":false,\\\"track_child_runs\\\":true,\\\"allowed_private_models\\\":[],\\\"label_column_name\\\":\\\"Class\\\",\\\"weight_column_name\\\":null,\\\"cv_split_column_names\\\":null,\\\"enable_local_managed\\\":false,\\\"_local_managed_run_id\\\":null,\\\"cost_mode\\\":1,\\\"lag_length\\\":0,\\\"metric_operation\\\":\\\"maximize\\\",\\\"preprocess\\\":true}\", \"DataPrepJsonString\": \"{\\\\\\\"training_data\\\\\\\": \\\\\\\"{\\\\\\\\\\\\\\\"blocks\\\\\\\\\\\\\\\": [{\\\\\\\\\\\\\\\"id\\\\\\\\\\\\\\\": \\\\\\\\\\\\\\\"70ea0057-b9c5-4ade-83e4-b7cc36aa1b70\\\\\\\\\\\\\\\", \\\\\\\\\\\\\\\"type\\\\\\\\\\\\\\\": \\\\\\\\\\\\\\\"Microsoft.DPrep.GetFilesBlock\\\\\\\\\\\\\\\", \\\\\\\\\\\\\\\"arguments\\\\\\\\\\\\\\\": {\\\\\\\\\\\\\\\"isArchive\\\\\\\\\\\\\\\": false, \\\\\\\\\\\\\\\"path\\\\\\\\\\\\\\\": {\\\\\\\\\\\\\\\"target\\\\\\\\\\\\\\\": 4, \\\\\\\\\\\\\\\"resourceDetails\\\\\\\\\\\\\\\": [{\\\\\\\\\\\\\\\"path\\\\\\\\\\\\\\\": \\\\\\\\\\\\\\\"https://raw.githubusercontent.com/khalidw/Capstone-Project-Azure-Machine-Learning-Engineer/master/divorce.csv\\\\\\\\\\\\\\\"}]}}, \\\\\\\\\\\\\\\"localData\\\\\\\\\\\\\\\": {}, \\\\\\\\\\\\\\\"isEnabled\\\\\\\\\\\\\\\": true, \\\\\\\\\\\\\\\"name\\\\\\\\\\\\\\\": null, \\\\\\\\\\\\\\\"annotation\\\\\\\\\\\\\\\": null}, {\\\\\\\\\\\\\\\"id\\\\\\\\\\\\\\\": \\\\\\\\\\\\\\\"6b3a0763-6514-4836-b41a-a06e89d245e6\\\\\\\\\\\\\\\", \\\\\\\\\\\\\\\"type\\\\\\\\\\\\\\\": \\\\\\\\\\\\\\\"Microsoft.DPrep.ParseDelimitedBlock\\\\\\\\\\\\\\\", \\\\\\\\\\\\\\\"arguments\\\\\\\\\\\\\\\": {\\\\\\\\\\\\\\\"columnHeadersMode\\\\\\\\\\\\\\\": 3, \\\\\\\\\\\\\\\"fileEncoding\\\\\\\\\\\\\\\": 0, \\\\\\\\\\\\\\\"handleQuotedLineBreaks\\\\\\\\\\\\\\\": false, \\\\\\\\\\\\\\\"preview\\\\\\\\\\\\\\\": false, \\\\\\\\\\\\\\\"separator\\\\\\\\\\\\\\\": \\\\\\\\\\\\\\\",\\\\\\\\\\\\\\\", \\\\\\\\\\\\\\\"skipRows\\\\\\\\\\\\\\\": 0, \\\\\\\\\\\\\\\"skipRowsMode\\\\\\\\\\\\\\\": 0}, \\\\\\\\\\\\\\\"localData\\\\\\\\\\\\\\\": {}, \\\\\\\\\\\\\\\"isEnabled\\\\\\\\\\\\\\\": true, \\\\\\\\\\\\\\\"name\\\\\\\\\\\\\\\": null, \\\\\\\\\\\\\\\"annotation\\\\\\\\\\\\\\\": null}, {\\\\\\\\\\\\\\\"id\\\\\\\\\\\\\\\": \\\\\\\\\\\\\\\"56bde4f4-e309-4d8b-b395-ec05d11b8a5c\\\\\\\\\\\\\\\", \\\\\\\\\\\\\\\"type\\\\\\\\\\\\\\\": \\\\\\\\\\\\\\\"Microsoft.DPrep.DropColumnsBlock\\\\\\\\\\\\\\\", \\\\\\\\\\\\\\\"arguments\\\\\\\\\\\\\\\": {\\\\\\\\\\\\\\\"columns\\\\\\\\\\\\\\\": {\\\\\\\\\\\\\\\"type\\\\\\\\\\\\\\\": 0, \\\\\\\\\\\\\\\"details\\\\\\\\\\\\\\\": {\\\\\\\\\\\\\\\"selectedColumns\\\\\\\\\\\\\\\": [\\\\\\\\\\\\\\\"Path\\\\\\\\\\\\\\\"]}}}, \\\\\\\\\\\\\\\"localData\\\\\\\\\\\\\\\": {}, \\\\\\\\\\\\\\\"isEnabled\\\\\\\\\\\\\\\": true, \\\\\\\\\\\\\\\"name\\\\\\\\\\\\\\\": null, \\\\\\\\\\\\\\\"annotation\\\\\\\\\\\\\\\": null}, {\\\\\\\\\\\\\\\"id\\\\\\\\\\\\\\\": \\\\\\\\\\\\\\\"49e57369-55d5-47f6-8f1d-336925f082ec\\\\\\\\\\\\\\\", \\\\\\\\\\\\\\\"type\\\\\\\\\\\\\\\": \\\\\\\\\\\\\\\"Microsoft.DPrep.SetColumnTypesBlock\\\\\\\\\\\\\\\", \\\\\\\\\\\\\\\"arguments\\\\\\\\\\\\\\\": {\\\\\\\\\\\\\\\"columnConversion\\\\\\\\\\\\\\\": [{\\\\\\\\\\\\\\\"column\\\\\\\\\\\\\\\": {\\\\\\\\\\\\\\\"type\\\\\\\\\\\\\\\": 2, \\\\\\\\\\\\\\\"details\\\\\\\\\\\\\\\": {\\\\\\\\\\\\\\\"selectedColumn\\\\\\\\\\\\\\\": \\\\\\\\\\\\\\\"Atr1\\\\\\\\\\\\\\\"}}, \\\\\\\\\\\\\\\"typeProperty\\\\\\\\\\\\\\\": 2}, {\\\\\\\\\\\\\\\"column\\\\\\\\\\\\\\\": {\\\\\\\\\\\\\\\"type\\\\\\\\\\\\\\\": 2, \\\\\\\\\\\\\\\"details\\\\\\\\\\\\\\\": {\\\\\\\\\\\\\\\"selectedColumn\\\\\\\\\\\\\\\": \\\\\\\\\\\\\\\"Atr2\\\\\\\\\\\\\\\"}}, \\\\\\\\\\\\\\\"typeProperty\\\\\\\\\\\\\\\": 2}, {\\\\\\\\\\\\\\\"column\\\\\\\\\\\\\\\": {\\\\\\\\\\\\\\\"type\\\\\\\\\\\\\\\": 2, \\\\\\\\\\\\\\\"details\\\\\\\\\\\\\\\": {\\\\\\\\\\\\\\\"selectedColumn\\\\\\\\\\\\\\\": \\\\\\\\\\\\\\\"Atr3\\\\\\\\\\\\\\\"}}, \\\\\\\\\\\\\\\"typeProperty\\\\\\\\\\\\\\\": 2}, {\\\\\\\\\\\\\\\"column\\\\\\\\\\\\\\\": {\\\\\\\\\\\\\\\"type\\\\\\\\\\\\\\\": 2, \\\\\\\\\\\\\\\"details\\\\\\\\\\\\\\\": {\\\\\\\\\\\\\\\"selectedColumn\\\\\\\\\\\\\\\": \\\\\\\\\\\\\\\"Atr4\\\\\\\\\\\\\\\"}}, \\\\\\\\\\\\\\\"typeProperty\\\\\\\\\\\\\\\": 2}, {\\\\\\\\\\\\\\\"column\\\\\\\\\\\\\\\": {\\\\\\\\\\\\\\\"type\\\\\\\\\\\\\\\": 2, \\\\\\\\\\\\\\\"details\\\\\\\\\\\\\\\": {\\\\\\\\\\\\\\\"selectedColumn\\\\\\\\\\\\\\\": \\\\\\\\\\\\\\\"Atr5\\\\\\\\\\\\\\\"}}, \\\\\\\\\\\\\\\"typeProperty\\\\\\\\\\\\\\\": 2}, {\\\\\\\\\\\\\\\"column\\\\\\\\\\\\\\\": {\\\\\\\\\\\\\\\"type\\\\\\\\\\\\\\\": 2, \\\\\\\\\\\\\\\"details\\\\\\\\\\\\\\\": {\\\\\\\\\\\\\\\"selectedColumn\\\\\\\\\\\\\\\": \\\\\\\\\\\\\\\"Atr6\\\\\\\\\\\\\\\"}}, \\\\\\\\\\\\\\\"typeProperty\\\\\\\\\\\\\\\": 2}, {\\\\\\\\\\\\\\\"column\\\\\\\\\\\\\\\": {\\\\\\\\\\\\\\\"type\\\\\\\\\\\\\\\": 2, \\\\\\\\\\\\\\\"details\\\\\\\\\\\\\\\": {\\\\\\\\\\\\\\\"selectedColumn\\\\\\\\\\\\\\\": \\\\\\\\\\\\\\\"Atr7\\\\\\\\\\\\\\\"}}, \\\\\\\\\\\\\\\"typeProperty\\\\\\\\\\\\\\\": 2}, {\\\\\\\\\\\\\\\"column\\\\\\\\\\\\\\\": {\\\\\\\\\\\\\\\"type\\\\\\\\\\\\\\\": 2, \\\\\\\\\\\\\\\"details\\\\\\\\\\\\\\\": {\\\\\\\\\\\\\\\"selectedColumn\\\\\\\\\\\\\\\": \\\\\\\\\\\\\\\"Atr8\\\\\\\\\\\\\\\"}}, \\\\\\\\\\\\\\\"typeProperty\\\\\\\\\\\\\\\": 2}, {\\\\\\\\\\\\\\\"column\\\\\\\\\\\\\\\": {\\\\\\\\\\\\\\\"type\\\\\\\\\\\\\\\": 2, \\\\\\\\\\\\\\\"details\\\\\\\\\\\\\\\": {\\\\\\\\\\\\\\\"selectedColumn\\\\\\\\\\\\\\\": \\\\\\\\\\\\\\\"Atr9\\\\\\\\\\\\\\\"}}, \\\\\\\\\\\\\\\"typeProperty\\\\\\\\\\\\\\\": 2}, {\\\\\\\\\\\\\\\"column\\\\\\\\\\\\\\\": {\\\\\\\\\\\\\\\"type\\\\\\\\\\\\\\\": 2, \\\\\\\\\\\\\\\"details\\\\\\\\\\\\\\\": {\\\\\\\\\\\\\\\"selectedColumn\\\\\\\\\\\\\\\": \\\\\\\\\\\\\\\"Atr10\\\\\\\\\\\\\\\"}}, \\\\\\\\\\\\\\\"typeProperty\\\\\\\\\\\\\\\": 2}, {\\\\\\\\\\\\\\\"column\\\\\\\\\\\\\\\": {\\\\\\\\\\\\\\\"type\\\\\\\\\\\\\\\": 2, \\\\\\\\\\\\\\\"details\\\\\\\\\\\\\\\": {\\\\\\\\\\\\\\\"selectedColumn\\\\\\\\\\\\\\\": \\\\\\\\\\\\\\\"Atr11\\\\\\\\\\\\\\\"}}, \\\\\\\\\\\\\\\"typeProperty\\\\\\\\\\\\\\\": 2}, {\\\\\\\\\\\\\\\"column\\\\\\\\\\\\\\\": {\\\\\\\\\\\\\\\"type\\\\\\\\\\\\\\\": 2, \\\\\\\\\\\\\\\"details\\\\\\\\\\\\\\\": {\\\\\\\\\\\\\\\"selectedColumn\\\\\\\\\\\\\\\": \\\\\\\\\\\\\\\"Atr12\\\\\\\\\\\\\\\"}}, \\\\\\\\\\\\\\\"typeProperty\\\\\\\\\\\\\\\": 2}, {\\\\\\\\\\\\\\\"column\\\\\\\\\\\\\\\": {\\\\\\\\\\\\\\\"type\\\\\\\\\\\\\\\": 2, \\\\\\\\\\\\\\\"details\\\\\\\\\\\\\\\": {\\\\\\\\\\\\\\\"selectedColumn\\\\\\\\\\\\\\\": \\\\\\\\\\\\\\\"Atr13\\\\\\\\\\\\\\\"}}, \\\\\\\\\\\\\\\"typeProperty\\\\\\\\\\\\\\\": 2}, {\\\\\\\\\\\\\\\"column\\\\\\\\\\\\\\\": {\\\\\\\\\\\\\\\"type\\\\\\\\\\\\\\\": 2, \\\\\\\\\\\\\\\"details\\\\\\\\\\\\\\\": {\\\\\\\\\\\\\\\"selectedColumn\\\\\\\\\\\\\\\": \\\\\\\\\\\\\\\"Atr14\\\\\\\\\\\\\\\"}}, \\\\\\\\\\\\\\\"typeProperty\\\\\\\\\\\\\\\": 2}, {\\\\\\\\\\\\\\\"column\\\\\\\\\\\\\\\": {\\\\\\\\\\\\\\\"type\\\\\\\\\\\\\\\": 2, \\\\\\\\\\\\\\\"details\\\\\\\\\\\\\\\": {\\\\\\\\\\\\\\\"selectedColumn\\\\\\\\\\\\\\\": \\\\\\\\\\\\\\\"Atr15\\\\\\\\\\\\\\\"}}, \\\\\\\\\\\\\\\"typeProperty\\\\\\\\\\\\\\\": 2}, {\\\\\\\\\\\\\\\"column\\\\\\\\\\\\\\\": {\\\\\\\\\\\\\\\"type\\\\\\\\\\\\\\\": 2, \\\\\\\\\\\\\\\"details\\\\\\\\\\\\\\\": {\\\\\\\\\\\\\\\"selectedColumn\\\\\\\\\\\\\\\": \\\\\\\\\\\\\\\"Atr16\\\\\\\\\\\\\\\"}}, \\\\\\\\\\\\\\\"typeProperty\\\\\\\\\\\\\\\": 2}, {\\\\\\\\\\\\\\\"column\\\\\\\\\\\\\\\": {\\\\\\\\\\\\\\\"type\\\\\\\\\\\\\\\": 2, \\\\\\\\\\\\\\\"details\\\\\\\\\\\\\\\": {\\\\\\\\\\\\\\\"selectedColumn\\\\\\\\\\\\\\\": \\\\\\\\\\\\\\\"Atr17\\\\\\\\\\\\\\\"}}, \\\\\\\\\\\\\\\"typeProperty\\\\\\\\\\\\\\\": 2}, {\\\\\\\\\\\\\\\"column\\\\\\\\\\\\\\\": {\\\\\\\\\\\\\\\"type\\\\\\\\\\\\\\\": 2, \\\\\\\\\\\\\\\"details\\\\\\\\\\\\\\\": {\\\\\\\\\\\\\\\"selectedColumn\\\\\\\\\\\\\\\": \\\\\\\\\\\\\\\"Atr18\\\\\\\\\\\\\\\"}}, \\\\\\\\\\\\\\\"typeProperty\\\\\\\\\\\\\\\": 2}, {\\\\\\\\\\\\\\\"column\\\\\\\\\\\\\\\": {\\\\\\\\\\\\\\\"type\\\\\\\\\\\\\\\": 2, \\\\\\\\\\\\\\\"details\\\\\\\\\\\\\\\": {\\\\\\\\\\\\\\\"selectedColumn\\\\\\\\\\\\\\\": \\\\\\\\\\\\\\\"Atr19\\\\\\\\\\\\\\\"}}, \\\\\\\\\\\\\\\"typeProperty\\\\\\\\\\\\\\\": 2}, {\\\\\\\\\\\\\\\"column\\\\\\\\\\\\\\\": {\\\\\\\\\\\\\\\"type\\\\\\\\\\\\\\\": 2, \\\\\\\\\\\\\\\"details\\\\\\\\\\\\\\\": {\\\\\\\\\\\\\\\"selectedColumn\\\\\\\\\\\\\\\": \\\\\\\\\\\\\\\"Atr20\\\\\\\\\\\\\\\"}}, \\\\\\\\\\\\\\\"typeProperty\\\\\\\\\\\\\\\": 2}, {\\\\\\\\\\\\\\\"column\\\\\\\\\\\\\\\": {\\\\\\\\\\\\\\\"type\\\\\\\\\\\\\\\": 2, \\\\\\\\\\\\\\\"details\\\\\\\\\\\\\\\": {\\\\\\\\\\\\\\\"selectedColumn\\\\\\\\\\\\\\\": \\\\\\\\\\\\\\\"Atr21\\\\\\\\\\\\\\\"}}, \\\\\\\\\\\\\\\"typeProperty\\\\\\\\\\\\\\\": 2}, {\\\\\\\\\\\\\\\"column\\\\\\\\\\\\\\\": {\\\\\\\\\\\\\\\"type\\\\\\\\\\\\\\\": 2, \\\\\\\\\\\\\\\"details\\\\\\\\\\\\\\\": {\\\\\\\\\\\\\\\"selectedColumn\\\\\\\\\\\\\\\": \\\\\\\\\\\\\\\"Atr22\\\\\\\\\\\\\\\"}}, \\\\\\\\\\\\\\\"typeProperty\\\\\\\\\\\\\\\": 2}, {\\\\\\\\\\\\\\\"column\\\\\\\\\\\\\\\": {\\\\\\\\\\\\\\\"type\\\\\\\\\\\\\\\": 2, \\\\\\\\\\\\\\\"details\\\\\\\\\\\\\\\": {\\\\\\\\\\\\\\\"selectedColumn\\\\\\\\\\\\\\\": \\\\\\\\\\\\\\\"Atr23\\\\\\\\\\\\\\\"}}, \\\\\\\\\\\\\\\"typeProperty\\\\\\\\\\\\\\\": 2}, {\\\\\\\\\\\\\\\"column\\\\\\\\\\\\\\\": {\\\\\\\\\\\\\\\"type\\\\\\\\\\\\\\\": 2, \\\\\\\\\\\\\\\"details\\\\\\\\\\\\\\\": {\\\\\\\\\\\\\\\"selectedColumn\\\\\\\\\\\\\\\": \\\\\\\\\\\\\\\"Atr24\\\\\\\\\\\\\\\"}}, \\\\\\\\\\\\\\\"typeProperty\\\\\\\\\\\\\\\": 2}, {\\\\\\\\\\\\\\\"column\\\\\\\\\\\\\\\": {\\\\\\\\\\\\\\\"type\\\\\\\\\\\\\\\": 2, \\\\\\\\\\\\\\\"details\\\\\\\\\\\\\\\": {\\\\\\\\\\\\\\\"selectedColumn\\\\\\\\\\\\\\\": \\\\\\\\\\\\\\\"Atr25\\\\\\\\\\\\\\\"}}, \\\\\\\\\\\\\\\"typeProperty\\\\\\\\\\\\\\\": 2}, {\\\\\\\\\\\\\\\"column\\\\\\\\\\\\\\\": {\\\\\\\\\\\\\\\"type\\\\\\\\\\\\\\\": 2, \\\\\\\\\\\\\\\"details\\\\\\\\\\\\\\\": {\\\\\\\\\\\\\\\"selectedColumn\\\\\\\\\\\\\\\": \\\\\\\\\\\\\\\"Atr26\\\\\\\\\\\\\\\"}}, \\\\\\\\\\\\\\\"typeProperty\\\\\\\\\\\\\\\": 2}, {\\\\\\\\\\\\\\\"column\\\\\\\\\\\\\\\": {\\\\\\\\\\\\\\\"type\\\\\\\\\\\\\\\": 2, \\\\\\\\\\\\\\\"details\\\\\\\\\\\\\\\": {\\\\\\\\\\\\\\\"selectedColumn\\\\\\\\\\\\\\\": \\\\\\\\\\\\\\\"Atr27\\\\\\\\\\\\\\\"}}, \\\\\\\\\\\\\\\"typeProperty\\\\\\\\\\\\\\\": 2}, {\\\\\\\\\\\\\\\"column\\\\\\\\\\\\\\\": {\\\\\\\\\\\\\\\"type\\\\\\\\\\\\\\\": 2, \\\\\\\\\\\\\\\"details\\\\\\\\\\\\\\\": {\\\\\\\\\\\\\\\"selectedColumn\\\\\\\\\\\\\\\": \\\\\\\\\\\\\\\"Atr28\\\\\\\\\\\\\\\"}}, \\\\\\\\\\\\\\\"typeProperty\\\\\\\\\\\\\\\": 2}, {\\\\\\\\\\\\\\\"column\\\\\\\\\\\\\\\": {\\\\\\\\\\\\\\\"type\\\\\\\\\\\\\\\": 2, \\\\\\\\\\\\\\\"details\\\\\\\\\\\\\\\": {\\\\\\\\\\\\\\\"selectedColumn\\\\\\\\\\\\\\\": \\\\\\\\\\\\\\\"Atr29\\\\\\\\\\\\\\\"}}, \\\\\\\\\\\\\\\"typeProperty\\\\\\\\\\\\\\\": 2}, {\\\\\\\\\\\\\\\"column\\\\\\\\\\\\\\\": {\\\\\\\\\\\\\\\"type\\\\\\\\\\\\\\\": 2, \\\\\\\\\\\\\\\"details\\\\\\\\\\\\\\\": {\\\\\\\\\\\\\\\"selectedColumn\\\\\\\\\\\\\\\": \\\\\\\\\\\\\\\"Atr30\\\\\\\\\\\\\\\"}}, \\\\\\\\\\\\\\\"typeProperty\\\\\\\\\\\\\\\": 2}, {\\\\\\\\\\\\\\\"column\\\\\\\\\\\\\\\": {\\\\\\\\\\\\\\\"type\\\\\\\\\\\\\\\": 2, \\\\\\\\\\\\\\\"details\\\\\\\\\\\\\\\": {\\\\\\\\\\\\\\\"selectedColumn\\\\\\\\\\\\\\\": \\\\\\\\\\\\\\\"Atr31\\\\\\\\\\\\\\\"}}, \\\\\\\\\\\\\\\"typeProperty\\\\\\\\\\\\\\\": 2}, {\\\\\\\\\\\\\\\"column\\\\\\\\\\\\\\\": {\\\\\\\\\\\\\\\"type\\\\\\\\\\\\\\\": 2, \\\\\\\\\\\\\\\"details\\\\\\\\\\\\\\\": {\\\\\\\\\\\\\\\"selectedColumn\\\\\\\\\\\\\\\": \\\\\\\\\\\\\\\"Atr32\\\\\\\\\\\\\\\"}}, \\\\\\\\\\\\\\\"typeProperty\\\\\\\\\\\\\\\": 2}, {\\\\\\\\\\\\\\\"column\\\\\\\\\\\\\\\": {\\\\\\\\\\\\\\\"type\\\\\\\\\\\\\\\": 2, \\\\\\\\\\\\\\\"details\\\\\\\\\\\\\\\": {\\\\\\\\\\\\\\\"selectedColumn\\\\\\\\\\\\\\\": \\\\\\\\\\\\\\\"Atr33\\\\\\\\\\\\\\\"}}, \\\\\\\\\\\\\\\"typeProperty\\\\\\\\\\\\\\\": 2}, {\\\\\\\\\\\\\\\"column\\\\\\\\\\\\\\\": {\\\\\\\\\\\\\\\"type\\\\\\\\\\\\\\\": 2, \\\\\\\\\\\\\\\"details\\\\\\\\\\\\\\\": {\\\\\\\\\\\\\\\"selectedColumn\\\\\\\\\\\\\\\": \\\\\\\\\\\\\\\"Atr34\\\\\\\\\\\\\\\"}}, \\\\\\\\\\\\\\\"typeProperty\\\\\\\\\\\\\\\": 2}, {\\\\\\\\\\\\\\\"column\\\\\\\\\\\\\\\": {\\\\\\\\\\\\\\\"type\\\\\\\\\\\\\\\": 2, \\\\\\\\\\\\\\\"details\\\\\\\\\\\\\\\": {\\\\\\\\\\\\\\\"selectedColumn\\\\\\\\\\\\\\\": \\\\\\\\\\\\\\\"Atr35\\\\\\\\\\\\\\\"}}, \\\\\\\\\\\\\\\"typeProperty\\\\\\\\\\\\\\\": 2}, {\\\\\\\\\\\\\\\"column\\\\\\\\\\\\\\\": {\\\\\\\\\\\\\\\"type\\\\\\\\\\\\\\\": 2, \\\\\\\\\\\\\\\"details\\\\\\\\\\\\\\\": {\\\\\\\\\\\\\\\"selectedColumn\\\\\\\\\\\\\\\": \\\\\\\\\\\\\\\"Atr36\\\\\\\\\\\\\\\"}}, \\\\\\\\\\\\\\\"typeProperty\\\\\\\\\\\\\\\": 2}, {\\\\\\\\\\\\\\\"column\\\\\\\\\\\\\\\": {\\\\\\\\\\\\\\\"type\\\\\\\\\\\\\\\": 2, \\\\\\\\\\\\\\\"details\\\\\\\\\\\\\\\": {\\\\\\\\\\\\\\\"selectedColumn\\\\\\\\\\\\\\\": \\\\\\\\\\\\\\\"Atr37\\\\\\\\\\\\\\\"}}, \\\\\\\\\\\\\\\"typeProperty\\\\\\\\\\\\\\\": 2}, {\\\\\\\\\\\\\\\"column\\\\\\\\\\\\\\\": {\\\\\\\\\\\\\\\"type\\\\\\\\\\\\\\\": 2, \\\\\\\\\\\\\\\"details\\\\\\\\\\\\\\\": {\\\\\\\\\\\\\\\"selectedColumn\\\\\\\\\\\\\\\": \\\\\\\\\\\\\\\"Atr38\\\\\\\\\\\\\\\"}}, \\\\\\\\\\\\\\\"typeProperty\\\\\\\\\\\\\\\": 2}, {\\\\\\\\\\\\\\\"column\\\\\\\\\\\\\\\": {\\\\\\\\\\\\\\\"type\\\\\\\\\\\\\\\": 2, \\\\\\\\\\\\\\\"details\\\\\\\\\\\\\\\": {\\\\\\\\\\\\\\\"selectedColumn\\\\\\\\\\\\\\\": \\\\\\\\\\\\\\\"Atr39\\\\\\\\\\\\\\\"}}, \\\\\\\\\\\\\\\"typeProperty\\\\\\\\\\\\\\\": 2}, {\\\\\\\\\\\\\\\"column\\\\\\\\\\\\\\\": {\\\\\\\\\\\\\\\"type\\\\\\\\\\\\\\\": 2, \\\\\\\\\\\\\\\"details\\\\\\\\\\\\\\\": {\\\\\\\\\\\\\\\"selectedColumn\\\\\\\\\\\\\\\": \\\\\\\\\\\\\\\"Atr40\\\\\\\\\\\\\\\"}}, \\\\\\\\\\\\\\\"typeProperty\\\\\\\\\\\\\\\": 2}, {\\\\\\\\\\\\\\\"column\\\\\\\\\\\\\\\": {\\\\\\\\\\\\\\\"type\\\\\\\\\\\\\\\": 2, \\\\\\\\\\\\\\\"details\\\\\\\\\\\\\\\": {\\\\\\\\\\\\\\\"selectedColumn\\\\\\\\\\\\\\\": \\\\\\\\\\\\\\\"Atr41\\\\\\\\\\\\\\\"}}, \\\\\\\\\\\\\\\"typeProperty\\\\\\\\\\\\\\\": 2}, {\\\\\\\\\\\\\\\"column\\\\\\\\\\\\\\\": {\\\\\\\\\\\\\\\"type\\\\\\\\\\\\\\\": 2, \\\\\\\\\\\\\\\"details\\\\\\\\\\\\\\\": {\\\\\\\\\\\\\\\"selectedColumn\\\\\\\\\\\\\\\": \\\\\\\\\\\\\\\"Atr42\\\\\\\\\\\\\\\"}}, \\\\\\\\\\\\\\\"typeProperty\\\\\\\\\\\\\\\": 2}, {\\\\\\\\\\\\\\\"column\\\\\\\\\\\\\\\": {\\\\\\\\\\\\\\\"type\\\\\\\\\\\\\\\": 2, \\\\\\\\\\\\\\\"details\\\\\\\\\\\\\\\": {\\\\\\\\\\\\\\\"selectedColumn\\\\\\\\\\\\\\\": \\\\\\\\\\\\\\\"Atr43\\\\\\\\\\\\\\\"}}, \\\\\\\\\\\\\\\"typeProperty\\\\\\\\\\\\\\\": 2}, {\\\\\\\\\\\\\\\"column\\\\\\\\\\\\\\\": {\\\\\\\\\\\\\\\"type\\\\\\\\\\\\\\\": 2, \\\\\\\\\\\\\\\"details\\\\\\\\\\\\\\\": {\\\\\\\\\\\\\\\"selectedColumn\\\\\\\\\\\\\\\": \\\\\\\\\\\\\\\"Atr44\\\\\\\\\\\\\\\"}}, \\\\\\\\\\\\\\\"typeProperty\\\\\\\\\\\\\\\": 2}, {\\\\\\\\\\\\\\\"column\\\\\\\\\\\\\\\": {\\\\\\\\\\\\\\\"type\\\\\\\\\\\\\\\": 2, \\\\\\\\\\\\\\\"details\\\\\\\\\\\\\\\": {\\\\\\\\\\\\\\\"selectedColumn\\\\\\\\\\\\\\\": \\\\\\\\\\\\\\\"Atr45\\\\\\\\\\\\\\\"}}, \\\\\\\\\\\\\\\"typeProperty\\\\\\\\\\\\\\\": 2}, {\\\\\\\\\\\\\\\"column\\\\\\\\\\\\\\\": {\\\\\\\\\\\\\\\"type\\\\\\\\\\\\\\\": 2, \\\\\\\\\\\\\\\"details\\\\\\\\\\\\\\\": {\\\\\\\\\\\\\\\"selectedColumn\\\\\\\\\\\\\\\": \\\\\\\\\\\\\\\"Atr46\\\\\\\\\\\\\\\"}}, \\\\\\\\\\\\\\\"typeProperty\\\\\\\\\\\\\\\": 2}, {\\\\\\\\\\\\\\\"column\\\\\\\\\\\\\\\": {\\\\\\\\\\\\\\\"type\\\\\\\\\\\\\\\": 2, \\\\\\\\\\\\\\\"details\\\\\\\\\\\\\\\": {\\\\\\\\\\\\\\\"selectedColumn\\\\\\\\\\\\\\\": \\\\\\\\\\\\\\\"Atr47\\\\\\\\\\\\\\\"}}, \\\\\\\\\\\\\\\"typeProperty\\\\\\\\\\\\\\\": 2}, {\\\\\\\\\\\\\\\"column\\\\\\\\\\\\\\\": {\\\\\\\\\\\\\\\"type\\\\\\\\\\\\\\\": 2, \\\\\\\\\\\\\\\"details\\\\\\\\\\\\\\\": {\\\\\\\\\\\\\\\"selectedColumn\\\\\\\\\\\\\\\": \\\\\\\\\\\\\\\"Atr48\\\\\\\\\\\\\\\"}}, \\\\\\\\\\\\\\\"typeProperty\\\\\\\\\\\\\\\": 2}, {\\\\\\\\\\\\\\\"column\\\\\\\\\\\\\\\": {\\\\\\\\\\\\\\\"type\\\\\\\\\\\\\\\": 2, \\\\\\\\\\\\\\\"details\\\\\\\\\\\\\\\": {\\\\\\\\\\\\\\\"selectedColumn\\\\\\\\\\\\\\\": \\\\\\\\\\\\\\\"Atr49\\\\\\\\\\\\\\\"}}, \\\\\\\\\\\\\\\"typeProperty\\\\\\\\\\\\\\\": 2}, {\\\\\\\\\\\\\\\"column\\\\\\\\\\\\\\\": {\\\\\\\\\\\\\\\"type\\\\\\\\\\\\\\\": 2, \\\\\\\\\\\\\\\"details\\\\\\\\\\\\\\\": {\\\\\\\\\\\\\\\"selectedColumn\\\\\\\\\\\\\\\": \\\\\\\\\\\\\\\"Atr50\\\\\\\\\\\\\\\"}}, \\\\\\\\\\\\\\\"typeProperty\\\\\\\\\\\\\\\": 2}, {\\\\\\\\\\\\\\\"column\\\\\\\\\\\\\\\": {\\\\\\\\\\\\\\\"type\\\\\\\\\\\\\\\": 2, \\\\\\\\\\\\\\\"details\\\\\\\\\\\\\\\": {\\\\\\\\\\\\\\\"selectedColumn\\\\\\\\\\\\\\\": \\\\\\\\\\\\\\\"Atr51\\\\\\\\\\\\\\\"}}, \\\\\\\\\\\\\\\"typeProperty\\\\\\\\\\\\\\\": 2}, {\\\\\\\\\\\\\\\"column\\\\\\\\\\\\\\\": {\\\\\\\\\\\\\\\"type\\\\\\\\\\\\\\\": 2, \\\\\\\\\\\\\\\"details\\\\\\\\\\\\\\\": {\\\\\\\\\\\\\\\"selectedColumn\\\\\\\\\\\\\\\": \\\\\\\\\\\\\\\"Atr52\\\\\\\\\\\\\\\"}}, \\\\\\\\\\\\\\\"typeProperty\\\\\\\\\\\\\\\": 2}, {\\\\\\\\\\\\\\\"column\\\\\\\\\\\\\\\": {\\\\\\\\\\\\\\\"type\\\\\\\\\\\\\\\": 2, \\\\\\\\\\\\\\\"details\\\\\\\\\\\\\\\": {\\\\\\\\\\\\\\\"selectedColumn\\\\\\\\\\\\\\\": \\\\\\\\\\\\\\\"Atr53\\\\\\\\\\\\\\\"}}, \\\\\\\\\\\\\\\"typeProperty\\\\\\\\\\\\\\\": 2}, {\\\\\\\\\\\\\\\"column\\\\\\\\\\\\\\\": {\\\\\\\\\\\\\\\"type\\\\\\\\\\\\\\\": 2, \\\\\\\\\\\\\\\"details\\\\\\\\\\\\\\\": {\\\\\\\\\\\\\\\"selectedColumn\\\\\\\\\\\\\\\": \\\\\\\\\\\\\\\"Atr54\\\\\\\\\\\\\\\"}}, \\\\\\\\\\\\\\\"typeProperty\\\\\\\\\\\\\\\": 2}, {\\\\\\\\\\\\\\\"column\\\\\\\\\\\\\\\": {\\\\\\\\\\\\\\\"type\\\\\\\\\\\\\\\": 2, \\\\\\\\\\\\\\\"details\\\\\\\\\\\\\\\": {\\\\\\\\\\\\\\\"selectedColumn\\\\\\\\\\\\\\\": \\\\\\\\\\\\\\\"Class\\\\\\\\\\\\\\\"}}, \\\\\\\\\\\\\\\"typeProperty\\\\\\\\\\\\\\\": 2}]}, \\\\\\\\\\\\\\\"localData\\\\\\\\\\\\\\\": {}, \\\\\\\\\\\\\\\"isEnabled\\\\\\\\\\\\\\\": true, \\\\\\\\\\\\\\\"name\\\\\\\\\\\\\\\": null, \\\\\\\\\\\\\\\"annotation\\\\\\\\\\\\\\\": null}], \\\\\\\\\\\\\\\"inspectors\\\\\\\\\\\\\\\": [], \\\\\\\\\\\\\\\"meta\\\\\\\\\\\\\\\": {\\\\\\\\\\\\\\\"savedDatasetId\\\\\\\\\\\\\\\": \\\\\\\\\\\\\\\"209db0a0-3ce7-41ba-b7ed-c00fd233ee3c\\\\\\\\\\\\\\\", \\\\\\\\\\\\\\\"datasetType\\\\\\\\\\\\\\\": \\\\\\\\\\\\\\\"tabular\\\\\\\\\\\\\\\", \\\\\\\\\\\\\\\"subscriptionId\\\\\\\\\\\\\\\": \\\\\\\\\\\\\\\"d7f39349-a66b-446e-aba6-0053c2cf1c11\\\\\\\\\\\\\\\", \\\\\\\\\\\\\\\"workspaceId\\\\\\\\\\\\\\\": \\\\\\\\\\\\\\\"97d50da7-e499-4e24-a8ed-92719d9fead4\\\\\\\\\\\\\\\", \\\\\\\\\\\\\\\"workspaceLocation\\\\\\\\\\\\\\\": \\\\\\\\\\\\\\\"southcentralus\\\\\\\\\\\\\\\"}}\\\\\\\", \\\\\\\"activities\\\\\\\": 0}\", \"EnableSubsampling\": null, \"runTemplate\": \"AutoML\", \"azureml.runsource\": \"automl\", \"display_task_type\": \"classification\", \"dependencies_versions\": \"{\\\"azureml-widgets\\\": \\\"1.19.0\\\", \\\"azureml-train\\\": \\\"1.19.0\\\", \\\"azureml-train-restclients-hyperdrive\\\": \\\"1.19.0\\\", \\\"azureml-train-core\\\": \\\"1.19.0\\\", \\\"azureml-train-automl\\\": \\\"1.19.0\\\", \\\"azureml-train-automl-runtime\\\": \\\"1.19.0\\\", \\\"azureml-train-automl-client\\\": \\\"1.19.0\\\", \\\"azureml-tensorboard\\\": \\\"1.19.0\\\", \\\"azureml-telemetry\\\": \\\"1.19.0\\\", \\\"azureml-sdk\\\": \\\"1.19.0\\\", \\\"azureml-samples\\\": \\\"0+unknown\\\", \\\"azureml-pipeline\\\": \\\"1.19.0\\\", \\\"azureml-pipeline-steps\\\": \\\"1.19.0\\\", \\\"azureml-pipeline-core\\\": \\\"1.19.0\\\", \\\"azureml-opendatasets\\\": \\\"1.19.0\\\", \\\"azureml-model-management-sdk\\\": \\\"1.0.1b6.post1\\\", \\\"azureml-mlflow\\\": \\\"1.19.0\\\", \\\"azureml-interpret\\\": \\\"1.19.0\\\", \\\"azureml-explain-model\\\": \\\"1.19.0\\\", \\\"azureml-defaults\\\": \\\"1.19.0\\\", \\\"azureml-dataset-runtime\\\": \\\"1.19.0\\\", \\\"azureml-dataprep\\\": \\\"2.6.1\\\", \\\"azureml-dataprep-rslex\\\": \\\"1.4.0\\\", \\\"azureml-dataprep-native\\\": \\\"26.0.0\\\", \\\"azureml-datadrift\\\": \\\"1.19.0\\\", \\\"azureml-core\\\": \\\"1.19.0\\\", \\\"azureml-contrib-services\\\": \\\"1.19.0\\\", \\\"azureml-contrib-server\\\": \\\"1.19.0\\\", \\\"azureml-contrib-reinforcementlearning\\\": \\\"1.19.0\\\", \\\"azureml-contrib-pipeline-steps\\\": \\\"1.19.0\\\", \\\"azureml-contrib-notebook\\\": \\\"1.19.0\\\", \\\"azureml-contrib-interpret\\\": \\\"1.19.0\\\", \\\"azureml-contrib-gbdt\\\": \\\"1.19.0\\\", \\\"azureml-contrib-fairness\\\": \\\"1.19.0\\\", \\\"azureml-contrib-dataset\\\": \\\"1.19.0\\\", \\\"azureml-cli-common\\\": \\\"1.19.0\\\", \\\"azureml-automl-runtime\\\": \\\"1.19.0\\\", \\\"azureml-automl-core\\\": \\\"1.19.0\\\", \\\"azureml-accel-models\\\": \\\"1.19.0\\\"}\", \"_aml_system_scenario_identification\": \"Remote.Parent\", \"ClientType\": \"SDK\", \"environment_cpu_name\": \"AzureML-AutoML\", \"environment_cpu_label\": \"prod\", \"environment_gpu_name\": \"AzureML-AutoML-GPU\", \"environment_gpu_label\": \"prod\", \"root_attribution\": \"automl\", \"attribution\": \"AutoML\", \"Orchestrator\": \"AutoML\", \"CancelUri\": \"https://southcentralus.experiments.azureml.net/jasmine/v1.0/subscriptions/d7f39349-a66b-446e-aba6-0053c2cf1c11/resourceGroups/aml-quickstarts-133988/providers/Microsoft.MachineLearningServices/workspaces/quick-starts-ws-133988/experimentids/989aaffe-e5b2-4d64-91f2-aedcffe67845/cancel/AutoML_ce25be63-6ad2-40b3-9fb4-4e1a156aa6f9\", \"ClientSdkVersion\": \"1.19.0\", \"snapshotId\": \"00000000-0000-0000-0000-000000000000\", \"SetupRunId\": \"AutoML_ce25be63-6ad2-40b3-9fb4-4e1a156aa6f9_setup\", \"SetupRunContainerId\": \"dcid.AutoML_ce25be63-6ad2-40b3-9fb4-4e1a156aa6f9_setup\", \"FeaturizationRunJsonPath\": \"featurizer_container.json\", \"FeaturizationRunId\": \"AutoML_ce25be63-6ad2-40b3-9fb4-4e1a156aa6f9_featurize\", \"ProblemInfoJsonString\": \"{\\\"dataset_num_categorical\\\": 0, \\\"is_sparse\\\": true, \\\"subsampling\\\": false, \\\"dataset_classes\\\": 2, \\\"dataset_features\\\": 270, \\\"dataset_samples\\\": 170, \\\"single_frequency_class_detected\\\": false}\", \"ModelExplainRunId\": \"AutoML_ce25be63-6ad2-40b3-9fb4-4e1a156aa6f9_ModelExplain\"}, \"tags\": {\"model_explain_run\": \"best_run\", \"_aml_system_azureml.automlComponent\": \"AutoML\", \"pipeline_id\": \"\", \"score\": \"\", \"predicted_cost\": \"\", \"fit_time\": \"\", \"training_percent\": \"\", \"iteration\": \"\", \"run_preprocessor\": \"\", \"run_algorithm\": \"\", \"dynamic_whitelisting_iterations\": \"<25>;<30>;<35>;<40>;<45>;<50>;<55>;<59>;<64>;<70>;<75>;\", \"automl_best_child_run_id\": \"AutoML_ce25be63-6ad2-40b3-9fb4-4e1a156aa6f9_40\"}, \"end_time_utc\": \"2021-01-08T18:37:55.162045Z\", \"status\": \"Completed\", \"log_files\": {}, \"log_groups\": [], \"run_duration\": \"0:33:59\"}, \"child_runs\": [{\"run_id\": \"AutoML_ce25be63-6ad2-40b3-9fb4-4e1a156aa6f9_0\", \"run_number\": 71, \"metric\": null, \"status\": \"Completed\", \"run_type\": \"azureml.scriptrun\", \"training_percent\": \"100\", \"start_time\": \"2021-01-08T18:17:00.145888Z\", \"end_time\": \"2021-01-08T18:17:40.532933Z\", \"created_time\": \"2021-01-08T18:15:08.150398Z\", \"created_time_dt\": \"2021-01-08T18:15:08.150398Z\", \"duration\": \"0:02:32\", \"iteration\": \"0\", \"goal\": \"accuracy_max\", \"run_name\": \"MaxAbsScaler, LightGBM\", \"run_properties\": \"copy=True\", \"primary_metric\": 0.97058824, \"best_metric\": 0.97058824}, {\"run_id\": \"AutoML_ce25be63-6ad2-40b3-9fb4-4e1a156aa6f9_2\", \"run_number\": 72, \"metric\": null, \"status\": \"Completed\", \"run_type\": \"azureml.scriptrun\", \"training_percent\": \"100\", \"start_time\": \"2021-01-08T18:18:34.466962Z\", \"end_time\": \"2021-01-08T18:19:18.394557Z\", \"created_time\": \"2021-01-08T18:15:08.286311Z\", \"created_time_dt\": \"2021-01-08T18:15:08.286311Z\", \"duration\": \"0:04:10\", \"iteration\": \"2\", \"goal\": \"accuracy_max\", \"run_name\": \"MaxAbsScaler, RandomForest\", \"run_properties\": \"copy=True\", \"primary_metric\": 0.96470588, \"best_metric\": 0.97058824}, {\"run_id\": \"AutoML_ce25be63-6ad2-40b3-9fb4-4e1a156aa6f9_3\", \"run_number\": 73, \"metric\": null, \"status\": \"Completed\", \"run_type\": \"azureml.scriptrun\", \"training_percent\": \"100\", \"start_time\": \"2021-01-08T18:15:20.1615Z\", \"end_time\": \"2021-01-08T18:16:09.698265Z\", \"created_time\": \"2021-01-08T18:15:08.2913Z\", \"created_time_dt\": \"2021-01-08T18:15:08.2913Z\", \"duration\": \"0:01:01\", \"iteration\": \"3\", \"goal\": \"accuracy_max\", \"run_name\": \"MaxAbsScaler, RandomForest\", \"run_properties\": \"copy=True\", \"primary_metric\": 0.98235294, \"best_metric\": 0.98235294}, {\"run_id\": \"AutoML_ce25be63-6ad2-40b3-9fb4-4e1a156aa6f9_1\", \"run_number\": 74, \"metric\": null, \"status\": \"Completed\", \"run_type\": \"azureml.scriptrun\", \"training_percent\": \"100\", \"start_time\": \"2021-01-08T18:17:44.48726Z\", \"end_time\": \"2021-01-08T18:18:32.08347Z\", \"created_time\": \"2021-01-08T18:15:08.320985Z\", \"created_time_dt\": \"2021-01-08T18:15:08.320985Z\", \"duration\": \"0:03:23\", \"iteration\": \"1\", \"goal\": \"accuracy_max\", \"run_name\": \"MaxAbsScaler, XGBoostClassifier\", \"run_properties\": \"copy=True\", \"primary_metric\": 0.97058824, \"best_metric\": 0.97058824}, {\"run_id\": \"AutoML_ce25be63-6ad2-40b3-9fb4-4e1a156aa6f9_4\", \"run_number\": 75, \"metric\": null, \"status\": \"Completed\", \"run_type\": \"azureml.scriptrun\", \"training_percent\": \"100\", \"start_time\": \"2021-01-08T18:16:15.541271Z\", \"end_time\": \"2021-01-08T18:16:55.752532Z\", \"created_time\": \"2021-01-08T18:15:08.373967Z\", \"created_time_dt\": \"2021-01-08T18:15:08.373967Z\", \"duration\": \"0:01:47\", \"iteration\": \"4\", \"goal\": \"accuracy_max\", \"run_name\": \"MaxAbsScaler, RandomForest\", \"run_properties\": \"copy=True\", \"primary_metric\": 0.97058824, \"best_metric\": 0.98235294}, {\"run_id\": \"AutoML_ce25be63-6ad2-40b3-9fb4-4e1a156aa6f9_5\", \"run_number\": 76, \"metric\": null, \"status\": \"Completed\", \"run_type\": \"azureml.scriptrun\", \"training_percent\": \"100\", \"start_time\": \"2021-01-08T18:19:21.474468Z\", \"end_time\": \"2021-01-08T18:20:02.929981Z\", \"created_time\": \"2021-01-08T18:16:13.455346Z\", \"created_time_dt\": \"2021-01-08T18:16:13.455346Z\", \"duration\": \"0:03:49\", \"iteration\": \"5\", \"goal\": \"accuracy_max\", \"run_name\": \"MaxAbsScaler, RandomForest\", \"run_properties\": \"copy=True\", \"primary_metric\": 0.97647059, \"best_metric\": 0.98235294}, {\"run_id\": \"AutoML_ce25be63-6ad2-40b3-9fb4-4e1a156aa6f9_6\", \"run_number\": 77, \"metric\": null, \"status\": \"Completed\", \"run_type\": \"azureml.scriptrun\", \"training_percent\": \"100\", \"start_time\": \"2021-01-08T18:19:58.747474Z\", \"end_time\": \"2021-01-08T18:23:17.733664Z\", \"created_time\": \"2021-01-08T18:16:58.608805Z\", \"created_time_dt\": \"2021-01-08T18:16:58.608805Z\", \"duration\": \"0:06:19\", \"iteration\": \"6\", \"goal\": \"accuracy_max\", \"run_name\": \"SparseNormalizer, XGBoostClassifier\", \"run_properties\": \"<azureml.automl.runtime.shared.model_wrappers.SparseNormalizer object at 0x7f1d63da8780\", \"primary_metric\": 0.96470588, \"best_metric\": 0.98235294}, {\"run_id\": \"AutoML_ce25be63-6ad2-40b3-9fb4-4e1a156aa6f9_7\", \"run_number\": 78, \"metric\": null, \"status\": \"Completed\", \"run_type\": \"azureml.scriptrun\", \"training_percent\": \"100\", \"start_time\": \"2021-01-08T18:20:00.377058Z\", \"end_time\": \"2021-01-08T18:23:25.172151Z\", \"created_time\": \"2021-01-08T18:17:43.429819Z\", \"created_time_dt\": \"2021-01-08T18:17:43.429819Z\", \"duration\": \"0:05:41\", \"iteration\": \"7\", \"goal\": \"accuracy_max\", \"run_name\": \"SparseNormalizer, XGBoostClassifier\", \"run_properties\": \"<azureml.automl.runtime.shared.model_wrappers.SparseNormalizer object at 0x7f8734c03ef0\", \"primary_metric\": 0.97647059, \"best_metric\": 0.98235294}, {\"run_id\": \"AutoML_ce25be63-6ad2-40b3-9fb4-4e1a156aa6f9_8\", \"run_number\": 79, \"metric\": null, \"status\": \"Completed\", \"run_type\": \"azureml.scriptrun\", \"training_percent\": \"100\", \"start_time\": \"2021-01-08T18:19:59.021965Z\", \"end_time\": \"2021-01-08T18:23:28.009804Z\", \"created_time\": \"2021-01-08T18:18:34.876064Z\", \"created_time_dt\": \"2021-01-08T18:18:34.876064Z\", \"duration\": \"0:04:53\", \"iteration\": \"8\", \"goal\": \"accuracy_max\", \"run_name\": \"SparseNormalizer, XGBoostClassifier\", \"run_properties\": \"<azureml.automl.runtime.shared.model_wrappers.SparseNormalizer object at 0x7fb7af986128\", \"primary_metric\": 0.97647059, \"best_metric\": 0.98235294}, {\"run_id\": \"AutoML_ce25be63-6ad2-40b3-9fb4-4e1a156aa6f9_9\", \"run_number\": 80, \"metric\": null, \"status\": \"Completed\", \"run_type\": \"azureml.scriptrun\", \"training_percent\": \"100\", \"start_time\": \"2021-01-08T18:20:03.445232Z\", \"end_time\": \"2021-01-08T18:23:25.305097Z\", \"created_time\": \"2021-01-08T18:19:21.015673Z\", \"created_time_dt\": \"2021-01-08T18:19:21.015673Z\", \"duration\": \"0:04:04\", \"iteration\": \"9\", \"goal\": \"accuracy_max\", \"run_name\": \"SparseNormalizer, XGBoostClassifier\", \"run_properties\": \"<azureml.automl.runtime.shared.model_wrappers.SparseNormalizer object at 0x7f3d015bb828\", \"primary_metric\": 0.97058824, \"best_metric\": 0.98235294}, {\"run_id\": \"AutoML_ce25be63-6ad2-40b3-9fb4-4e1a156aa6f9_10\", \"run_number\": 81, \"metric\": null, \"status\": \"Completed\", \"run_type\": \"azureml.scriptrun\", \"training_percent\": \"100\", \"start_time\": \"2021-01-08T18:20:15.447012Z\", \"end_time\": \"2021-01-08T18:20:54.411796Z\", \"created_time\": \"2021-01-08T18:20:05.430857Z\", \"created_time_dt\": \"2021-01-08T18:20:05.430857Z\", \"duration\": \"0:00:48\", \"iteration\": \"10\", \"goal\": \"accuracy_max\", \"run_name\": \"SparseNormalizer, XGBoostClassifier\", \"run_properties\": \"<azureml.automl.runtime.shared.model_wrappers.SparseNormalizer object at 0x7f4a64098eb8\", \"primary_metric\": 0.95294118, \"best_metric\": 0.98235294}, {\"run_id\": \"AutoML_ce25be63-6ad2-40b3-9fb4-4e1a156aa6f9_11\", \"run_number\": 82, \"metric\": null, \"status\": \"Completed\", \"run_type\": \"azureml.scriptrun\", \"training_percent\": \"100\", \"start_time\": \"2021-01-08T18:21:07.516285Z\", \"end_time\": \"2021-01-08T18:21:52.086516Z\", \"created_time\": \"2021-01-08T18:20:56.835094Z\", \"created_time_dt\": \"2021-01-08T18:20:56.835094Z\", \"duration\": \"0:00:55\", \"iteration\": \"11\", \"goal\": \"accuracy_max\", \"run_name\": \"SparseNormalizer, XGBoostClassifier\", \"run_properties\": \"<azureml.automl.runtime.shared.model_wrappers.SparseNormalizer object at 0x7fae1d2eb7f0\", \"primary_metric\": 0.97058824, \"best_metric\": 0.98235294}, {\"run_id\": \"AutoML_ce25be63-6ad2-40b3-9fb4-4e1a156aa6f9_12\", \"run_number\": 83, \"metric\": null, \"status\": \"Completed\", \"run_type\": \"azureml.scriptrun\", \"training_percent\": \"100\", \"start_time\": \"2021-01-08T18:22:06.00549Z\", \"end_time\": \"2021-01-08T18:22:44.448748Z\", \"created_time\": \"2021-01-08T18:21:54.306023Z\", \"created_time_dt\": \"2021-01-08T18:21:54.306023Z\", \"duration\": \"0:00:50\", \"iteration\": \"12\", \"goal\": \"accuracy_max\", \"run_name\": \"MaxAbsScaler, LogisticRegression\", \"run_properties\": \"copy=True\", \"primary_metric\": 0.97647059, \"best_metric\": 0.98235294}, {\"run_id\": \"AutoML_ce25be63-6ad2-40b3-9fb4-4e1a156aa6f9_13\", \"run_number\": 84, \"metric\": null, \"status\": \"Completed\", \"run_type\": \"azureml.scriptrun\", \"training_percent\": \"100\", \"start_time\": \"2021-01-08T18:22:58.476433Z\", \"end_time\": \"2021-01-08T18:23:35.60128Z\", \"created_time\": \"2021-01-08T18:22:46.688869Z\", \"created_time_dt\": \"2021-01-08T18:22:46.688869Z\", \"duration\": \"0:00:48\", \"iteration\": \"13\", \"goal\": \"accuracy_max\", \"run_name\": \"MaxAbsScaler, RandomForest\", \"run_properties\": \"copy=True\", \"primary_metric\": 0.95294118, \"best_metric\": 0.98235294}, {\"run_id\": \"AutoML_ce25be63-6ad2-40b3-9fb4-4e1a156aa6f9_14\", \"run_number\": 85, \"metric\": null, \"status\": \"Completed\", \"run_type\": \"azureml.scriptrun\", \"training_percent\": \"100\", \"start_time\": \"2021-01-08T18:23:33.196989Z\", \"end_time\": \"2021-01-08T18:24:21.807815Z\", \"created_time\": \"2021-01-08T18:23:20.306566Z\", \"created_time_dt\": \"2021-01-08T18:23:20.306566Z\", \"duration\": \"0:01:01\", \"iteration\": \"14\", \"goal\": \"accuracy_max\", \"run_name\": \"MaxAbsScaler, RandomForest\", \"run_properties\": \"copy=True\", \"primary_metric\": 0.98235294, \"best_metric\": 0.98235294}, {\"run_id\": \"AutoML_ce25be63-6ad2-40b3-9fb4-4e1a156aa6f9_15\", \"run_number\": 86, \"metric\": null, \"status\": \"Completed\", \"run_type\": \"azureml.scriptrun\", \"training_percent\": \"100\", \"start_time\": \"2021-01-08T18:23:37.503985Z\", \"end_time\": \"2021-01-08T18:24:19.294434Z\", \"created_time\": \"2021-01-08T18:23:27.448363Z\", \"created_time_dt\": \"2021-01-08T18:23:27.448363Z\", \"duration\": \"0:00:51\", \"iteration\": \"15\", \"goal\": \"accuracy_max\", \"run_name\": \"MaxAbsScaler, ExtremeRandomTrees\", \"run_properties\": \"copy=True\", \"primary_metric\": 0.97058824, \"best_metric\": 0.98235294}, {\"run_id\": \"AutoML_ce25be63-6ad2-40b3-9fb4-4e1a156aa6f9_16\", \"run_number\": 87, \"metric\": null, \"status\": \"Completed\", \"run_type\": \"azureml.scriptrun\", \"training_percent\": \"100\", \"start_time\": \"2021-01-08T18:23:37.799383Z\", \"end_time\": \"2021-01-08T18:24:14.035009Z\", \"created_time\": \"2021-01-08T18:23:27.775258Z\", \"created_time_dt\": \"2021-01-08T18:23:27.775258Z\", \"duration\": \"0:00:46\", \"iteration\": \"16\", \"goal\": \"accuracy_max\", \"run_name\": \"MaxAbsScaler, LightGBM\", \"run_properties\": \"copy=True\", \"primary_metric\": 0.97058824, \"best_metric\": 0.98235294}, {\"run_id\": \"AutoML_ce25be63-6ad2-40b3-9fb4-4e1a156aa6f9_17\", \"run_number\": 88, \"metric\": null, \"status\": \"Completed\", \"run_type\": \"azureml.scriptrun\", \"training_percent\": \"100\", \"start_time\": \"2021-01-08T18:23:45.202187Z\", \"end_time\": \"2021-01-08T18:24:31.627859Z\", \"created_time\": \"2021-01-08T18:23:32.994459Z\", \"created_time_dt\": \"2021-01-08T18:23:32.994459Z\", \"duration\": \"0:00:58\", \"iteration\": \"17\", \"goal\": \"accuracy_max\", \"run_name\": \"MaxAbsScaler, LightGBM\", \"run_properties\": \"copy=True\", \"primary_metric\": 0.97058824, \"best_metric\": 0.98235294}, {\"run_id\": \"AutoML_ce25be63-6ad2-40b3-9fb4-4e1a156aa6f9_18\", \"run_number\": 89, \"metric\": null, \"status\": \"Completed\", \"run_type\": \"azureml.scriptrun\", \"training_percent\": \"100\", \"start_time\": \"2021-01-08T18:23:50.6721Z\", \"end_time\": \"2021-01-08T18:24:33.929688Z\", \"created_time\": \"2021-01-08T18:23:38.776Z\", \"created_time_dt\": \"2021-01-08T18:23:38.776Z\", \"duration\": \"0:00:55\", \"iteration\": \"18\", \"goal\": \"accuracy_max\", \"run_name\": \"SparseNormalizer, LightGBM\", \"run_properties\": \"<azureml.automl.runtime.shared.model_wrappers.SparseNormalizer object at 0x7f9b388d1fd0\", \"primary_metric\": 0.97647059, \"best_metric\": 0.98235294}, {\"run_id\": \"AutoML_ce25be63-6ad2-40b3-9fb4-4e1a156aa6f9_19\", \"run_number\": 90, \"metric\": null, \"status\": \"Completed\", \"run_type\": \"azureml.scriptrun\", \"training_percent\": \"100\", \"start_time\": \"2021-01-08T18:24:29.734856Z\", \"end_time\": \"2021-01-08T18:25:04.955268Z\", \"created_time\": \"2021-01-08T18:24:17.171543Z\", \"created_time_dt\": \"2021-01-08T18:24:17.171543Z\", \"duration\": \"0:00:47\", \"iteration\": \"19\", \"goal\": \"accuracy_max\", \"run_name\": \"MaxAbsScaler, LightGBM\", \"run_properties\": \"copy=True\", \"primary_metric\": 0.96470588, \"best_metric\": 0.98235294}, {\"run_id\": \"AutoML_ce25be63-6ad2-40b3-9fb4-4e1a156aa6f9_20\", \"run_number\": 91, \"metric\": null, \"status\": \"Completed\", \"run_type\": \"azureml.scriptrun\", \"training_percent\": \"100\", \"start_time\": \"2021-01-08T18:24:32.668062Z\", \"end_time\": \"2021-01-08T18:25:14.420297Z\", \"created_time\": \"2021-01-08T18:24:22.945555Z\", \"created_time_dt\": \"2021-01-08T18:24:22.945555Z\", \"duration\": \"0:00:51\", \"iteration\": \"20\", \"goal\": \"accuracy_max\", \"run_name\": \"SparseNormalizer, LightGBM\", \"run_properties\": \"<azureml.automl.runtime.shared.model_wrappers.SparseNormalizer object at 0x7f3650bccb38\", \"primary_metric\": 0.98823529, \"best_metric\": 0.98823529}, {\"run_id\": \"AutoML_ce25be63-6ad2-40b3-9fb4-4e1a156aa6f9_21\", \"run_number\": 92, \"metric\": null, \"status\": \"Completed\", \"run_type\": \"azureml.scriptrun\", \"training_percent\": \"100\", \"start_time\": \"2021-01-08T18:24:40.17953Z\", \"end_time\": \"2021-01-08T18:25:52.129789Z\", \"created_time\": \"2021-01-08T18:24:27.810856Z\", \"created_time_dt\": \"2021-01-08T18:24:27.810856Z\", \"duration\": \"0:01:24\", \"iteration\": \"21\", \"goal\": \"accuracy_max\", \"run_name\": \"SparseNormalizer, LightGBM\", \"run_properties\": \"<azureml.automl.runtime.shared.model_wrappers.SparseNormalizer object at 0x7f7bda275ba8\", \"primary_metric\": 0.97647059, \"best_metric\": 0.98823529}, {\"run_id\": \"AutoML_ce25be63-6ad2-40b3-9fb4-4e1a156aa6f9_22\", \"run_number\": 93, \"metric\": null, \"status\": \"Completed\", \"run_type\": \"azureml.scriptrun\", \"training_percent\": \"100\", \"start_time\": \"2021-01-08T18:24:45.828974Z\", \"end_time\": \"2021-01-08T18:25:27.624184Z\", \"created_time\": \"2021-01-08T18:24:34.979336Z\", \"created_time_dt\": \"2021-01-08T18:24:34.979336Z\", \"duration\": \"0:00:52\", \"iteration\": \"22\", \"goal\": \"accuracy_max\", \"run_name\": \"SparseNormalizer, ExtremeRandomTrees\", \"run_properties\": \"<azureml.automl.runtime.shared.model_wrappers.SparseNormalizer object at 0x7f291c2545c0\", \"primary_metric\": 0.98235294, \"best_metric\": 0.98823529}, {\"run_id\": \"AutoML_ce25be63-6ad2-40b3-9fb4-4e1a156aa6f9_23\", \"run_number\": 94, \"metric\": null, \"status\": \"Completed\", \"run_type\": \"azureml.scriptrun\", \"training_percent\": \"100\", \"start_time\": \"2021-01-08T18:24:50.932248Z\", \"end_time\": \"2021-01-08T18:25:32.643972Z\", \"created_time\": \"2021-01-08T18:24:40.726861Z\", \"created_time_dt\": \"2021-01-08T18:24:40.726861Z\", \"duration\": \"0:00:51\", \"iteration\": \"23\", \"goal\": \"accuracy_max\", \"run_name\": \"StandardScalerWrapper, LightGBM\", \"run_properties\": \"<azureml.automl.runtime.shared.model_wrappers.StandardScalerWrapper object at 0x7f709847df60\", \"primary_metric\": 0.97058824, \"best_metric\": 0.98823529}, {\"run_id\": \"AutoML_ce25be63-6ad2-40b3-9fb4-4e1a156aa6f9_24\", \"run_number\": 95, \"metric\": null, \"status\": \"Completed\", \"run_type\": \"azureml.scriptrun\", \"training_percent\": \"100\", \"start_time\": \"2021-01-08T18:25:22.122838Z\", \"end_time\": \"2021-01-08T18:26:05.89482Z\", \"created_time\": \"2021-01-08T18:25:07.88639Z\", \"created_time_dt\": \"2021-01-08T18:25:07.88639Z\", \"duration\": \"0:00:58\", \"iteration\": \"24\", \"goal\": \"accuracy_max\", \"run_name\": \"MaxAbsScaler, ExtremeRandomTrees\", \"run_properties\": \"copy=True\", \"primary_metric\": 0.97647059, \"best_metric\": 0.98823529}, {\"run_id\": \"AutoML_ce25be63-6ad2-40b3-9fb4-4e1a156aa6f9_25\", \"run_number\": 96, \"metric\": null, \"status\": \"Completed\", \"run_type\": \"azureml.scriptrun\", \"training_percent\": \"100\", \"start_time\": \"2021-01-08T18:25:33.71847Z\", \"end_time\": \"2021-01-08T18:26:15.503973Z\", \"created_time\": \"2021-01-08T18:25:23.640295Z\", \"created_time_dt\": \"2021-01-08T18:25:23.640295Z\", \"duration\": \"0:00:51\", \"iteration\": \"25\", \"goal\": \"accuracy_max\", \"run_name\": \"SparseNormalizer, LightGBM\", \"run_properties\": \"<azureml.automl.runtime.shared.model_wrappers.SparseNormalizer object at 0x7f508ecda5f8\", \"primary_metric\": 0.97647059, \"best_metric\": 0.98823529}, {\"run_id\": \"AutoML_ce25be63-6ad2-40b3-9fb4-4e1a156aa6f9_26\", \"run_number\": 97, \"metric\": null, \"status\": \"Completed\", \"run_type\": \"azureml.scriptrun\", \"training_percent\": \"100\", \"start_time\": \"2021-01-08T18:25:41.474708Z\", \"end_time\": \"2021-01-08T18:26:34.710403Z\", \"created_time\": \"2021-01-08T18:25:30.651806Z\", \"created_time_dt\": \"2021-01-08T18:25:30.651806Z\", \"duration\": \"0:01:04\", \"iteration\": \"26\", \"goal\": \"accuracy_max\", \"run_name\": \"MaxAbsScaler, RandomForest\", \"run_properties\": \"copy=True\", \"primary_metric\": 0.97647059, \"best_metric\": 0.98823529}, {\"run_id\": \"AutoML_ce25be63-6ad2-40b3-9fb4-4e1a156aa6f9_27\", \"run_number\": 98, \"metric\": null, \"status\": \"Completed\", \"run_type\": \"azureml.scriptrun\", \"training_percent\": \"100\", \"start_time\": \"2021-01-08T18:25:48.709273Z\", \"end_time\": \"2021-01-08T18:26:34.541683Z\", \"created_time\": \"2021-01-08T18:25:36.536833Z\", \"created_time_dt\": \"2021-01-08T18:25:36.536833Z\", \"duration\": \"0:00:58\", \"iteration\": \"27\", \"goal\": \"accuracy_max\", \"run_name\": \"StandardScalerWrapper, ExtremeRandomTrees\", \"run_properties\": \"<azureml.automl.runtime.shared.model_wrappers.StandardScalerWrapper object at 0x7f7fc0fc5940\", \"primary_metric\": 0.98235294, \"best_metric\": 0.98823529}, {\"run_id\": \"AutoML_ce25be63-6ad2-40b3-9fb4-4e1a156aa6f9_28\", \"run_number\": 99, \"metric\": null, \"status\": \"Completed\", \"run_type\": \"azureml.scriptrun\", \"training_percent\": \"100\", \"start_time\": \"2021-01-08T18:26:22.219366Z\", \"end_time\": \"2021-01-08T18:26:54.300643Z\", \"created_time\": \"2021-01-08T18:25:55.169184Z\", \"created_time_dt\": \"2021-01-08T18:25:55.169184Z\", \"duration\": \"0:00:59\", \"iteration\": \"28\", \"goal\": \"accuracy_max\", \"run_name\": \"MaxAbsScaler, LightGBM\", \"run_properties\": \"copy=True\", \"primary_metric\": 0.97647059, \"best_metric\": 0.98823529}, {\"run_id\": \"AutoML_ce25be63-6ad2-40b3-9fb4-4e1a156aa6f9_29\", \"run_number\": 100, \"metric\": null, \"status\": \"Completed\", \"run_type\": \"azureml.scriptrun\", \"training_percent\": \"100\", \"start_time\": \"2021-01-08T18:26:23.387328Z\", \"end_time\": \"2021-01-08T18:27:03.291915Z\", \"created_time\": \"2021-01-08T18:26:10.978282Z\", \"created_time_dt\": \"2021-01-08T18:26:10.978282Z\", \"duration\": \"0:00:52\", \"iteration\": \"29\", \"goal\": \"accuracy_max\", \"run_name\": \"StandardScalerWrapper, XGBoostClassifier\", \"run_properties\": \"<azureml.automl.runtime.shared.model_wrappers.StandardScalerWrapper object at 0x7f47aff37cc0\", \"primary_metric\": 0.97058824, \"best_metric\": 0.98823529}, {\"run_id\": \"AutoML_ce25be63-6ad2-40b3-9fb4-4e1a156aa6f9_30\", \"run_number\": 101, \"metric\": null, \"status\": \"Completed\", \"run_type\": \"azureml.scriptrun\", \"training_percent\": \"100\", \"start_time\": \"2021-01-08T18:26:32.478569Z\", \"end_time\": \"2021-01-08T18:27:13.118211Z\", \"created_time\": \"2021-01-08T18:26:19.506804Z\", \"created_time_dt\": \"2021-01-08T18:26:19.506804Z\", \"duration\": \"0:00:53\", \"iteration\": \"30\", \"goal\": \"accuracy_max\", \"run_name\": \"StandardScalerWrapper, LightGBM\", \"run_properties\": \"<azureml.automl.runtime.shared.model_wrappers.StandardScalerWrapper object at 0x7f3d50af3ef0\", \"primary_metric\": 0.92941176, \"best_metric\": 0.98823529}, {\"run_id\": \"AutoML_ce25be63-6ad2-40b3-9fb4-4e1a156aa6f9_32\", \"run_number\": 102, \"metric\": null, \"status\": \"Completed\", \"run_type\": \"azureml.scriptrun\", \"training_percent\": \"100\", \"start_time\": \"2021-01-08T18:26:49.423917Z\", \"end_time\": \"2021-01-08T18:27:30.616217Z\", \"created_time\": \"2021-01-08T18:26:38.083893Z\", \"created_time_dt\": \"2021-01-08T18:26:38.083893Z\", \"duration\": \"0:00:52\", \"iteration\": \"32\", \"goal\": \"accuracy_max\", \"run_name\": \"MaxAbsScaler, GradientBoosting\", \"run_properties\": \"copy=True\", \"primary_metric\": 0.98235294, \"best_metric\": 0.98823529}, {\"run_id\": \"AutoML_ce25be63-6ad2-40b3-9fb4-4e1a156aa6f9_31\", \"run_number\": 103, \"metric\": null, \"status\": \"Completed\", \"run_type\": \"azureml.scriptrun\", \"training_percent\": \"100\", \"start_time\": \"2021-01-08T18:26:50.038448Z\", \"end_time\": \"2021-01-08T18:27:34.657898Z\", \"created_time\": \"2021-01-08T18:26:38.065474Z\", \"created_time_dt\": \"2021-01-08T18:26:38.065474Z\", \"duration\": \"0:00:56\", \"iteration\": \"31\", \"goal\": \"accuracy_max\", \"run_name\": \"SparseNormalizer, ExtremeRandomTrees\", \"run_properties\": \"<azureml.automl.runtime.shared.model_wrappers.SparseNormalizer object at 0x7f3308402978\", \"primary_metric\": 0.97647059, \"best_metric\": 0.98823529}, {\"run_id\": \"AutoML_ce25be63-6ad2-40b3-9fb4-4e1a156aa6f9_33\", \"run_number\": 104, \"metric\": null, \"status\": \"Completed\", \"run_type\": \"azureml.scriptrun\", \"training_percent\": \"100\", \"start_time\": \"2021-01-08T18:27:08.468504Z\", \"end_time\": \"2021-01-08T18:27:52.041491Z\", \"created_time\": \"2021-01-08T18:26:57.279832Z\", \"created_time_dt\": \"2021-01-08T18:26:57.279832Z\", \"duration\": \"0:00:54\", \"iteration\": \"33\", \"goal\": \"accuracy_max\", \"run_name\": \"SparseNormalizer, ExtremeRandomTrees\", \"run_properties\": \"<azureml.automl.runtime.shared.model_wrappers.SparseNormalizer object at 0x7f9e6ecf0ba8\", \"primary_metric\": 0.95294118, \"best_metric\": 0.98823529}, {\"run_id\": \"AutoML_ce25be63-6ad2-40b3-9fb4-4e1a156aa6f9_34\", \"run_number\": 105, \"metric\": null, \"status\": \"Completed\", \"run_type\": \"azureml.scriptrun\", \"training_percent\": \"100\", \"start_time\": \"2021-01-08T18:27:17.260521Z\", \"end_time\": \"2021-01-08T18:28:16.586541Z\", \"created_time\": \"2021-01-08T18:27:06.611819Z\", \"created_time_dt\": \"2021-01-08T18:27:06.611819Z\", \"duration\": \"0:01:09\", \"iteration\": \"34\", \"goal\": \"accuracy_max\", \"run_name\": \"SparseNormalizer, LightGBM\", \"run_properties\": \"<azureml.automl.runtime.shared.model_wrappers.SparseNormalizer object at 0x7fad3c0b3940\", \"primary_metric\": 0.97647059, \"best_metric\": 0.98823529}, {\"run_id\": \"AutoML_ce25be63-6ad2-40b3-9fb4-4e1a156aa6f9_35\", \"run_number\": 106, \"metric\": null, \"status\": \"Completed\", \"run_type\": \"azureml.scriptrun\", \"training_percent\": \"100\", \"start_time\": \"2021-01-08T18:27:28.246666Z\", \"end_time\": \"2021-01-08T18:28:10.56168Z\", \"created_time\": \"2021-01-08T18:27:17.377047Z\", \"created_time_dt\": \"2021-01-08T18:27:17.377047Z\", \"duration\": \"0:00:53\", \"iteration\": \"35\", \"goal\": \"accuracy_max\", \"run_name\": \"MaxAbsScaler, LightGBM\", \"run_properties\": \"copy=True\", \"primary_metric\": 0.97647059, \"best_metric\": 0.98823529}, {\"run_id\": \"AutoML_ce25be63-6ad2-40b3-9fb4-4e1a156aa6f9_36\", \"run_number\": 107, \"metric\": null, \"status\": \"Completed\", \"run_type\": \"azureml.scriptrun\", \"training_percent\": \"100\", \"start_time\": \"2021-01-08T18:27:45.864145Z\", \"end_time\": \"2021-01-08T18:28:25.81303Z\", \"created_time\": \"2021-01-08T18:27:33.650804Z\", \"created_time_dt\": \"2021-01-08T18:27:33.650804Z\", \"duration\": \"0:00:52\", \"iteration\": \"36\", \"goal\": \"accuracy_max\", \"run_name\": \"StandardScalerWrapper, LogisticRegression\", \"run_properties\": \"<azureml.automl.runtime.shared.model_wrappers.StandardScalerWrapper object at 0x7f9ae8215940\", \"primary_metric\": 0.97647059, \"best_metric\": 0.98823529}, {\"run_id\": \"AutoML_ce25be63-6ad2-40b3-9fb4-4e1a156aa6f9_37\", \"run_number\": 108, \"metric\": null, \"status\": \"Completed\", \"run_type\": \"azureml.scriptrun\", \"training_percent\": \"100\", \"start_time\": \"2021-01-08T18:27:51.287376Z\", \"end_time\": \"2021-01-08T18:28:31.132468Z\", \"created_time\": \"2021-01-08T18:27:39.64036Z\", \"created_time_dt\": \"2021-01-08T18:27:39.64036Z\", \"duration\": \"0:00:51\", \"iteration\": \"37\", \"goal\": \"accuracy_max\", \"run_name\": \"MaxAbsScaler, LogisticRegression\", \"run_properties\": \"copy=True\", \"primary_metric\": 0.97647059, \"best_metric\": 0.98823529}, {\"run_id\": \"AutoML_ce25be63-6ad2-40b3-9fb4-4e1a156aa6f9_38\", \"run_number\": 109, \"metric\": null, \"status\": \"Completed\", \"run_type\": \"azureml.scriptrun\", \"training_percent\": \"100\", \"start_time\": \"2021-01-08T18:28:05.680827Z\", \"end_time\": \"2021-01-08T18:28:44.725044Z\", \"created_time\": \"2021-01-08T18:27:55.237246Z\", \"created_time_dt\": \"2021-01-08T18:27:55.237246Z\", \"duration\": \"0:00:49\", \"iteration\": \"38\", \"goal\": \"accuracy_max\", \"run_name\": \"SparseNormalizer, XGBoostClassifier\", \"run_properties\": \"<azureml.automl.runtime.shared.model_wrappers.SparseNormalizer object at 0x7fc132138e48\", \"primary_metric\": 0.97058824, \"best_metric\": 0.98823529}, {\"run_id\": \"AutoML_ce25be63-6ad2-40b3-9fb4-4e1a156aa6f9_39\", \"run_number\": 110, \"metric\": null, \"status\": \"Completed\", \"run_type\": \"azureml.scriptrun\", \"training_percent\": \"100\", \"start_time\": \"2021-01-08T18:28:26.12431Z\", \"end_time\": \"2021-01-08T18:29:06.034213Z\", \"created_time\": \"2021-01-08T18:28:13.864867Z\", \"created_time_dt\": \"2021-01-08T18:28:13.864867Z\", \"duration\": \"0:00:52\", \"iteration\": \"39\", \"goal\": \"accuracy_max\", \"run_name\": \"TruncatedSVDWrapper, XGBoostClassifier\", \"run_properties\": \"n_components=0.5047368421052632, random_state=None\", \"primary_metric\": 0.99411765, \"best_metric\": 0.99411765}, {\"run_id\": \"AutoML_ce25be63-6ad2-40b3-9fb4-4e1a156aa6f9_40\", \"run_number\": 111, \"metric\": null, \"status\": \"Completed\", \"run_type\": \"azureml.scriptrun\", \"training_percent\": \"100\", \"start_time\": \"2021-01-08T18:28:34.032975Z\", \"end_time\": \"2021-01-08T18:29:08.350585Z\", \"created_time\": \"2021-01-08T18:28:22.25256Z\", \"created_time_dt\": \"2021-01-08T18:28:22.25256Z\", \"duration\": \"0:00:46\", \"iteration\": \"40\", \"goal\": \"accuracy_max\", \"run_name\": \"TruncatedSVDWrapper, LightGBM\", \"run_properties\": \"n_components=0.5047368421052632, random_state=None\", \"primary_metric\": 1.0, \"best_metric\": 1.0}, {\"run_id\": \"AutoML_ce25be63-6ad2-40b3-9fb4-4e1a156aa6f9_41\", \"run_number\": 112, \"metric\": null, \"status\": \"Completed\", \"run_type\": \"azureml.scriptrun\", \"training_percent\": \"100\", \"start_time\": \"2021-01-08T18:28:38.973573Z\", \"end_time\": \"2021-01-08T18:29:23.982593Z\", \"created_time\": \"2021-01-08T18:28:28.241226Z\", \"created_time_dt\": \"2021-01-08T18:28:28.241226Z\", \"duration\": \"0:00:55\", \"iteration\": \"41\", \"goal\": \"accuracy_max\", \"run_name\": \"TruncatedSVDWrapper, XGBoostClassifier\", \"run_properties\": \"n_components=0.3068421052631579, random_state=None\", \"primary_metric\": 0.98235294, \"best_metric\": 1.0}, {\"run_id\": \"AutoML_ce25be63-6ad2-40b3-9fb4-4e1a156aa6f9_42\", \"run_number\": 113, \"metric\": null, \"status\": \"Completed\", \"run_type\": \"azureml.scriptrun\", \"training_percent\": \"100\", \"start_time\": \"2021-01-08T18:28:44.749203Z\", \"end_time\": \"2021-01-08T18:29:21.618713Z\", \"created_time\": \"2021-01-08T18:28:33.760873Z\", \"created_time_dt\": \"2021-01-08T18:28:33.760873Z\", \"duration\": \"0:00:47\", \"iteration\": \"42\", \"goal\": \"accuracy_max\", \"run_name\": \"SparseNormalizer, XGBoostClassifier\", \"run_properties\": \"<azureml.automl.runtime.shared.model_wrappers.SparseNormalizer object at 0x7f26940936d8\", \"primary_metric\": 0.95882353, \"best_metric\": 1.0}, {\"run_id\": \"AutoML_ce25be63-6ad2-40b3-9fb4-4e1a156aa6f9_43\", \"run_number\": 114, \"metric\": null, \"status\": \"Completed\", \"run_type\": \"azureml.scriptrun\", \"training_percent\": \"100\", \"start_time\": \"2021-01-08T18:28:57.564678Z\", \"end_time\": \"2021-01-08T18:29:42.107879Z\", \"created_time\": \"2021-01-08T18:28:46.985108Z\", \"created_time_dt\": \"2021-01-08T18:28:46.985108Z\", \"duration\": \"0:00:55\", \"iteration\": \"43\", \"goal\": \"accuracy_max\", \"run_name\": \"MaxAbsScaler, LogisticRegression\", \"run_properties\": \"copy=True\", \"primary_metric\": 0.97647059, \"best_metric\": 1.0}, {\"run_id\": \"AutoML_ce25be63-6ad2-40b3-9fb4-4e1a156aa6f9_44\", \"run_number\": 115, \"metric\": null, \"status\": \"Completed\", \"run_type\": \"azureml.scriptrun\", \"training_percent\": \"100\", \"start_time\": \"2021-01-08T18:29:20.443941Z\", \"end_time\": \"2021-01-08T18:29:57.99143Z\", \"created_time\": \"2021-01-08T18:29:08.239221Z\", \"created_time_dt\": \"2021-01-08T18:29:08.239221Z\", \"duration\": \"0:00:49\", \"iteration\": \"44\", \"goal\": \"accuracy_max\", \"run_name\": \"SparseNormalizer, XGBoostClassifier\", \"run_properties\": \"<azureml.automl.runtime.shared.model_wrappers.SparseNormalizer object at 0x7f397f30cef0\", \"primary_metric\": 0.97647059, \"best_metric\": 1.0}, {\"run_id\": \"AutoML_ce25be63-6ad2-40b3-9fb4-4e1a156aa6f9_45\", \"run_number\": 116, \"metric\": null, \"status\": \"Completed\", \"run_type\": \"azureml.scriptrun\", \"training_percent\": \"100\", \"start_time\": \"2021-01-08T18:29:25.079762Z\", \"end_time\": \"2021-01-08T18:30:05.431522Z\", \"created_time\": \"2021-01-08T18:29:13.800188Z\", \"created_time_dt\": \"2021-01-08T18:29:13.800188Z\", \"duration\": \"0:00:51\", \"iteration\": \"45\", \"goal\": \"accuracy_max\", \"run_name\": \"MaxAbsScaler, LightGBM\", \"run_properties\": \"copy=True\", \"primary_metric\": 0.97647059, \"best_metric\": 1.0}, {\"run_id\": \"AutoML_ce25be63-6ad2-40b3-9fb4-4e1a156aa6f9_46\", \"run_number\": 117, \"metric\": null, \"status\": \"Completed\", \"run_type\": \"azureml.scriptrun\", \"training_percent\": \"100\", \"start_time\": \"2021-01-08T18:29:33.832291Z\", \"end_time\": \"2021-01-08T18:30:15.621103Z\", \"created_time\": \"2021-01-08T18:29:23.84485Z\", \"created_time_dt\": \"2021-01-08T18:29:23.84485Z\", \"duration\": \"0:00:51\", \"iteration\": \"46\", \"goal\": \"accuracy_max\", \"run_name\": \"MaxAbsScaler, LightGBM\", \"run_properties\": \"copy=True\", \"primary_metric\": 0.98823529, \"best_metric\": 1.0}, {\"run_id\": \"AutoML_ce25be63-6ad2-40b3-9fb4-4e1a156aa6f9_47\", \"run_number\": 118, \"metric\": null, \"status\": \"Completed\", \"run_type\": \"azureml.scriptrun\", \"training_percent\": \"100\", \"start_time\": \"2021-01-08T18:29:38.087804Z\", \"end_time\": \"2021-01-08T18:30:31.862076Z\", \"created_time\": \"2021-01-08T18:29:27.738306Z\", \"created_time_dt\": \"2021-01-08T18:29:27.738306Z\", \"duration\": \"0:01:04\", \"iteration\": \"47\", \"goal\": \"accuracy_max\", \"run_name\": \"MaxAbsScaler, ExtremeRandomTrees\", \"run_properties\": \"copy=True\", \"primary_metric\": 0.97647059, \"best_metric\": 1.0}, {\"run_id\": \"AutoML_ce25be63-6ad2-40b3-9fb4-4e1a156aa6f9_48\", \"run_number\": 119, \"metric\": null, \"status\": \"Completed\", \"run_type\": \"azureml.scriptrun\", \"training_percent\": \"100\", \"start_time\": \"2021-01-08T18:29:54.015718Z\", \"end_time\": \"2021-01-08T18:30:32.895957Z\", \"created_time\": \"2021-01-08T18:29:44.389747Z\", \"created_time_dt\": \"2021-01-08T18:29:44.389747Z\", \"duration\": \"0:00:48\", \"iteration\": \"48\", \"goal\": \"accuracy_max\", \"run_name\": \"SparseNormalizer, XGBoostClassifier\", \"run_properties\": \"<azureml.automl.runtime.shared.model_wrappers.SparseNormalizer object at 0x7f639e6e1e48\", \"primary_metric\": 0.98235294, \"best_metric\": 1.0}, {\"run_id\": \"AutoML_ce25be63-6ad2-40b3-9fb4-4e1a156aa6f9_49\", \"run_number\": 120, \"metric\": null, \"status\": \"Completed\", \"run_type\": \"azureml.scriptrun\", \"training_percent\": \"100\", \"start_time\": \"2021-01-08T18:30:15.484187Z\", \"end_time\": \"2021-01-08T18:30:59.570Z\", \"created_time\": \"2021-01-08T18:30:02.11033Z\", \"created_time_dt\": \"2021-01-08T18:30:02.11033Z\", \"duration\": \"0:00:57\", \"iteration\": \"49\", \"goal\": \"accuracy_max\", \"run_name\": \"MaxAbsScaler, LightGBM\", \"run_properties\": \"copy=True\", \"primary_metric\": 0.97647059, \"best_metric\": 1.0}, {\"run_id\": \"AutoML_ce25be63-6ad2-40b3-9fb4-4e1a156aa6f9_50\", \"run_number\": 121, \"metric\": null, \"status\": \"Completed\", \"run_type\": \"azureml.scriptrun\", \"training_percent\": \"100\", \"start_time\": \"2021-01-08T18:30:20.880548Z\", \"end_time\": \"2021-01-08T18:31:06.440891Z\", \"created_time\": \"2021-01-08T18:30:08.86215Z\", \"created_time_dt\": \"2021-01-08T18:30:08.86215Z\", \"duration\": \"0:00:57\", \"iteration\": \"50\", \"goal\": \"accuracy_max\", \"run_name\": \"MaxAbsScaler, LightGBM\", \"run_properties\": \"copy=True\", \"primary_metric\": 0.97647059, \"best_metric\": 1.0}, {\"run_id\": \"AutoML_ce25be63-6ad2-40b3-9fb4-4e1a156aa6f9_51\", \"run_number\": 122, \"metric\": null, \"status\": \"Completed\", \"run_type\": \"azureml.scriptrun\", \"training_percent\": \"100\", \"start_time\": \"2021-01-08T18:30:27.921767Z\", \"end_time\": \"2021-01-08T18:31:09.59198Z\", \"created_time\": \"2021-01-08T18:30:17.840796Z\", \"created_time_dt\": \"2021-01-08T18:30:17.840796Z\", \"duration\": \"0:00:51\", \"iteration\": \"51\", \"goal\": \"accuracy_max\", \"run_name\": \"SparseNormalizer, XGBoostClassifier\", \"run_properties\": \"<azureml.automl.runtime.shared.model_wrappers.SparseNormalizer object at 0x7fad700935f8\", \"primary_metric\": 0.97058824, \"best_metric\": 1.0}, {\"run_id\": \"AutoML_ce25be63-6ad2-40b3-9fb4-4e1a156aa6f9_52\", \"run_number\": 123, \"metric\": null, \"status\": \"Completed\", \"run_type\": \"azureml.scriptrun\", \"training_percent\": \"100\", \"start_time\": \"2021-01-08T18:30:44.978623Z\", \"end_time\": \"2021-01-08T18:31:23.949871Z\", \"created_time\": \"2021-01-08T18:30:34.76781Z\", \"created_time_dt\": \"2021-01-08T18:30:34.76781Z\", \"duration\": \"0:00:49\", \"iteration\": \"52\", \"goal\": \"accuracy_max\", \"run_name\": \"TruncatedSVDWrapper, XGBoostClassifier\", \"run_properties\": \"n_components=0.8015789473684211, random_state=None\", \"primary_metric\": 0.98235294, \"best_metric\": 1.0}, {\"run_id\": \"AutoML_ce25be63-6ad2-40b3-9fb4-4e1a156aa6f9_53\", \"run_number\": 124, \"metric\": null, \"status\": \"Completed\", \"run_type\": \"azureml.scriptrun\", \"training_percent\": \"100\", \"start_time\": \"2021-01-08T18:30:47.107513Z\", \"end_time\": \"2021-01-08T18:31:27.200796Z\", \"created_time\": \"2021-01-08T18:30:34.904286Z\", \"created_time_dt\": \"2021-01-08T18:30:34.904286Z\", \"duration\": \"0:00:52\", \"iteration\": \"53\", \"goal\": \"accuracy_max\", \"run_name\": \"SparseNormalizer, XGBoostClassifier\", \"run_properties\": \"<azureml.automl.runtime.shared.model_wrappers.SparseNormalizer object at 0x7f9f9c2876a0\", \"primary_metric\": 0.97058824, \"best_metric\": 1.0}, {\"run_id\": \"AutoML_ce25be63-6ad2-40b3-9fb4-4e1a156aa6f9_54\", \"run_number\": 125, \"metric\": null, \"status\": \"Completed\", \"run_type\": \"azureml.scriptrun\", \"training_percent\": \"100\", \"start_time\": \"2021-01-08T18:31:17.679173Z\", \"end_time\": \"2021-01-08T18:31:57.765485Z\", \"created_time\": \"2021-01-08T18:31:02.195405Z\", \"created_time_dt\": \"2021-01-08T18:31:02.195405Z\", \"duration\": \"0:00:55\", \"iteration\": \"54\", \"goal\": \"accuracy_max\", \"run_name\": \"StandardScalerWrapper, LightGBM\", \"run_properties\": \"<azureml.automl.runtime.shared.model_wrappers.StandardScalerWrapper object at 0x7f17964a20b8\", \"primary_metric\": 0.96470588, \"best_metric\": 1.0}, {\"run_id\": \"AutoML_ce25be63-6ad2-40b3-9fb4-4e1a156aa6f9_55\", \"run_number\": 126, \"metric\": null, \"status\": \"Completed\", \"run_type\": \"azureml.scriptrun\", \"training_percent\": \"100\", \"start_time\": \"2021-01-08T18:31:21.233987Z\", \"end_time\": \"2021-01-08T18:31:58.068199Z\", \"created_time\": \"2021-01-08T18:31:10.137014Z\", \"created_time_dt\": \"2021-01-08T18:31:10.137014Z\", \"duration\": \"0:00:47\", \"iteration\": \"55\", \"goal\": \"accuracy_max\", \"run_name\": \"MaxAbsScaler, LightGBM\", \"run_properties\": \"copy=True\", \"primary_metric\": 0.97647059, \"best_metric\": 1.0}, {\"run_id\": \"AutoML_ce25be63-6ad2-40b3-9fb4-4e1a156aa6f9_56\", \"run_number\": 127, \"metric\": null, \"status\": \"Completed\", \"run_type\": \"azureml.scriptrun\", \"training_percent\": \"100\", \"start_time\": \"2021-01-08T18:31:24.591605Z\", \"end_time\": \"2021-01-08T18:32:03.602656Z\", \"created_time\": \"2021-01-08T18:31:14.476379Z\", \"created_time_dt\": \"2021-01-08T18:31:14.476379Z\", \"duration\": \"0:00:49\", \"iteration\": \"56\", \"goal\": \"accuracy_max\", \"run_name\": \"SparseNormalizer, XGBoostClassifier\", \"run_properties\": \"<azureml.automl.runtime.shared.model_wrappers.SparseNormalizer object at 0x7f186162dda0\", \"primary_metric\": 0.97647059, \"best_metric\": 1.0}, {\"run_id\": \"AutoML_ce25be63-6ad2-40b3-9fb4-4e1a156aa6f9_57\", \"run_number\": 128, \"metric\": null, \"status\": \"Completed\", \"run_type\": \"azureml.scriptrun\", \"training_percent\": \"100\", \"start_time\": \"2021-01-08T18:31:38.219784Z\", \"end_time\": \"2021-01-08T18:32:15.361546Z\", \"created_time\": \"2021-01-08T18:31:26.14926Z\", \"created_time_dt\": \"2021-01-08T18:31:26.14926Z\", \"duration\": \"0:00:49\", \"iteration\": \"57\", \"goal\": \"accuracy_max\", \"run_name\": \"SparseNormalizer, XGBoostClassifier\", \"run_properties\": \"<azureml.automl.runtime.shared.model_wrappers.SparseNormalizer object at 0x7fb6dc015588\", \"primary_metric\": 0.97647059, \"best_metric\": 1.0}, {\"run_id\": \"AutoML_ce25be63-6ad2-40b3-9fb4-4e1a156aa6f9_58\", \"run_number\": 129, \"metric\": null, \"status\": \"Completed\", \"run_type\": \"azureml.scriptrun\", \"training_percent\": \"100\", \"start_time\": \"2021-01-08T18:31:42.480732Z\", \"end_time\": \"2021-01-08T18:32:19.733872Z\", \"created_time\": \"2021-01-08T18:31:30.44865Z\", \"created_time_dt\": \"2021-01-08T18:31:30.44865Z\", \"duration\": \"0:00:49\", \"iteration\": \"58\", \"goal\": \"accuracy_max\", \"run_name\": \"SparseNormalizer, LightGBM\", \"run_properties\": \"<azureml.automl.runtime.shared.model_wrappers.SparseNormalizer object at 0x7f20c40a8278\", \"primary_metric\": 0.97058824, \"best_metric\": 1.0}, {\"run_id\": \"AutoML_ce25be63-6ad2-40b3-9fb4-4e1a156aa6f9_59\", \"run_number\": 130, \"metric\": null, \"status\": \"Completed\", \"run_type\": \"azureml.scriptrun\", \"training_percent\": \"100\", \"start_time\": \"2021-01-08T18:32:12.335861Z\", \"end_time\": \"2021-01-08T18:32:51.305027Z\", \"created_time\": \"2021-01-08T18:32:01.378903Z\", \"created_time_dt\": \"2021-01-08T18:32:01.378903Z\", \"duration\": \"0:00:49\", \"iteration\": \"59\", \"goal\": \"accuracy_max\", \"run_name\": \"MaxAbsScaler, LightGBM\", \"run_properties\": \"copy=True\", \"primary_metric\": 0.44705882, \"best_metric\": 1.0}, {\"run_id\": \"AutoML_ce25be63-6ad2-40b3-9fb4-4e1a156aa6f9_60\", \"run_number\": 131, \"metric\": null, \"status\": \"Completed\", \"run_type\": \"azureml.scriptrun\", \"training_percent\": \"100\", \"start_time\": \"2021-01-08T18:32:13.373065Z\", \"end_time\": \"2021-01-08T18:32:51.252526Z\", \"created_time\": \"2021-01-08T18:32:01.560112Z\", \"created_time_dt\": \"2021-01-08T18:32:01.560112Z\", \"duration\": \"0:00:49\", \"iteration\": \"60\", \"goal\": \"accuracy_max\", \"run_name\": \"TruncatedSVDWrapper, XGBoostClassifier\", \"run_properties\": \"n_components=0.9005263157894737, random_state=None\", \"primary_metric\": 0.98235294, \"best_metric\": 1.0}, {\"run_id\": \"AutoML_ce25be63-6ad2-40b3-9fb4-4e1a156aa6f9_61\", \"run_number\": 132, \"metric\": null, \"status\": \"Completed\", \"run_type\": \"azureml.scriptrun\", \"training_percent\": \"100\", \"start_time\": \"2021-01-08T18:32:30.805213Z\", \"end_time\": \"2021-01-08T18:32:59.415756Z\", \"created_time\": \"2021-01-08T18:32:05.759417Z\", \"created_time_dt\": \"2021-01-08T18:32:05.759417Z\", \"duration\": \"0:00:53\", \"iteration\": \"61\", \"goal\": \"accuracy_max\", \"run_name\": \"MaxAbsScaler, LightGBM\", \"run_properties\": \"copy=True\", \"primary_metric\": 0.97647059, \"best_metric\": 1.0}, {\"run_id\": \"AutoML_ce25be63-6ad2-40b3-9fb4-4e1a156aa6f9_62\", \"run_number\": 133, \"metric\": null, \"status\": \"Completed\", \"run_type\": \"azureml.scriptrun\", \"training_percent\": \"100\", \"start_time\": \"2021-01-08T18:32:29.370395Z\", \"end_time\": \"2021-01-08T18:33:09.228502Z\", \"created_time\": \"2021-01-08T18:32:17.630398Z\", \"created_time_dt\": \"2021-01-08T18:32:17.630398Z\", \"duration\": \"0:00:51\", \"iteration\": \"62\", \"goal\": \"accuracy_max\", \"run_name\": \"MaxAbsScaler, RandomForest\", \"run_properties\": \"copy=True\", \"primary_metric\": 0.98823529, \"best_metric\": 1.0}, {\"run_id\": \"AutoML_ce25be63-6ad2-40b3-9fb4-4e1a156aa6f9_63\", \"run_number\": 134, \"metric\": null, \"status\": \"Completed\", \"run_type\": \"azureml.scriptrun\", \"training_percent\": \"100\", \"start_time\": \"2021-01-08T18:32:32.427844Z\", \"end_time\": \"2021-01-08T18:33:15.889331Z\", \"created_time\": \"2021-01-08T18:32:21.974376Z\", \"created_time_dt\": \"2021-01-08T18:32:21.974376Z\", \"duration\": \"0:00:53\", \"iteration\": \"63\", \"goal\": \"accuracy_max\", \"run_name\": \"MaxAbsScaler, ExtremeRandomTrees\", \"run_properties\": \"copy=True\", \"primary_metric\": 0.94705882, \"best_metric\": 1.0}, {\"run_id\": \"AutoML_ce25be63-6ad2-40b3-9fb4-4e1a156aa6f9_65\", \"run_number\": 135, \"metric\": null, \"status\": \"Completed\", \"run_type\": \"azureml.scriptrun\", \"training_percent\": \"100\", \"start_time\": \"2021-01-08T18:33:06.276844Z\", \"end_time\": \"2021-01-08T18:33:57.856056Z\", \"created_time\": \"2021-01-08T18:32:54.619608Z\", \"created_time_dt\": \"2021-01-08T18:32:54.619608Z\", \"duration\": \"0:01:03\", \"iteration\": \"65\", \"goal\": \"accuracy_max\", \"run_name\": \"SparseNormalizer, ExtremeRandomTrees\", \"run_properties\": \"<azureml.automl.runtime.shared.model_wrappers.SparseNormalizer object at 0x7fc376b1d2e8\", \"primary_metric\": 0.95882353, \"best_metric\": 1.0}, {\"run_id\": \"AutoML_ce25be63-6ad2-40b3-9fb4-4e1a156aa6f9_64\", \"run_number\": 136, \"metric\": null, \"status\": \"Completed\", \"run_type\": \"azureml.scriptrun\", \"training_percent\": \"100\", \"start_time\": \"2021-01-08T18:33:06.383186Z\", \"end_time\": \"2021-01-08T18:33:43.527203Z\", \"created_time\": \"2021-01-08T18:32:54.681432Z\", \"created_time_dt\": \"2021-01-08T18:32:54.681432Z\", \"duration\": \"0:00:48\", \"iteration\": \"64\", \"goal\": \"accuracy_max\", \"run_name\": \"TruncatedSVDWrapper, LightGBM\", \"run_properties\": \"n_components=0.3563157894736842, random_state=None\", \"primary_metric\": 0.99411765, \"best_metric\": 1.0}, {\"run_id\": \"AutoML_ce25be63-6ad2-40b3-9fb4-4e1a156aa6f9_66\", \"run_number\": 137, \"metric\": null, \"status\": \"Completed\", \"run_type\": \"azureml.scriptrun\", \"training_percent\": \"100\", \"start_time\": \"2021-01-08T18:33:13.36395Z\", \"end_time\": \"2021-01-08T18:33:53.270266Z\", \"created_time\": \"2021-01-08T18:33:01.615256Z\", \"created_time_dt\": \"2021-01-08T18:33:01.615256Z\", \"duration\": \"0:00:51\", \"iteration\": \"66\", \"goal\": \"accuracy_max\", \"run_name\": \"StandardScalerWrapper, ExtremeRandomTrees\", \"run_properties\": \"<azureml.automl.runtime.shared.model_wrappers.StandardScalerWrapper object at 0x7fad90ca4b38\", \"primary_metric\": 0.97647059, \"best_metric\": 1.0}, {\"run_id\": \"AutoML_ce25be63-6ad2-40b3-9fb4-4e1a156aa6f9_67\", \"run_number\": 138, \"metric\": null, \"status\": \"Completed\", \"run_type\": \"azureml.scriptrun\", \"training_percent\": \"100\", \"start_time\": \"2021-01-08T18:33:23.21292Z\", \"end_time\": \"2021-01-08T18:33:57.849503Z\", \"created_time\": \"2021-01-08T18:33:11.348093Z\", \"created_time_dt\": \"2021-01-08T18:33:11.348093Z\", \"duration\": \"0:00:46\", \"iteration\": \"67\", \"goal\": \"accuracy_max\", \"run_name\": \"SparseNormalizer, ExtremeRandomTrees\", \"run_properties\": \"<azureml.automl.runtime.shared.model_wrappers.SparseNormalizer object at 0x7f6b54046588\", \"primary_metric\": 0.94117647, \"best_metric\": 1.0}, {\"run_id\": \"AutoML_ce25be63-6ad2-40b3-9fb4-4e1a156aa6f9_68\", \"run_number\": 139, \"metric\": null, \"status\": \"Completed\", \"run_type\": \"azureml.scriptrun\", \"training_percent\": \"100\", \"start_time\": \"2021-01-08T18:33:30.320301Z\", \"end_time\": \"2021-01-08T18:34:21.881939Z\", \"created_time\": \"2021-01-08T18:33:18.494877Z\", \"created_time_dt\": \"2021-01-08T18:33:18.494877Z\", \"duration\": \"0:01:03\", \"iteration\": \"68\", \"goal\": \"accuracy_max\", \"run_name\": \"MaxAbsScaler, ExtremeRandomTrees\", \"run_properties\": \"copy=True\", \"primary_metric\": 0.97647059, \"best_metric\": 1.0}, {\"run_id\": \"AutoML_ce25be63-6ad2-40b3-9fb4-4e1a156aa6f9_69\", \"run_number\": 140, \"metric\": null, \"status\": \"Completed\", \"run_type\": \"azureml.scriptrun\", \"training_percent\": \"100\", \"start_time\": \"2021-01-08T18:33:57.517844Z\", \"end_time\": \"2021-01-08T18:34:46.109363Z\", \"created_time\": \"2021-01-08T18:33:45.722751Z\", \"created_time_dt\": \"2021-01-08T18:33:45.722751Z\", \"duration\": \"0:01:00\", \"iteration\": \"69\", \"goal\": \"accuracy_max\", \"run_name\": \"MaxAbsScaler, ExtremeRandomTrees\", \"run_properties\": \"copy=True\", \"primary_metric\": 0.97647059, \"best_metric\": 1.0}, {\"run_id\": \"AutoML_ce25be63-6ad2-40b3-9fb4-4e1a156aa6f9_70\", \"run_number\": 141, \"metric\": null, \"status\": \"Completed\", \"run_type\": \"azureml.scriptrun\", \"training_percent\": \"100\", \"start_time\": \"2021-01-08T18:34:09.478799Z\", \"end_time\": \"2021-01-08T18:34:52.367189Z\", \"created_time\": \"2021-01-08T18:33:56.593784Z\", \"created_time_dt\": \"2021-01-08T18:33:56.593784Z\", \"duration\": \"0:00:55\", \"iteration\": \"70\", \"goal\": \"accuracy_max\", \"run_name\": \"StandardScalerWrapper, LightGBM\", \"run_properties\": \"<azureml.automl.runtime.shared.model_wrappers.StandardScalerWrapper object at 0x7fb48d740048\", \"primary_metric\": 0.95882353, \"best_metric\": 1.0}, {\"run_id\": \"AutoML_ce25be63-6ad2-40b3-9fb4-4e1a156aa6f9_71\", \"run_number\": 142, \"metric\": null, \"status\": \"Completed\", \"run_type\": \"azureml.scriptrun\", \"training_percent\": \"100\", \"start_time\": \"2021-01-08T18:34:12.882555Z\", \"end_time\": \"2021-01-08T18:34:55.165098Z\", \"created_time\": \"2021-01-08T18:34:02.371157Z\", \"created_time_dt\": \"2021-01-08T18:34:02.371157Z\", \"duration\": \"0:00:52\", \"iteration\": \"71\", \"goal\": \"accuracy_max\", \"run_name\": \"MaxAbsScaler, LightGBM\", \"run_properties\": \"copy=True\", \"primary_metric\": 0.98235294, \"best_metric\": 1.0}, {\"run_id\": \"AutoML_ce25be63-6ad2-40b3-9fb4-4e1a156aa6f9_72\", \"run_number\": 143, \"metric\": null, \"status\": \"Completed\", \"run_type\": \"azureml.scriptrun\", \"training_percent\": \"100\", \"start_time\": \"2021-01-08T18:34:14.854685Z\", \"end_time\": \"2021-01-08T18:34:51.97468Z\", \"created_time\": \"2021-01-08T18:34:02.566863Z\", \"created_time_dt\": \"2021-01-08T18:34:02.566863Z\", \"duration\": \"0:00:49\", \"iteration\": \"72\", \"goal\": \"accuracy_max\", \"run_name\": \"MaxAbsScaler, LightGBM\", \"run_properties\": \"copy=True\", \"primary_metric\": 0.98235294, \"best_metric\": 1.0}, {\"run_id\": \"AutoML_ce25be63-6ad2-40b3-9fb4-4e1a156aa6f9_73\", \"run_number\": 144, \"metric\": null, \"status\": \"Completed\", \"run_type\": \"azureml.scriptrun\", \"training_percent\": \"100\", \"start_time\": \"2021-01-08T18:34:36.525749Z\", \"end_time\": \"2021-01-08T18:35:13.634131Z\", \"created_time\": \"2021-01-08T18:34:24.394369Z\", \"created_time_dt\": \"2021-01-08T18:34:24.394369Z\", \"duration\": \"0:00:49\", \"iteration\": \"73\", \"goal\": \"accuracy_max\", \"run_name\": \"MaxAbsScaler, LightGBM\", \"run_properties\": \"copy=True\", \"primary_metric\": 0.96470588, \"best_metric\": 1.0}, {\"run_id\": \"AutoML_ce25be63-6ad2-40b3-9fb4-4e1a156aa6f9_74\", \"run_number\": 145, \"metric\": null, \"status\": \"Canceled\", \"run_type\": \"azureml.scriptrun\", \"training_percent\": \"100\", \"start_time\": \"2021-01-08T18:35:00.542323Z\", \"end_time\": \"2021-01-08T18:35:22.514736Z\", \"created_time\": \"2021-01-08T18:34:48.363776Z\", \"created_time_dt\": \"2021-01-08T18:34:48.363776Z\", \"duration\": \"0:00:34\", \"iteration\": \"74\", \"goal\": null, \"run_name\": \"StandardScalerWrapper, LightGBM\", \"run_properties\": null}, {\"run_id\": \"AutoML_ce25be63-6ad2-40b3-9fb4-4e1a156aa6f9_75\", \"run_number\": 146, \"metric\": null, \"status\": \"Canceled\", \"run_type\": \"azureml.scriptrun\", \"training_percent\": \"100\", \"start_time\": \"2021-01-08T18:35:06.091446Z\", \"end_time\": \"2021-01-08T18:35:20.444535Z\", \"created_time\": \"2021-01-08T18:34:55.574052Z\", \"created_time_dt\": \"2021-01-08T18:34:55.574052Z\", \"duration\": \"0:00:24\", \"iteration\": \"75\", \"goal\": null, \"run_name\": \"Canceled\", \"run_properties\": null}, {\"run_id\": \"AutoML_ce25be63-6ad2-40b3-9fb4-4e1a156aa6f9_76\", \"run_number\": 147, \"metric\": null, \"status\": \"Canceled\", \"run_type\": \"azureml.scriptrun\", \"training_percent\": \"100\", \"start_time\": \"2021-01-08T18:35:05.599388Z\", \"end_time\": \"2021-01-08T18:35:21.863114Z\", \"created_time\": \"2021-01-08T18:34:55.579588Z\", \"created_time_dt\": \"2021-01-08T18:34:55.579588Z\", \"duration\": \"0:00:26\", \"iteration\": \"76\", \"goal\": null, \"run_name\": \"Canceled\", \"run_properties\": null}, {\"run_id\": \"AutoML_ce25be63-6ad2-40b3-9fb4-4e1a156aa6f9_77\", \"run_number\": 148, \"metric\": null, \"status\": \"Canceled\", \"run_type\": \"azureml.scriptrun\", \"training_percent\": \"100\", \"start_time\": \"2021-01-08T18:35:11.176856Z\", \"end_time\": \"2021-01-08T18:35:21.083738Z\", \"created_time\": \"2021-01-08T18:34:59.571517Z\", \"created_time_dt\": \"2021-01-08T18:34:59.571517Z\", \"duration\": \"0:00:21\", \"iteration\": \"77\", \"goal\": null, \"run_name\": \"Canceled\", \"run_properties\": null}, {\"run_id\": \"AutoML_ce25be63-6ad2-40b3-9fb4-4e1a156aa6f9_78\", \"run_number\": 149, \"metric\": null, \"status\": \"Completed\", \"run_type\": \"azureml.scriptrun\", \"training_percent\": \"100\", \"start_time\": \"2021-01-08T18:35:35.918049Z\", \"end_time\": \"2021-01-08T18:37:30.45009Z\", \"created_time\": \"2021-01-08T18:35:24.002555Z\", \"created_time_dt\": \"2021-01-08T18:35:24.002555Z\", \"duration\": \"0:02:06\", \"iteration\": \"78\", \"goal\": \"accuracy_max\", \"run_name\": \"VotingEnsemble\", \"run_properties\": \"classification_labels=None,\\n                              estimators=[('40',\\n                                           Pipeline(memory=None,\\n                                                    steps=[('truncatedsvdwrapper',\\n                                                            TruncatedSVDWrapper(n_components=0.5047368421052632,\\n                                                                                random_state=None\", \"primary_metric\": 1.0, \"best_metric\": 1.0}, {\"run_id\": \"AutoML_ce25be63-6ad2-40b3-9fb4-4e1a156aa6f9_79\", \"run_number\": 150, \"metric\": null, \"status\": \"Completed\", \"run_type\": \"azureml.scriptrun\", \"training_percent\": \"100\", \"start_time\": \"2021-01-08T18:35:35.832367Z\", \"end_time\": \"2021-01-08T18:37:29.785437Z\", \"created_time\": \"2021-01-08T18:35:24.223064Z\", \"created_time_dt\": \"2021-01-08T18:35:24.223064Z\", \"duration\": \"0:02:05\", \"iteration\": \"79\", \"goal\": \"accuracy_max\", \"run_name\": \"StackEnsemble\", \"run_properties\": \"base_learners=[('40',\\n                                        Pipeline(memory=None,\\n                                                 steps=[('truncatedsvdwrapper',\\n                                                         TruncatedSVDWrapper(n_components=0.5047368421052632,\\n                                                                             random_state=None\", \"primary_metric\": 0.98823529, \"best_metric\": 1.0}], \"children_metrics\": {\"categories\": [0], \"series\": {\"weighted_accuracy\": [{\"categories\": [\"0\", \"1\", \"2\", \"3\", \"4\", \"5\", \"6\", \"7\", \"8\", \"9\", \"10\", \"11\", \"12\", \"13\", \"14\", \"15\", \"16\", \"17\", \"18\", \"19\", \"20\", \"21\", \"22\", \"23\", \"24\", \"25\", \"26\", \"27\", \"28\", \"29\", \"30\", \"31\", \"32\", \"33\", \"34\", \"35\", \"36\", \"37\", \"38\", \"39\", \"40\", \"41\", \"42\", \"43\", \"44\", \"45\", \"46\", \"47\", \"48\", \"49\", \"50\", \"51\", \"52\", \"53\", \"54\", \"55\", \"56\", \"57\", \"58\", \"59\", \"60\", \"61\", \"62\", \"63\", \"64\", \"65\", \"66\", \"67\", \"68\", \"69\", \"70\", \"71\", \"72\", \"73\", \"78\", \"79\"], \"mode\": \"markers\", \"name\": \"weighted_accuracy\", \"stepped\": false, \"type\": \"scatter\", \"data\": [0.9703412565062675, 0.9701144887485196, 0.9640833826257902, 0.9817506524794218, 0.9705680242640154, 0.9770526659022407, 0.9636298471102943, 0.9768258981444926, 0.9768258981444926, 0.9703412565062675, 0.9514234628501056, 0.9701144887485196, 0.9770526659022407, 0.9522525193049024, 0.9817506524794218, 0.9703412565062675, 0.9701144887485196, 0.9703412565062675, 0.9768258981444926, 0.9636298471102943, 0.9882352941176471, 0.9770526659022407, 0.9817506524794218, 0.9701144887485196, 0.9770526659022407, 0.9752660108411966, 0.9770526659022407, 0.9817506524794218, 0.9768258981444926, 0.9701144887485196, 0.9288175604208744, 0.9770526659022407, 0.9815238847216741, 0.9506605638338439, 0.9768258981444926, 0.9768258981444926, 0.9770526659022407, 0.9770526659022407, 0.9703412565062675, 0.9941176470588236, 1.0, 0.9831158401927323, 0.9585103931853796, 0.9770526659022407, 0.9768258981444926, 0.9750392430834488, 0.9882352941176471, 0.9770526659022407, 0.9835373075404659, 0.9768258981444926, 0.9770526659022407, 0.9703412565062675, 0.9817506524794218, 0.9703412565062675, 0.9636298471102943, 0.9750392430834488, 0.9768258981444926, 0.9768258981444926, 0.9703412565062675, 0.39614723870169727, 0.9831158401927323, 0.9768258981444926, 0.9882352941176471, 0.9470669079414528, 0.9948805460750852, 0.9597268277171374, 0.9770526659022407, 0.9390564682707039, 0.9770526659022407, 0.9770526659022407, 0.9559406280779715, 0.9835373075404659, 0.9835373075404659, 0.9636298471102943, 1.0, 0.9882352941176471]}, {\"categories\": [\"0\", \"1\", \"2\", \"3\", \"4\", \"5\", \"6\", \"7\", \"8\", \"9\", \"10\", \"11\", \"12\", \"13\", \"14\", \"15\", \"16\", \"17\", \"18\", \"19\", \"20\", \"21\", \"22\", \"23\", \"24\", \"25\", \"26\", \"27\", \"28\", \"29\", \"30\", \"31\", \"32\", \"33\", \"34\", \"35\", \"36\", \"37\", \"38\", \"39\", \"40\", \"41\", \"42\", \"43\", \"44\", \"45\", \"46\", \"47\", \"48\", \"49\", \"50\", \"51\", \"52\", \"53\", \"54\", \"55\", \"56\", \"57\", \"58\", \"59\", \"60\", \"61\", \"62\", \"63\", \"64\", \"65\", \"66\", \"67\", \"68\", \"69\", \"70\", \"71\", \"72\", \"73\", \"78\", \"79\"], \"mode\": \"lines\", \"name\": \"weighted_accuracy_max\", \"stepped\": true, \"type\": \"scatter\", \"data\": [0.9703412565062675, 0.9703412565062675, 0.9703412565062675, 0.9817506524794218, 0.9817506524794218, 0.9817506524794218, 0.9817506524794218, 0.9817506524794218, 0.9817506524794218, 0.9817506524794218, 0.9817506524794218, 0.9817506524794218, 0.9817506524794218, 0.9817506524794218, 0.9817506524794218, 0.9817506524794218, 0.9817506524794218, 0.9817506524794218, 0.9817506524794218, 0.9817506524794218, 0.9882352941176471, 0.9882352941176471, 0.9882352941176471, 0.9882352941176471, 0.9882352941176471, 0.9882352941176471, 0.9882352941176471, 0.9882352941176471, 0.9882352941176471, 0.9882352941176471, 0.9882352941176471, 0.9882352941176471, 0.9882352941176471, 0.9882352941176471, 0.9882352941176471, 0.9882352941176471, 0.9882352941176471, 0.9882352941176471, 0.9882352941176471, 0.9941176470588236, 1.0, 1.0, 1.0, 1.0, 1.0, 1.0, 1.0, 1.0, 1.0, 1.0, 1.0, 1.0, 1.0, 1.0, 1.0, 1.0, 1.0, 1.0, 1.0, 1.0, 1.0, 1.0, 1.0, 1.0, 1.0, 1.0, 1.0, 1.0, 1.0, 1.0, 1.0, 1.0, 1.0, 1.0, 1.0, 1.0]}], \"f1_score_micro\": [{\"categories\": [\"0\", \"1\", \"2\", \"3\", \"4\", \"5\", \"6\", \"7\", \"8\", \"9\", \"10\", \"11\", \"12\", \"13\", \"14\", \"15\", \"16\", \"17\", \"18\", \"19\", \"20\", \"21\", \"22\", \"23\", \"24\", \"25\", \"26\", \"27\", \"28\", \"29\", \"30\", \"31\", \"32\", \"33\", \"34\", \"35\", \"36\", \"37\", \"38\", \"39\", \"40\", \"41\", \"42\", \"43\", \"44\", \"45\", \"46\", \"47\", \"48\", \"49\", \"50\", \"51\", \"52\", \"53\", \"54\", \"55\", \"56\", \"57\", \"58\", \"59\", \"60\", \"61\", \"62\", \"63\", \"64\", \"65\", \"66\", \"67\", \"68\", \"69\", \"70\", \"71\", \"72\", \"73\", \"78\", \"79\"], \"mode\": \"markers\", \"name\": \"f1_score_micro\", \"stepped\": false, \"type\": \"scatter\", \"data\": [0.9705882352941178, 0.9705882352941178, 0.9647058823529413, 0.9823529411764707, 0.9705882352941178, 0.9764705882352942, 0.9647058823529413, 0.9764705882352942, 0.9764705882352942, 0.9705882352941178, 0.9529411764705882, 0.9705882352941178, 0.9764705882352942, 0.9529411764705882, 0.9823529411764707, 0.9705882352941178, 0.9705882352941178, 0.9705882352941178, 0.9764705882352942, 0.9647058823529413, 0.9882352941176471, 0.9764705882352942, 0.9823529411764707, 0.9705882352941178, 0.9764705882352942, 0.9764705882352942, 0.9764705882352942, 0.9823529411764707, 0.9764705882352942, 0.9705882352941178, 0.9294117647058823, 0.9764705882352942, 0.9823529411764707, 0.9529411764705881, 0.9764705882352942, 0.9764705882352942, 0.9764705882352942, 0.9764705882352942, 0.9705882352941178, 0.9941176470588236, 1.0, 0.9823529411764707, 0.9588235294117649, 0.9764705882352942, 0.9764705882352942, 0.9764705882352942, 0.9882352941176471, 0.9764705882352942, 0.9823529411764707, 0.9764705882352942, 0.9764705882352942, 0.9705882352941178, 0.9823529411764707, 0.9705882352941178, 0.9647058823529413, 0.9764705882352942, 0.9764705882352942, 0.9764705882352942, 0.9705882352941178, 0.4470588235294118, 0.9823529411764707, 0.9764705882352942, 0.9882352941176471, 0.9470588235294116, 0.9941176470588236, 0.9588235294117646, 0.9764705882352942, 0.9411764705882352, 0.9764705882352942, 0.9764705882352942, 0.9588235294117646, 0.9823529411764707, 0.9823529411764707, 0.9647058823529413, 1.0, 0.9882352941176471]}, {\"categories\": [\"0\", \"1\", \"2\", \"3\", \"4\", \"5\", \"6\", \"7\", \"8\", \"9\", \"10\", \"11\", \"12\", \"13\", \"14\", \"15\", \"16\", \"17\", \"18\", \"19\", \"20\", \"21\", \"22\", \"23\", \"24\", \"25\", \"26\", \"27\", \"28\", \"29\", \"30\", \"31\", \"32\", \"33\", \"34\", \"35\", \"36\", \"37\", \"38\", \"39\", \"40\", \"41\", \"42\", \"43\", \"44\", \"45\", \"46\", \"47\", \"48\", \"49\", \"50\", \"51\", \"52\", \"53\", \"54\", \"55\", \"56\", \"57\", \"58\", \"59\", \"60\", \"61\", \"62\", \"63\", \"64\", \"65\", \"66\", \"67\", \"68\", \"69\", \"70\", \"71\", \"72\", \"73\", \"78\", \"79\"], \"mode\": \"lines\", \"name\": \"f1_score_micro_max\", \"stepped\": true, \"type\": \"scatter\", \"data\": [0.9705882352941178, 0.9705882352941178, 0.9705882352941178, 0.9823529411764707, 0.9823529411764707, 0.9823529411764707, 0.9823529411764707, 0.9823529411764707, 0.9823529411764707, 0.9823529411764707, 0.9823529411764707, 0.9823529411764707, 0.9823529411764707, 0.9823529411764707, 0.9823529411764707, 0.9823529411764707, 0.9823529411764707, 0.9823529411764707, 0.9823529411764707, 0.9823529411764707, 0.9882352941176471, 0.9882352941176471, 0.9882352941176471, 0.9882352941176471, 0.9882352941176471, 0.9882352941176471, 0.9882352941176471, 0.9882352941176471, 0.9882352941176471, 0.9882352941176471, 0.9882352941176471, 0.9882352941176471, 0.9882352941176471, 0.9882352941176471, 0.9882352941176471, 0.9882352941176471, 0.9882352941176471, 0.9882352941176471, 0.9882352941176471, 0.9941176470588236, 1.0, 1.0, 1.0, 1.0, 1.0, 1.0, 1.0, 1.0, 1.0, 1.0, 1.0, 1.0, 1.0, 1.0, 1.0, 1.0, 1.0, 1.0, 1.0, 1.0, 1.0, 1.0, 1.0, 1.0, 1.0, 1.0, 1.0, 1.0, 1.0, 1.0, 1.0, 1.0, 1.0, 1.0, 1.0, 1.0]}], \"precision_score_macro\": [{\"categories\": [\"0\", \"1\", \"2\", \"3\", \"4\", \"5\", \"6\", \"7\", \"8\", \"9\", \"10\", \"11\", \"12\", \"13\", \"14\", \"15\", \"16\", \"17\", \"18\", \"19\", \"20\", \"21\", \"22\", \"23\", \"24\", \"25\", \"26\", \"27\", \"28\", \"29\", \"30\", \"31\", \"32\", \"33\", \"34\", \"35\", \"36\", \"37\", \"38\", \"39\", \"40\", \"41\", \"42\", \"43\", \"44\", \"45\", \"46\", \"47\", \"48\", \"49\", \"50\", \"51\", \"52\", \"53\", \"54\", \"55\", \"56\", \"57\", \"58\", \"59\", \"60\", \"61\", \"62\", \"63\", \"64\", \"65\", \"66\", \"67\", \"68\", \"69\", \"70\", \"71\", \"72\", \"73\", \"78\", \"79\"], \"mode\": \"markers\", \"name\": \"precision_score_macro\", \"stepped\": false, \"type\": \"scatter\", \"data\": [0.9710808270676692, 0.9708771929824561, 0.9666970735662688, 0.9832236842105264, 0.9729470735662687, 0.9784617794486217, 0.9646271929824561, 0.9773308270676692, 0.9773308270676692, 0.9710808270676692, 0.9523185414516684, 0.9708771929824561, 0.9784617794486217, 0.9538014153029633, 0.9832236842105264, 0.9710808270676692, 0.9708771929824561, 0.9710808270676692, 0.9773308270676692, 0.9646271929824561, 0.9894736842105264, 0.9784617794486217, 0.9832236842105264, 0.9708771929824561, 0.9784617794486217, 0.9777089783281735, 0.9784617794486217, 0.9832236842105264, 0.9773308270676692, 0.9708771929824561, 0.9315739716939408, 0.9784617794486217, 0.9828070175438597, 0.9542105263157896, 0.9773308270676692, 0.9773308270676692, 0.9784617794486217, 0.9784617794486217, 0.9710808270676692, 0.9944444444444445, 1.0, 0.9844736842105263, 0.959627192982456, 0.9784617794486217, 0.9773308270676692, 0.9765570175438597, 0.9894736842105264, 0.9784617794486217, 0.9847117794486216, 0.9773308270676692, 0.9784617794486217, 0.9710808270676692, 0.9832236842105264, 0.9710808270676692, 0.9646271929824561, 0.9765570175438597, 0.9773308270676692, 0.9773308270676692, 0.9710808270676692, 0.2235294117647059, 0.9844736842105263, 0.9773308270676692, 0.9894736842105264, 0.9483502874834144, 0.9949999999999999, 0.9611531279178338, 0.9784617794486217, 0.9410977812177503, 0.9784617794486217, 0.9784617794486217, 0.9584868421052632, 0.9847117794486216, 0.9847117794486216, 0.9646271929824561, 1.0, 0.9894736842105264]}, {\"categories\": [\"0\", \"1\", \"2\", \"3\", \"4\", \"5\", \"6\", \"7\", \"8\", \"9\", \"10\", \"11\", \"12\", \"13\", \"14\", \"15\", \"16\", \"17\", \"18\", \"19\", \"20\", \"21\", \"22\", \"23\", \"24\", \"25\", \"26\", \"27\", \"28\", \"29\", \"30\", \"31\", \"32\", \"33\", \"34\", \"35\", \"36\", \"37\", \"38\", \"39\", \"40\", \"41\", \"42\", \"43\", \"44\", \"45\", \"46\", \"47\", \"48\", \"49\", \"50\", \"51\", \"52\", \"53\", \"54\", \"55\", \"56\", \"57\", \"58\", \"59\", \"60\", \"61\", \"62\", \"63\", \"64\", \"65\", \"66\", \"67\", \"68\", \"69\", \"70\", \"71\", \"72\", \"73\", \"78\", \"79\"], \"mode\": \"lines\", \"name\": \"precision_score_macro_max\", \"stepped\": true, \"type\": \"scatter\", \"data\": [0.9710808270676692, 0.9710808270676692, 0.9710808270676692, 0.9832236842105264, 0.9832236842105264, 0.9832236842105264, 0.9832236842105264, 0.9832236842105264, 0.9832236842105264, 0.9832236842105264, 0.9832236842105264, 0.9832236842105264, 0.9832236842105264, 0.9832236842105264, 0.9832236842105264, 0.9832236842105264, 0.9832236842105264, 0.9832236842105264, 0.9832236842105264, 0.9832236842105264, 0.9894736842105264, 0.9894736842105264, 0.9894736842105264, 0.9894736842105264, 0.9894736842105264, 0.9894736842105264, 0.9894736842105264, 0.9894736842105264, 0.9894736842105264, 0.9894736842105264, 0.9894736842105264, 0.9894736842105264, 0.9894736842105264, 0.9894736842105264, 0.9894736842105264, 0.9894736842105264, 0.9894736842105264, 0.9894736842105264, 0.9894736842105264, 0.9944444444444445, 1.0, 1.0, 1.0, 1.0, 1.0, 1.0, 1.0, 1.0, 1.0, 1.0, 1.0, 1.0, 1.0, 1.0, 1.0, 1.0, 1.0, 1.0, 1.0, 1.0, 1.0, 1.0, 1.0, 1.0, 1.0, 1.0, 1.0, 1.0, 1.0, 1.0, 1.0, 1.0, 1.0, 1.0, 1.0, 1.0]}], \"average_precision_score_weighted\": [{\"categories\": [\"0\", \"1\", \"2\", \"3\", \"4\", \"5\", \"6\", \"7\", \"8\", \"9\", \"10\", \"11\", \"12\", \"13\", \"14\", \"15\", \"16\", \"17\", \"18\", \"19\", \"20\", \"21\", \"22\", \"23\", \"24\", \"25\", \"26\", \"27\", \"28\", \"29\", \"30\", \"31\", \"32\", \"33\", \"34\", \"35\", \"36\", \"37\", \"38\", \"39\", \"40\", \"41\", \"42\", \"43\", \"44\", \"45\", \"46\", \"47\", \"48\", \"49\", \"50\", \"51\", \"52\", \"53\", \"54\", \"55\", \"56\", \"57\", \"58\", \"59\", \"60\", \"61\", \"62\", \"63\", \"64\", \"65\", \"66\", \"67\", \"68\", \"69\", \"70\", \"71\", \"72\", \"73\", \"78\", \"79\"], \"mode\": \"markers\", \"name\": \"average_precision_score_weighted\", \"stepped\": false, \"type\": \"scatter\", \"data\": [0.9986904761904762, 0.9986904761904762, 0.9961933633102363, 1.0, 0.9993464052287582, 0.9986904761904762, 0.9986904761904762, 0.9986904761904762, 0.9986904761904762, 0.9986904761904762, 0.9967795714777139, 0.9986904761904762, 1.0, 0.9967795714777139, 1.0, 0.9980287114845939, 0.9986904761904762, 0.9986904761904762, 0.9986904761904762, 0.9986904761904762, 1.0, 0.999327731092437, 0.9987079868066937, 0.9986904761904762, 0.999327731092437, 1.0, 1.0, 1.0, 0.999327731092437, 0.9986904761904762, 0.9949054060983661, 1.0, 0.9986741363211952, 0.9949043673196833, 0.9986904761904762, 0.9986904761904762, 1.0, 0.9993464052287582, 0.9986904761904762, 1.0, 1.0, 1.0, 0.9961792962799155, 1.0, 0.9986904761904762, 0.9986741363211952, 1.0, 0.9993464052287582, 0.9986904761904762, 0.9986904761904762, 0.9980357178991308, 0.9986904761904762, 0.9961485467627338, 0.9986904761904762, 0.9986904761904762, 0.9993464052287582, 0.9986904761904762, 0.9986904761904762, 0.9986904761904762, 0.9967967713401149, 1.0, 0.999327731092437, 0.9993464052287582, 0.9967795714777139, 1.0, 0.9967795714777139, 0.9980287114845939, 0.9936664180636134, 1.0, 1.0, 0.9967967713401149, 1.0, 0.9986904761904762, 0.9980287114845939, 1.0, 1.0]}, {\"categories\": [\"0\", \"1\", \"2\", \"3\", \"4\", \"5\", \"6\", \"7\", \"8\", \"9\", \"10\", \"11\", \"12\", \"13\", \"14\", \"15\", \"16\", \"17\", \"18\", \"19\", \"20\", \"21\", \"22\", \"23\", \"24\", \"25\", \"26\", \"27\", \"28\", \"29\", \"30\", \"31\", \"32\", \"33\", \"34\", \"35\", \"36\", \"37\", \"38\", \"39\", \"40\", \"41\", \"42\", \"43\", \"44\", \"45\", \"46\", \"47\", \"48\", \"49\", \"50\", \"51\", \"52\", \"53\", \"54\", \"55\", \"56\", \"57\", \"58\", \"59\", \"60\", \"61\", \"62\", \"63\", \"64\", \"65\", \"66\", \"67\", \"68\", \"69\", \"70\", \"71\", \"72\", \"73\", \"78\", \"79\"], \"mode\": \"lines\", \"name\": \"average_precision_score_weighted_max\", \"stepped\": true, \"type\": \"scatter\", \"data\": [0.9986904761904762, 0.9986904761904762, 0.9986904761904762, 1.0, 1.0, 1.0, 1.0, 1.0, 1.0, 1.0, 1.0, 1.0, 1.0, 1.0, 1.0, 1.0, 1.0, 1.0, 1.0, 1.0, 1.0, 1.0, 1.0, 1.0, 1.0, 1.0, 1.0, 1.0, 1.0, 1.0, 1.0, 1.0, 1.0, 1.0, 1.0, 1.0, 1.0, 1.0, 1.0, 1.0, 1.0, 1.0, 1.0, 1.0, 1.0, 1.0, 1.0, 1.0, 1.0, 1.0, 1.0, 1.0, 1.0, 1.0, 1.0, 1.0, 1.0, 1.0, 1.0, 1.0, 1.0, 1.0, 1.0, 1.0, 1.0, 1.0, 1.0, 1.0, 1.0, 1.0, 1.0, 1.0, 1.0, 1.0, 1.0, 1.0]}], \"AUC_macro\": [{\"categories\": [\"0\", \"1\", \"2\", \"3\", \"4\", \"5\", \"6\", \"7\", \"8\", \"9\", \"10\", \"11\", \"12\", \"13\", \"14\", \"15\", \"16\", \"17\", \"18\", \"19\", \"20\", \"21\", \"22\", \"23\", \"24\", \"25\", \"26\", \"27\", \"28\", \"29\", \"30\", \"31\", \"32\", \"33\", \"34\", \"35\", \"36\", \"37\", \"38\", \"39\", \"40\", \"41\", \"42\", \"43\", \"44\", \"45\", \"46\", \"47\", \"48\", \"49\", \"50\", \"51\", \"52\", \"53\", \"54\", \"55\", \"56\", \"57\", \"58\", \"59\", \"60\", \"61\", \"62\", \"63\", \"64\", \"65\", \"66\", \"67\", \"68\", \"69\", \"70\", \"71\", \"72\", \"73\", \"78\", \"79\"], \"mode\": \"markers\", \"name\": \"AUC_macro\", \"stepped\": false, \"type\": \"scatter\", \"data\": [0.9985714285714286, 0.9985714285714286, 0.9961937716262976, 1.0, 0.9993079584775086, 0.9985714285714286, 0.9985714285714286, 0.9985714285714286, 0.9985714285714286, 0.9985714285714286, 0.9964661654135337, 0.9985714285714286, 1.0, 0.9964661654135337, 1.0, 0.9978696741854638, 0.9985714285714286, 0.9985714285714286, 0.9985714285714286, 0.9985714285714286, 1.0, 0.9992857142857143, 0.9986159169550174, 0.9985714285714286, 0.9992857142857143, 1.0, 1.0, 1.0, 0.9992857142857143, 0.9985714285714286, 0.9954135338345864, 1.0, 0.9985936727632229, 0.9943609022556391, 0.9985714285714286, 0.9985714285714286, 1.0, 0.9993079584775086, 0.9985714285714286, 1.0, 1.0, 1.0, 0.9958032624814631, 1.0, 0.9985714285714286, 0.9985936727632229, 1.0, 0.9993079584775086, 0.9985714285714286, 0.9985714285714286, 0.9979016312407316, 0.9985714285714286, 0.9958380380015782, 0.9985714285714286, 0.9985714285714286, 0.9993079584775086, 0.9985714285714286, 0.9985714285714286, 0.9985714285714286, 0.9964661654135337, 1.0, 0.9992857142857143, 0.9993079584775086, 0.9964661654135337, 1.0, 0.9964661654135337, 0.9978696741854638, 0.9936625950689875, 1.0, 1.0, 0.9964661654135337, 1.0, 0.9985714285714286, 0.9978696741854638, 1.0, 1.0]}, {\"categories\": [\"0\", \"1\", \"2\", \"3\", \"4\", \"5\", \"6\", \"7\", \"8\", \"9\", \"10\", \"11\", \"12\", \"13\", \"14\", \"15\", \"16\", \"17\", \"18\", \"19\", \"20\", \"21\", \"22\", \"23\", \"24\", \"25\", \"26\", \"27\", \"28\", \"29\", \"30\", \"31\", \"32\", \"33\", \"34\", \"35\", \"36\", \"37\", \"38\", \"39\", \"40\", \"41\", \"42\", \"43\", \"44\", \"45\", \"46\", \"47\", \"48\", \"49\", \"50\", \"51\", \"52\", \"53\", \"54\", \"55\", \"56\", \"57\", \"58\", \"59\", \"60\", \"61\", \"62\", \"63\", \"64\", \"65\", \"66\", \"67\", \"68\", \"69\", \"70\", \"71\", \"72\", \"73\", \"78\", \"79\"], \"mode\": \"lines\", \"name\": \"AUC_macro_max\", \"stepped\": true, \"type\": \"scatter\", \"data\": [0.9985714285714286, 0.9985714285714286, 0.9985714285714286, 1.0, 1.0, 1.0, 1.0, 1.0, 1.0, 1.0, 1.0, 1.0, 1.0, 1.0, 1.0, 1.0, 1.0, 1.0, 1.0, 1.0, 1.0, 1.0, 1.0, 1.0, 1.0, 1.0, 1.0, 1.0, 1.0, 1.0, 1.0, 1.0, 1.0, 1.0, 1.0, 1.0, 1.0, 1.0, 1.0, 1.0, 1.0, 1.0, 1.0, 1.0, 1.0, 1.0, 1.0, 1.0, 1.0, 1.0, 1.0, 1.0, 1.0, 1.0, 1.0, 1.0, 1.0, 1.0, 1.0, 1.0, 1.0, 1.0, 1.0, 1.0, 1.0, 1.0, 1.0, 1.0, 1.0, 1.0, 1.0, 1.0, 1.0, 1.0, 1.0, 1.0]}], \"recall_score_weighted\": [{\"categories\": [\"0\", \"1\", \"2\", \"3\", \"4\", \"5\", \"6\", \"7\", \"8\", \"9\", \"10\", \"11\", \"12\", \"13\", \"14\", \"15\", \"16\", \"17\", \"18\", \"19\", \"20\", \"21\", \"22\", \"23\", \"24\", \"25\", \"26\", \"27\", \"28\", \"29\", \"30\", \"31\", \"32\", \"33\", \"34\", \"35\", \"36\", \"37\", \"38\", \"39\", \"40\", \"41\", \"42\", \"43\", \"44\", \"45\", \"46\", \"47\", \"48\", \"49\", \"50\", \"51\", \"52\", \"53\", \"54\", \"55\", \"56\", \"57\", \"58\", \"59\", \"60\", \"61\", \"62\", \"63\", \"64\", \"65\", \"66\", \"67\", \"68\", \"69\", \"70\", \"71\", \"72\", \"73\", \"78\", \"79\"], \"mode\": \"markers\", \"name\": \"recall_score_weighted\", \"stepped\": false, \"type\": \"scatter\", \"data\": [0.9705882352941178, 0.9705882352941178, 0.9647058823529413, 0.9823529411764707, 0.9705882352941178, 0.9764705882352942, 0.9647058823529413, 0.9764705882352942, 0.9764705882352942, 0.9705882352941178, 0.9529411764705882, 0.9705882352941178, 0.9764705882352942, 0.9529411764705882, 0.9823529411764707, 0.9705882352941178, 0.9705882352941178, 0.9705882352941178, 0.9764705882352942, 0.9647058823529413, 0.9882352941176471, 0.9764705882352942, 0.9823529411764707, 0.9705882352941178, 0.9764705882352942, 0.9764705882352942, 0.9764705882352942, 0.9823529411764707, 0.9764705882352942, 0.9705882352941178, 0.9294117647058824, 0.9764705882352942, 0.9823529411764707, 0.9529411764705882, 0.9764705882352942, 0.9764705882352942, 0.9764705882352942, 0.9764705882352942, 0.9705882352941178, 0.9941176470588236, 1.0, 0.9823529411764707, 0.9588235294117649, 0.9764705882352942, 0.9764705882352942, 0.9764705882352942, 0.9882352941176471, 0.9764705882352942, 0.9823529411764707, 0.9764705882352942, 0.9764705882352942, 0.9705882352941178, 0.9823529411764707, 0.9705882352941178, 0.9647058823529413, 0.9764705882352942, 0.9764705882352942, 0.9764705882352942, 0.9705882352941178, 0.4470588235294118, 0.9823529411764707, 0.9764705882352942, 0.9882352941176471, 0.9470588235294117, 0.9941176470588236, 0.9588235294117646, 0.9764705882352942, 0.9411764705882353, 0.9764705882352942, 0.9764705882352942, 0.9588235294117646, 0.9823529411764707, 0.9823529411764707, 0.9647058823529413, 1.0, 0.9882352941176471]}, {\"categories\": [\"0\", \"1\", \"2\", \"3\", \"4\", \"5\", \"6\", \"7\", \"8\", \"9\", \"10\", \"11\", \"12\", \"13\", \"14\", \"15\", \"16\", \"17\", \"18\", \"19\", \"20\", \"21\", \"22\", \"23\", \"24\", \"25\", \"26\", \"27\", \"28\", \"29\", \"30\", \"31\", \"32\", \"33\", \"34\", \"35\", \"36\", \"37\", \"38\", \"39\", \"40\", \"41\", \"42\", \"43\", \"44\", \"45\", \"46\", \"47\", \"48\", \"49\", \"50\", \"51\", \"52\", \"53\", \"54\", \"55\", \"56\", \"57\", \"58\", \"59\", \"60\", \"61\", \"62\", \"63\", \"64\", \"65\", \"66\", \"67\", \"68\", \"69\", \"70\", \"71\", \"72\", \"73\", \"78\", \"79\"], \"mode\": \"lines\", \"name\": \"recall_score_weighted_max\", \"stepped\": true, \"type\": \"scatter\", \"data\": [0.9705882352941178, 0.9705882352941178, 0.9705882352941178, 0.9823529411764707, 0.9823529411764707, 0.9823529411764707, 0.9823529411764707, 0.9823529411764707, 0.9823529411764707, 0.9823529411764707, 0.9823529411764707, 0.9823529411764707, 0.9823529411764707, 0.9823529411764707, 0.9823529411764707, 0.9823529411764707, 0.9823529411764707, 0.9823529411764707, 0.9823529411764707, 0.9823529411764707, 0.9882352941176471, 0.9882352941176471, 0.9882352941176471, 0.9882352941176471, 0.9882352941176471, 0.9882352941176471, 0.9882352941176471, 0.9882352941176471, 0.9882352941176471, 0.9882352941176471, 0.9882352941176471, 0.9882352941176471, 0.9882352941176471, 0.9882352941176471, 0.9882352941176471, 0.9882352941176471, 0.9882352941176471, 0.9882352941176471, 0.9882352941176471, 0.9941176470588236, 1.0, 1.0, 1.0, 1.0, 1.0, 1.0, 1.0, 1.0, 1.0, 1.0, 1.0, 1.0, 1.0, 1.0, 1.0, 1.0, 1.0, 1.0, 1.0, 1.0, 1.0, 1.0, 1.0, 1.0, 1.0, 1.0, 1.0, 1.0, 1.0, 1.0, 1.0, 1.0, 1.0, 1.0, 1.0, 1.0]}], \"norm_macro_recall\": [{\"categories\": [\"0\", \"1\", \"2\", \"3\", \"4\", \"5\", \"6\", \"7\", \"8\", \"9\", \"10\", \"11\", \"12\", \"13\", \"14\", \"15\", \"16\", \"17\", \"18\", \"19\", \"20\", \"21\", \"22\", \"23\", \"24\", \"25\", \"26\", \"27\", \"28\", \"29\", \"30\", \"31\", \"32\", \"33\", \"34\", \"35\", \"36\", \"37\", \"38\", \"39\", \"40\", \"41\", \"42\", \"43\", \"44\", \"45\", \"46\", \"47\", \"48\", \"49\", \"50\", \"51\", \"52\", \"53\", \"54\", \"55\", \"56\", \"57\", \"58\", \"59\", \"60\", \"61\", \"62\", \"63\", \"64\", \"65\", \"66\", \"67\", \"68\", \"69\", \"70\", \"71\", \"72\", \"73\", \"78\", \"79\"], \"mode\": \"markers\", \"name\": \"norm_macro_recall\", \"stepped\": false, \"type\": \"scatter\", \"data\": [0.9416585581601062, 0.9421848739495798, 0.9306059265811587, 0.9659442724458204, 0.9411322423706325, 0.9516585581601061, 0.931658558160106, 0.9521848739495798, 0.9521848739495798, 0.9416585581601062, 0.9090372991301784, 0.9421848739495798, 0.9516585581601061, 0.9072725932478255, 0.9659442724458204, 0.9416585581601062, 0.9421848739495798, 0.9416585581601062, 0.9521848739495798, 0.931658558160106, 0.9764705882352942, 0.9516585581601061, 0.9659442724458204, 0.9421848739495798, 0.9516585581601061, 0.9554179566563468, 0.9516585581601061, 0.9659442724458204, 0.9521848739495798, 0.9421848739495798, 0.8600796107916852, 0.9516585581601061, 0.9664705882352941, 0.9106059265811588, 0.9521848739495798, 0.9521848739495798, 0.9516585581601061, 0.9516585581601061, 0.9416585581601062, 0.9882352941176471, 1.0, 0.9631372549019609, 0.9183252248267728, 0.9516585581601061, 0.9521848739495798, 0.9559442724458205, 0.9764705882352942, 0.9516585581601061, 0.9621848739495797, 0.9521848739495798, 0.9516585581601061, 0.9416585581601062, 0.9659442724458204, 0.9416585581601062, 0.931658558160106, 0.9559442724458205, 0.9521848739495798, 0.9521848739495798, 0.9416585581601062, 0.0, 0.9631372549019609, 0.9521848739495798, 0.9764705882352942, 0.8941353383458648, 0.9866666666666667, 0.9157039657968451, 0.9516585581601061, 0.8867462774583517, 0.9516585581601061, 0.9516585581601061, 0.923609022556391, 0.9621848739495797, 0.9621848739495797, 0.931658558160106, 1.0, 0.9764705882352942]}, {\"categories\": [\"0\", \"1\", \"2\", \"3\", \"4\", \"5\", \"6\", \"7\", \"8\", \"9\", \"10\", \"11\", \"12\", \"13\", \"14\", \"15\", \"16\", \"17\", \"18\", \"19\", \"20\", \"21\", \"22\", \"23\", \"24\", \"25\", \"26\", \"27\", \"28\", \"29\", \"30\", \"31\", \"32\", \"33\", \"34\", \"35\", \"36\", \"37\", \"38\", \"39\", \"40\", \"41\", \"42\", \"43\", \"44\", \"45\", \"46\", \"47\", \"48\", \"49\", \"50\", \"51\", \"52\", \"53\", \"54\", \"55\", \"56\", \"57\", \"58\", \"59\", \"60\", \"61\", \"62\", \"63\", \"64\", \"65\", \"66\", \"67\", \"68\", \"69\", \"70\", \"71\", \"72\", \"73\", \"78\", \"79\"], \"mode\": \"lines\", \"name\": \"norm_macro_recall_max\", \"stepped\": true, \"type\": \"scatter\", \"data\": [0.9416585581601062, 0.9421848739495798, 0.9421848739495798, 0.9659442724458204, 0.9659442724458204, 0.9659442724458204, 0.9659442724458204, 0.9659442724458204, 0.9659442724458204, 0.9659442724458204, 0.9659442724458204, 0.9659442724458204, 0.9659442724458204, 0.9659442724458204, 0.9659442724458204, 0.9659442724458204, 0.9659442724458204, 0.9659442724458204, 0.9659442724458204, 0.9659442724458204, 0.9764705882352942, 0.9764705882352942, 0.9764705882352942, 0.9764705882352942, 0.9764705882352942, 0.9764705882352942, 0.9764705882352942, 0.9764705882352942, 0.9764705882352942, 0.9764705882352942, 0.9764705882352942, 0.9764705882352942, 0.9764705882352942, 0.9764705882352942, 0.9764705882352942, 0.9764705882352942, 0.9764705882352942, 0.9764705882352942, 0.9764705882352942, 0.9882352941176471, 1.0, 1.0, 1.0, 1.0, 1.0, 1.0, 1.0, 1.0, 1.0, 1.0, 1.0, 1.0, 1.0, 1.0, 1.0, 1.0, 1.0, 1.0, 1.0, 1.0, 1.0, 1.0, 1.0, 1.0, 1.0, 1.0, 1.0, 1.0, 1.0, 1.0, 1.0, 1.0, 1.0, 1.0, 1.0, 1.0]}], \"precision_score_micro\": [{\"categories\": [\"0\", \"1\", \"2\", \"3\", \"4\", \"5\", \"6\", \"7\", \"8\", \"9\", \"10\", \"11\", \"12\", \"13\", \"14\", \"15\", \"16\", \"17\", \"18\", \"19\", \"20\", \"21\", \"22\", \"23\", \"24\", \"25\", \"26\", \"27\", \"28\", \"29\", \"30\", \"31\", \"32\", \"33\", \"34\", \"35\", \"36\", \"37\", \"38\", \"39\", \"40\", \"41\", \"42\", \"43\", \"44\", \"45\", \"46\", \"47\", \"48\", \"49\", \"50\", \"51\", \"52\", \"53\", \"54\", \"55\", \"56\", \"57\", \"58\", \"59\", \"60\", \"61\", \"62\", \"63\", \"64\", \"65\", \"66\", \"67\", \"68\", \"69\", \"70\", \"71\", \"72\", \"73\", \"78\", \"79\"], \"mode\": \"markers\", \"name\": \"precision_score_micro\", \"stepped\": false, \"type\": \"scatter\", \"data\": [0.9705882352941178, 0.9705882352941178, 0.9647058823529413, 0.9823529411764707, 0.9705882352941178, 0.9764705882352942, 0.9647058823529413, 0.9764705882352942, 0.9764705882352942, 0.9705882352941178, 0.9529411764705882, 0.9705882352941178, 0.9764705882352942, 0.9529411764705882, 0.9823529411764707, 0.9705882352941178, 0.9705882352941178, 0.9705882352941178, 0.9764705882352942, 0.9647058823529413, 0.9882352941176471, 0.9764705882352942, 0.9823529411764707, 0.9705882352941178, 0.9764705882352942, 0.9764705882352942, 0.9764705882352942, 0.9823529411764707, 0.9764705882352942, 0.9705882352941178, 0.9294117647058824, 0.9764705882352942, 0.9823529411764707, 0.9529411764705882, 0.9764705882352942, 0.9764705882352942, 0.9764705882352942, 0.9764705882352942, 0.9705882352941178, 0.9941176470588236, 1.0, 0.9823529411764707, 0.9588235294117649, 0.9764705882352942, 0.9764705882352942, 0.9764705882352942, 0.9882352941176471, 0.9764705882352942, 0.9823529411764707, 0.9764705882352942, 0.9764705882352942, 0.9705882352941178, 0.9823529411764707, 0.9705882352941178, 0.9647058823529413, 0.9764705882352942, 0.9764705882352942, 0.9764705882352942, 0.9705882352941178, 0.4470588235294118, 0.9823529411764707, 0.9764705882352942, 0.9882352941176471, 0.9470588235294117, 0.9941176470588236, 0.9588235294117646, 0.9764705882352942, 0.9411764705882353, 0.9764705882352942, 0.9764705882352942, 0.9588235294117646, 0.9823529411764707, 0.9823529411764707, 0.9647058823529413, 1.0, 0.9882352941176471]}, {\"categories\": [\"0\", \"1\", \"2\", \"3\", \"4\", \"5\", \"6\", \"7\", \"8\", \"9\", \"10\", \"11\", \"12\", \"13\", \"14\", \"15\", \"16\", \"17\", \"18\", \"19\", \"20\", \"21\", \"22\", \"23\", \"24\", \"25\", \"26\", \"27\", \"28\", \"29\", \"30\", \"31\", \"32\", \"33\", \"34\", \"35\", \"36\", \"37\", \"38\", \"39\", \"40\", \"41\", \"42\", \"43\", \"44\", \"45\", \"46\", \"47\", \"48\", \"49\", \"50\", \"51\", \"52\", \"53\", \"54\", \"55\", \"56\", \"57\", \"58\", \"59\", \"60\", \"61\", \"62\", \"63\", \"64\", \"65\", \"66\", \"67\", \"68\", \"69\", \"70\", \"71\", \"72\", \"73\", \"78\", \"79\"], \"mode\": \"lines\", \"name\": \"precision_score_micro_max\", \"stepped\": true, \"type\": \"scatter\", \"data\": [0.9705882352941178, 0.9705882352941178, 0.9705882352941178, 0.9823529411764707, 0.9823529411764707, 0.9823529411764707, 0.9823529411764707, 0.9823529411764707, 0.9823529411764707, 0.9823529411764707, 0.9823529411764707, 0.9823529411764707, 0.9823529411764707, 0.9823529411764707, 0.9823529411764707, 0.9823529411764707, 0.9823529411764707, 0.9823529411764707, 0.9823529411764707, 0.9823529411764707, 0.9882352941176471, 0.9882352941176471, 0.9882352941176471, 0.9882352941176471, 0.9882352941176471, 0.9882352941176471, 0.9882352941176471, 0.9882352941176471, 0.9882352941176471, 0.9882352941176471, 0.9882352941176471, 0.9882352941176471, 0.9882352941176471, 0.9882352941176471, 0.9882352941176471, 0.9882352941176471, 0.9882352941176471, 0.9882352941176471, 0.9882352941176471, 0.9941176470588236, 1.0, 1.0, 1.0, 1.0, 1.0, 1.0, 1.0, 1.0, 1.0, 1.0, 1.0, 1.0, 1.0, 1.0, 1.0, 1.0, 1.0, 1.0, 1.0, 1.0, 1.0, 1.0, 1.0, 1.0, 1.0, 1.0, 1.0, 1.0, 1.0, 1.0, 1.0, 1.0, 1.0, 1.0, 1.0, 1.0]}], \"f1_score_weighted\": [{\"categories\": [\"0\", \"1\", \"2\", \"3\", \"4\", \"5\", \"6\", \"7\", \"8\", \"9\", \"10\", \"11\", \"12\", \"13\", \"14\", \"15\", \"16\", \"17\", \"18\", \"19\", \"20\", \"21\", \"22\", \"23\", \"24\", \"25\", \"26\", \"27\", \"28\", \"29\", \"30\", \"31\", \"32\", \"33\", \"34\", \"35\", \"36\", \"37\", \"38\", \"39\", \"40\", \"41\", \"42\", \"43\", \"44\", \"45\", \"46\", \"47\", \"48\", \"49\", \"50\", \"51\", \"52\", \"53\", \"54\", \"55\", \"56\", \"57\", \"58\", \"59\", \"60\", \"61\", \"62\", \"63\", \"64\", \"65\", \"66\", \"67\", \"68\", \"69\", \"70\", \"71\", \"72\", \"73\", \"78\", \"79\"], \"mode\": \"markers\", \"name\": \"f1_score_weighted\", \"stepped\": false, \"type\": \"scatter\", \"data\": [0.9705627710252948, 0.9706254009119121, 0.9646840713069249, 0.9823274769076477, 0.9705510388437218, 0.9764079275160753, 0.9647584333751154, 0.9764297385620916, 0.9764297385620916, 0.9705627710252948, 0.953095798161721, 0.9706254009119121, 0.9764079275160753, 0.9529820261437909, 0.9823274769076477, 0.9705627710252948, 0.9706254009119121, 0.9705627710252948, 0.9764297385620916, 0.9647584333751154, 0.9881944444444445, 0.9764079275160753, 0.9823274769076477, 0.9706254009119121, 0.9764079275160753, 0.9764705882352942, 0.9764079275160753, 0.9823274769076477, 0.9764297385620916, 0.9706254009119121, 0.9294199646542936, 0.9764079275160753, 0.982338096600267, 0.9530241786048075, 0.9764297385620916, 0.9764297385620916, 0.9764079275160753, 0.9764079275160753, 0.9705627710252948, 0.9941125541125541, 1.0, 0.982286086406269, 0.9588500753369399, 0.9764079275160753, 0.9764297385620916, 0.9764711290634702, 0.9881944444444445, 0.9764079275160753, 0.9822748950528721, 0.9764297385620916, 0.9764079275160753, 0.9705627710252948, 0.9823274769076477, 0.9705627710252948, 0.9647584333751154, 0.9764711290634702, 0.9764297385620916, 0.9764297385620916, 0.9705627710252948, 0.27677070828331335, 0.982286086406269, 0.9764297385620916, 0.9881944444444445, 0.9470924877466459, 0.9940916419618245, 0.9588369342645056, 0.9764079275160753, 0.9413107209568146, 0.9764079275160753, 0.9764079275160753, 0.9589627666235663, 0.9822748950528721, 0.9822748950528721, 0.9647584333751154, 1.0, 0.9881944444444445]}, {\"categories\": [\"0\", \"1\", \"2\", \"3\", \"4\", \"5\", \"6\", \"7\", \"8\", \"9\", \"10\", \"11\", \"12\", \"13\", \"14\", \"15\", \"16\", \"17\", \"18\", \"19\", \"20\", \"21\", \"22\", \"23\", \"24\", \"25\", \"26\", \"27\", \"28\", \"29\", \"30\", \"31\", \"32\", \"33\", \"34\", \"35\", \"36\", \"37\", \"38\", \"39\", \"40\", \"41\", \"42\", \"43\", \"44\", \"45\", \"46\", \"47\", \"48\", \"49\", \"50\", \"51\", \"52\", \"53\", \"54\", \"55\", \"56\", \"57\", \"58\", \"59\", \"60\", \"61\", \"62\", \"63\", \"64\", \"65\", \"66\", \"67\", \"68\", \"69\", \"70\", \"71\", \"72\", \"73\", \"78\", \"79\"], \"mode\": \"lines\", \"name\": \"f1_score_weighted_max\", \"stepped\": true, \"type\": \"scatter\", \"data\": [0.9705627710252948, 0.9706254009119121, 0.9706254009119121, 0.9823274769076477, 0.9823274769076477, 0.9823274769076477, 0.9823274769076477, 0.9823274769076477, 0.9823274769076477, 0.9823274769076477, 0.9823274769076477, 0.9823274769076477, 0.9823274769076477, 0.9823274769076477, 0.9823274769076477, 0.9823274769076477, 0.9823274769076477, 0.9823274769076477, 0.9823274769076477, 0.9823274769076477, 0.9881944444444445, 0.9881944444444445, 0.9881944444444445, 0.9881944444444445, 0.9881944444444445, 0.9881944444444445, 0.9881944444444445, 0.9881944444444445, 0.9881944444444445, 0.9881944444444445, 0.9881944444444445, 0.9881944444444445, 0.9881944444444445, 0.9881944444444445, 0.9881944444444445, 0.9881944444444445, 0.9881944444444445, 0.9881944444444445, 0.9881944444444445, 0.9941125541125541, 1.0, 1.0, 1.0, 1.0, 1.0, 1.0, 1.0, 1.0, 1.0, 1.0, 1.0, 1.0, 1.0, 1.0, 1.0, 1.0, 1.0, 1.0, 1.0, 1.0, 1.0, 1.0, 1.0, 1.0, 1.0, 1.0, 1.0, 1.0, 1.0, 1.0, 1.0, 1.0, 1.0, 1.0, 1.0, 1.0]}], \"AUC_weighted\": [{\"categories\": [\"0\", \"1\", \"2\", \"3\", \"4\", \"5\", \"6\", \"7\", \"8\", \"9\", \"10\", \"11\", \"12\", \"13\", \"14\", \"15\", \"16\", \"17\", \"18\", \"19\", \"20\", \"21\", \"22\", \"23\", \"24\", \"25\", \"26\", \"27\", \"28\", \"29\", \"30\", \"31\", \"32\", \"33\", \"34\", \"35\", \"36\", \"37\", \"38\", \"39\", \"40\", \"41\", \"42\", \"43\", \"44\", \"45\", \"46\", \"47\", \"48\", \"49\", \"50\", \"51\", \"52\", \"53\", \"54\", \"55\", \"56\", \"57\", \"58\", \"59\", \"60\", \"61\", \"62\", \"63\", \"64\", \"65\", \"66\", \"67\", \"68\", \"69\", \"70\", \"71\", \"72\", \"73\", \"78\", \"79\"], \"mode\": \"markers\", \"name\": \"AUC_weighted\", \"stepped\": false, \"type\": \"scatter\", \"data\": [0.9985714285714286, 0.9985714285714286, 0.9961937716262976, 1.0, 0.9993079584775086, 0.9985714285714286, 0.9985714285714286, 0.9985714285714286, 0.9985714285714286, 0.9985714285714286, 0.9964661654135337, 0.9985714285714286, 1.0, 0.9964661654135337, 1.0, 0.9978696741854638, 0.9985714285714286, 0.9985714285714286, 0.9985714285714286, 0.9985714285714286, 1.0, 0.9992857142857142, 0.9986159169550174, 0.9985714285714286, 0.9992857142857143, 1.0, 1.0, 1.0, 0.9992857142857143, 0.9985714285714286, 0.9954135338345864, 1.0, 0.9985936727632231, 0.9943609022556391, 0.9985714285714286, 0.9985714285714286, 1.0, 0.9993079584775086, 0.9985714285714286, 1.0, 1.0, 1.0, 0.9958032624814631, 1.0, 0.9985714285714286, 0.9985936727632231, 1.0, 0.9993079584775086, 0.9985714285714286, 0.9985714285714286, 0.9979016312407316, 0.9985714285714286, 0.9958380380015782, 0.9985714285714286, 0.9985714285714286, 0.9993079584775086, 0.9985714285714286, 0.9985714285714286, 0.9985714285714286, 0.9964661654135337, 1.0, 0.9992857142857143, 0.9993079584775086, 0.9964661654135337, 1.0, 0.9964661654135337, 0.9978696741854638, 0.9936625950689875, 1.0, 1.0, 0.9964661654135337, 1.0, 0.9985714285714286, 0.9978696741854638, 1.0, 1.0]}, {\"categories\": [\"0\", \"1\", \"2\", \"3\", \"4\", \"5\", \"6\", \"7\", \"8\", \"9\", \"10\", \"11\", \"12\", \"13\", \"14\", \"15\", \"16\", \"17\", \"18\", \"19\", \"20\", \"21\", \"22\", \"23\", \"24\", \"25\", \"26\", \"27\", \"28\", \"29\", \"30\", \"31\", \"32\", \"33\", \"34\", \"35\", \"36\", \"37\", \"38\", \"39\", \"40\", \"41\", \"42\", \"43\", \"44\", \"45\", \"46\", \"47\", \"48\", \"49\", \"50\", \"51\", \"52\", \"53\", \"54\", \"55\", \"56\", \"57\", \"58\", \"59\", \"60\", \"61\", \"62\", \"63\", \"64\", \"65\", \"66\", \"67\", \"68\", \"69\", \"70\", \"71\", \"72\", \"73\", \"78\", \"79\"], \"mode\": \"lines\", \"name\": \"AUC_weighted_max\", \"stepped\": true, \"type\": \"scatter\", \"data\": [0.9985714285714286, 0.9985714285714286, 0.9985714285714286, 1.0, 1.0, 1.0, 1.0, 1.0, 1.0, 1.0, 1.0, 1.0, 1.0, 1.0, 1.0, 1.0, 1.0, 1.0, 1.0, 1.0, 1.0, 1.0, 1.0, 1.0, 1.0, 1.0, 1.0, 1.0, 1.0, 1.0, 1.0, 1.0, 1.0, 1.0, 1.0, 1.0, 1.0, 1.0, 1.0, 1.0, 1.0, 1.0, 1.0, 1.0, 1.0, 1.0, 1.0, 1.0, 1.0, 1.0, 1.0, 1.0, 1.0, 1.0, 1.0, 1.0, 1.0, 1.0, 1.0, 1.0, 1.0, 1.0, 1.0, 1.0, 1.0, 1.0, 1.0, 1.0, 1.0, 1.0, 1.0, 1.0, 1.0, 1.0, 1.0, 1.0]}], \"balanced_accuracy\": [{\"categories\": [\"0\", \"1\", \"2\", \"3\", \"4\", \"5\", \"6\", \"7\", \"8\", \"9\", \"10\", \"11\", \"12\", \"13\", \"14\", \"15\", \"16\", \"17\", \"18\", \"19\", \"20\", \"21\", \"22\", \"23\", \"24\", \"25\", \"26\", \"27\", \"28\", \"29\", \"30\", \"31\", \"32\", \"33\", \"34\", \"35\", \"36\", \"37\", \"38\", \"39\", \"40\", \"41\", \"42\", \"43\", \"44\", \"45\", \"46\", \"47\", \"48\", \"49\", \"50\", \"51\", \"52\", \"53\", \"54\", \"55\", \"56\", \"57\", \"58\", \"59\", \"60\", \"61\", \"62\", \"63\", \"64\", \"65\", \"66\", \"67\", \"68\", \"69\", \"70\", \"71\", \"72\", \"73\", \"78\", \"79\"], \"mode\": \"markers\", \"name\": \"balanced_accuracy\", \"stepped\": false, \"type\": \"scatter\", \"data\": [0.9708292790800531, 0.97109243697479, 0.9653029632905794, 0.9829721362229102, 0.9705661211853164, 0.9758292790800531, 0.9658292790800532, 0.9760924369747899, 0.9760924369747899, 0.9708292790800531, 0.9545186495650892, 0.97109243697479, 0.9758292790800531, 0.9536362966239127, 0.9829721362229102, 0.9708292790800531, 0.97109243697479, 0.9708292790800531, 0.9760924369747899, 0.9658292790800532, 0.9882352941176471, 0.9758292790800531, 0.9829721362229102, 0.97109243697479, 0.9758292790800531, 0.9777089783281735, 0.9758292790800531, 0.9829721362229102, 0.9760924369747899, 0.97109243697479, 0.9300398053958426, 0.9758292790800531, 0.983235294117647, 0.9553029632905794, 0.9760924369747899, 0.9760924369747899, 0.9758292790800531, 0.9758292790800531, 0.9708292790800531, 0.9941176470588236, 1.0, 0.9815686274509805, 0.9591626124133865, 0.9758292790800531, 0.9760924369747899, 0.9779721362229102, 0.9882352941176471, 0.9758292790800531, 0.98109243697479, 0.9760924369747899, 0.9758292790800531, 0.9708292790800531, 0.9829721362229102, 0.9708292790800531, 0.9658292790800532, 0.9779721362229102, 0.9760924369747899, 0.9760924369747899, 0.9708292790800531, 0.5, 0.9815686274509805, 0.9760924369747899, 0.9882352941176471, 0.9470676691729324, 0.9933333333333334, 0.9578519828984225, 0.9758292790800531, 0.9433731387291759, 0.9758292790800531, 0.9758292790800531, 0.9618045112781954, 0.98109243697479, 0.98109243697479, 0.9658292790800532, 1.0, 0.9882352941176471]}, {\"categories\": [\"0\", \"1\", \"2\", \"3\", \"4\", \"5\", \"6\", \"7\", \"8\", \"9\", \"10\", \"11\", \"12\", \"13\", \"14\", \"15\", \"16\", \"17\", \"18\", \"19\", \"20\", \"21\", \"22\", \"23\", \"24\", \"25\", \"26\", \"27\", \"28\", \"29\", \"30\", \"31\", \"32\", \"33\", \"34\", \"35\", \"36\", \"37\", \"38\", \"39\", \"40\", \"41\", \"42\", \"43\", \"44\", \"45\", \"46\", \"47\", \"48\", \"49\", \"50\", \"51\", \"52\", \"53\", \"54\", \"55\", \"56\", \"57\", \"58\", \"59\", \"60\", \"61\", \"62\", \"63\", \"64\", \"65\", \"66\", \"67\", \"68\", \"69\", \"70\", \"71\", \"72\", \"73\", \"78\", \"79\"], \"mode\": \"lines\", \"name\": \"balanced_accuracy_max\", \"stepped\": true, \"type\": \"scatter\", \"data\": [0.9708292790800531, 0.97109243697479, 0.97109243697479, 0.9829721362229102, 0.9829721362229102, 0.9829721362229102, 0.9829721362229102, 0.9829721362229102, 0.9829721362229102, 0.9829721362229102, 0.9829721362229102, 0.9829721362229102, 0.9829721362229102, 0.9829721362229102, 0.9829721362229102, 0.9829721362229102, 0.9829721362229102, 0.9829721362229102, 0.9829721362229102, 0.9829721362229102, 0.9882352941176471, 0.9882352941176471, 0.9882352941176471, 0.9882352941176471, 0.9882352941176471, 0.9882352941176471, 0.9882352941176471, 0.9882352941176471, 0.9882352941176471, 0.9882352941176471, 0.9882352941176471, 0.9882352941176471, 0.9882352941176471, 0.9882352941176471, 0.9882352941176471, 0.9882352941176471, 0.9882352941176471, 0.9882352941176471, 0.9882352941176471, 0.9941176470588236, 1.0, 1.0, 1.0, 1.0, 1.0, 1.0, 1.0, 1.0, 1.0, 1.0, 1.0, 1.0, 1.0, 1.0, 1.0, 1.0, 1.0, 1.0, 1.0, 1.0, 1.0, 1.0, 1.0, 1.0, 1.0, 1.0, 1.0, 1.0, 1.0, 1.0, 1.0, 1.0, 1.0, 1.0, 1.0, 1.0]}], \"recall_score_macro\": [{\"categories\": [\"0\", \"1\", \"2\", \"3\", \"4\", \"5\", \"6\", \"7\", \"8\", \"9\", \"10\", \"11\", \"12\", \"13\", \"14\", \"15\", \"16\", \"17\", \"18\", \"19\", \"20\", \"21\", \"22\", \"23\", \"24\", \"25\", \"26\", \"27\", \"28\", \"29\", \"30\", \"31\", \"32\", \"33\", \"34\", \"35\", \"36\", \"37\", \"38\", \"39\", \"40\", \"41\", \"42\", \"43\", \"44\", \"45\", \"46\", \"47\", \"48\", \"49\", \"50\", \"51\", \"52\", \"53\", \"54\", \"55\", \"56\", \"57\", \"58\", \"59\", \"60\", \"61\", \"62\", \"63\", \"64\", \"65\", \"66\", \"67\", \"68\", \"69\", \"70\", \"71\", \"72\", \"73\", \"78\", \"79\"], \"mode\": \"markers\", \"name\": \"recall_score_macro\", \"stepped\": false, \"type\": \"scatter\", \"data\": [0.9708292790800531, 0.97109243697479, 0.9653029632905794, 0.9829721362229102, 0.9705661211853164, 0.9758292790800531, 0.9658292790800532, 0.9760924369747899, 0.9760924369747899, 0.9708292790800531, 0.9545186495650892, 0.97109243697479, 0.9758292790800531, 0.9536362966239127, 0.9829721362229102, 0.9708292790800531, 0.97109243697479, 0.9708292790800531, 0.9760924369747899, 0.9658292790800532, 0.9882352941176471, 0.9758292790800531, 0.9829721362229102, 0.97109243697479, 0.9758292790800531, 0.9777089783281735, 0.9758292790800531, 0.9829721362229102, 0.9760924369747899, 0.97109243697479, 0.9300398053958426, 0.9758292790800531, 0.983235294117647, 0.9553029632905794, 0.9760924369747899, 0.9760924369747899, 0.9758292790800531, 0.9758292790800531, 0.9708292790800531, 0.9941176470588236, 1.0, 0.9815686274509805, 0.9591626124133865, 0.9758292790800531, 0.9760924369747899, 0.9779721362229102, 0.9882352941176471, 0.9758292790800531, 0.98109243697479, 0.9760924369747899, 0.9758292790800531, 0.9708292790800531, 0.9829721362229102, 0.9708292790800531, 0.9658292790800532, 0.9779721362229102, 0.9760924369747899, 0.9760924369747899, 0.9708292790800531, 0.5, 0.9815686274509805, 0.9760924369747899, 0.9882352941176471, 0.9470676691729324, 0.9933333333333334, 0.9578519828984225, 0.9758292790800531, 0.9433731387291759, 0.9758292790800531, 0.9758292790800531, 0.9618045112781954, 0.98109243697479, 0.98109243697479, 0.9658292790800532, 1.0, 0.9882352941176471]}, {\"categories\": [\"0\", \"1\", \"2\", \"3\", \"4\", \"5\", \"6\", \"7\", \"8\", \"9\", \"10\", \"11\", \"12\", \"13\", \"14\", \"15\", \"16\", \"17\", \"18\", \"19\", \"20\", \"21\", \"22\", \"23\", \"24\", \"25\", \"26\", \"27\", \"28\", \"29\", \"30\", \"31\", \"32\", \"33\", \"34\", \"35\", \"36\", \"37\", \"38\", \"39\", \"40\", \"41\", \"42\", \"43\", \"44\", \"45\", \"46\", \"47\", \"48\", \"49\", \"50\", \"51\", \"52\", \"53\", \"54\", \"55\", \"56\", \"57\", \"58\", \"59\", \"60\", \"61\", \"62\", \"63\", \"64\", \"65\", \"66\", \"67\", \"68\", \"69\", \"70\", \"71\", \"72\", \"73\", \"78\", \"79\"], \"mode\": \"lines\", \"name\": \"recall_score_macro_max\", \"stepped\": true, \"type\": \"scatter\", \"data\": [0.9708292790800531, 0.97109243697479, 0.97109243697479, 0.9829721362229102, 0.9829721362229102, 0.9829721362229102, 0.9829721362229102, 0.9829721362229102, 0.9829721362229102, 0.9829721362229102, 0.9829721362229102, 0.9829721362229102, 0.9829721362229102, 0.9829721362229102, 0.9829721362229102, 0.9829721362229102, 0.9829721362229102, 0.9829721362229102, 0.9829721362229102, 0.9829721362229102, 0.9882352941176471, 0.9882352941176471, 0.9882352941176471, 0.9882352941176471, 0.9882352941176471, 0.9882352941176471, 0.9882352941176471, 0.9882352941176471, 0.9882352941176471, 0.9882352941176471, 0.9882352941176471, 0.9882352941176471, 0.9882352941176471, 0.9882352941176471, 0.9882352941176471, 0.9882352941176471, 0.9882352941176471, 0.9882352941176471, 0.9882352941176471, 0.9941176470588236, 1.0, 1.0, 1.0, 1.0, 1.0, 1.0, 1.0, 1.0, 1.0, 1.0, 1.0, 1.0, 1.0, 1.0, 1.0, 1.0, 1.0, 1.0, 1.0, 1.0, 1.0, 1.0, 1.0, 1.0, 1.0, 1.0, 1.0, 1.0, 1.0, 1.0, 1.0, 1.0, 1.0, 1.0, 1.0, 1.0]}], \"average_precision_score_macro\": [{\"categories\": [\"0\", \"1\", \"2\", \"3\", \"4\", \"5\", \"6\", \"7\", \"8\", \"9\", \"10\", \"11\", \"12\", \"13\", \"14\", \"15\", \"16\", \"17\", \"18\", \"19\", \"20\", \"21\", \"22\", \"23\", \"24\", \"25\", \"26\", \"27\", \"28\", \"29\", \"30\", \"31\", \"32\", \"33\", \"34\", \"35\", \"36\", \"37\", \"38\", \"39\", \"40\", \"41\", \"42\", \"43\", \"44\", \"45\", \"46\", \"47\", \"48\", \"49\", \"50\", \"51\", \"52\", \"53\", \"54\", \"55\", \"56\", \"57\", \"58\", \"59\", \"60\", \"61\", \"62\", \"63\", \"64\", \"65\", \"66\", \"67\", \"68\", \"69\", \"70\", \"71\", \"72\", \"73\", \"78\", \"79\"], \"mode\": \"markers\", \"name\": \"average_precision_score_macro\", \"stepped\": false, \"type\": \"scatter\", \"data\": [0.9986190476190476, 0.9986190476190476, 0.9961933633102363, 1.0, 0.9993464052287582, 0.9986190476190476, 0.9986190476190476, 0.9986190476190476, 0.9986190476190476, 0.9986190476190476, 0.9966753726421317, 0.9986190476190476, 1.0, 0.9966753726421317, 1.0, 0.9979392230576443, 0.9986190476190476, 0.9986190476190476, 0.9986190476190476, 0.9986190476190476, 1.0, 0.9992857142857143, 0.9987079868066939, 0.9986190476190476, 0.9992857142857143, 1.0, 1.0, 1.0, 0.9992857142857143, 0.9986190476190476, 0.994717159508229, 1.0, 0.9986321195144725, 0.9947498803768969, 0.9986190476190476, 0.9986190476190476, 1.0, 0.9993464052287582, 0.9986190476190476, 1.0, 1.0, 1.0, 0.9961078677084869, 1.0, 0.9986190476190476, 0.9986321195144725, 1.0, 0.9993464052287582, 0.9986190476190476, 0.9986190476190476, 0.997993701092408, 0.9986190476190476, 0.9961304869072125, 0.9986190476190476, 0.9986190476190476, 0.9993464052287582, 0.9986190476190476, 0.9986190476190476, 0.9986190476190476, 0.996690761992701, 1.0, 0.9992857142857143, 0.9993464052287582, 0.9966753726421317, 1.0, 0.9966753726421317, 0.9979392230576443, 0.9934905433087362, 1.0, 1.0, 0.996690761992701, 1.0, 0.9986190476190476, 0.997939223057644, 1.0, 1.0]}, {\"categories\": [\"0\", \"1\", \"2\", \"3\", \"4\", \"5\", \"6\", \"7\", \"8\", \"9\", \"10\", \"11\", \"12\", \"13\", \"14\", \"15\", \"16\", \"17\", \"18\", \"19\", \"20\", \"21\", \"22\", \"23\", \"24\", \"25\", \"26\", \"27\", \"28\", \"29\", \"30\", \"31\", \"32\", \"33\", \"34\", \"35\", \"36\", \"37\", \"38\", \"39\", \"40\", \"41\", \"42\", \"43\", \"44\", \"45\", \"46\", \"47\", \"48\", \"49\", \"50\", \"51\", \"52\", \"53\", \"54\", \"55\", \"56\", \"57\", \"58\", \"59\", \"60\", \"61\", \"62\", \"63\", \"64\", \"65\", \"66\", \"67\", \"68\", \"69\", \"70\", \"71\", \"72\", \"73\", \"78\", \"79\"], \"mode\": \"lines\", \"name\": \"average_precision_score_macro_max\", \"stepped\": true, \"type\": \"scatter\", \"data\": [0.9986190476190476, 0.9986190476190476, 0.9986190476190476, 1.0, 1.0, 1.0, 1.0, 1.0, 1.0, 1.0, 1.0, 1.0, 1.0, 1.0, 1.0, 1.0, 1.0, 1.0, 1.0, 1.0, 1.0, 1.0, 1.0, 1.0, 1.0, 1.0, 1.0, 1.0, 1.0, 1.0, 1.0, 1.0, 1.0, 1.0, 1.0, 1.0, 1.0, 1.0, 1.0, 1.0, 1.0, 1.0, 1.0, 1.0, 1.0, 1.0, 1.0, 1.0, 1.0, 1.0, 1.0, 1.0, 1.0, 1.0, 1.0, 1.0, 1.0, 1.0, 1.0, 1.0, 1.0, 1.0, 1.0, 1.0, 1.0, 1.0, 1.0, 1.0, 1.0, 1.0, 1.0, 1.0, 1.0, 1.0, 1.0, 1.0]}], \"AUC_micro\": [{\"categories\": [\"0\", \"1\", \"2\", \"3\", \"4\", \"5\", \"6\", \"7\", \"8\", \"9\", \"10\", \"11\", \"12\", \"13\", \"14\", \"15\", \"16\", \"17\", \"18\", \"19\", \"20\", \"21\", \"22\", \"23\", \"24\", \"25\", \"26\", \"27\", \"28\", \"29\", \"30\", \"31\", \"32\", \"33\", \"34\", \"35\", \"36\", \"37\", \"38\", \"39\", \"40\", \"41\", \"42\", \"43\", \"44\", \"45\", \"46\", \"47\", \"48\", \"49\", \"50\", \"51\", \"52\", \"53\", \"54\", \"55\", \"56\", \"57\", \"58\", \"59\", \"60\", \"61\", \"62\", \"63\", \"64\", \"65\", \"66\", \"67\", \"68\", \"69\", \"70\", \"71\", \"72\", \"73\", \"78\", \"79\"], \"mode\": \"markers\", \"name\": \"AUC_micro\", \"stepped\": false, \"type\": \"scatter\", \"data\": [0.9970588235294118, 0.9977508650519031, 0.9963667820069204, 0.9991349480968859, 0.9980968858131488, 0.9979238754325259, 0.996885813148789, 0.9979238754325259, 0.997923875432526, 0.9977508650519031, 0.9951557093425605, 0.9977508650519031, 0.9989619377162631, 0.9955017301038062, 0.9991349480968859, 0.9970588235294118, 0.9977508650519031, 0.9974048442906576, 0.9982698961937716, 0.9975778546712801, 0.9993079584775086, 0.9986159169550174, 0.9977508650519031, 0.9977508650519031, 0.9982698961937716, 0.9982698961937716, 0.9989619377162631, 0.9984429065743944, 0.9982698961937716, 0.9977508650519031, 0.993598615916955, 0.9986159169550174, 0.9984429065743944, 0.9941176470588236, 0.9982698961937716, 0.9982698961937716, 0.9989619377162631, 0.9982698961937716, 0.9977508650519031, 0.9998269896193772, 1.0, 0.9991349480968859, 0.9960207612456747, 0.9989619377162631, 0.9979238754325259, 0.9982698961937716, 0.9993079584775086, 0.9982698961937716, 0.9984429065743946, 0.9979238754325259, 0.9979238754325259, 0.9977508650519031, 0.9970588235294118, 0.9977508650519032, 0.996885813148789, 0.9972318339100346, 0.9982698961937716, 0.997923875432526, 0.9980968858131488, 0.6916955017301039, 0.9991349480968859, 0.9986159169550174, 0.998961937716263, 0.9949826989619377, 0.9998269896193772, 0.9953287197231834, 0.9972318339100348, 0.9934256055363321, 0.9986159169550174, 0.9986159169550174, 0.9956747404844289, 0.9991349480968859, 0.9984429065743946, 0.9965397923875432, 1.0, 0.9993079584775086]}, {\"categories\": [\"0\", \"1\", \"2\", \"3\", \"4\", \"5\", \"6\", \"7\", \"8\", \"9\", \"10\", \"11\", \"12\", \"13\", \"14\", \"15\", \"16\", \"17\", \"18\", \"19\", \"20\", \"21\", \"22\", \"23\", \"24\", \"25\", \"26\", \"27\", \"28\", \"29\", \"30\", \"31\", \"32\", \"33\", \"34\", \"35\", \"36\", \"37\", \"38\", \"39\", \"40\", \"41\", \"42\", \"43\", \"44\", \"45\", \"46\", \"47\", \"48\", \"49\", \"50\", \"51\", \"52\", \"53\", \"54\", \"55\", \"56\", \"57\", \"58\", \"59\", \"60\", \"61\", \"62\", \"63\", \"64\", \"65\", \"66\", \"67\", \"68\", \"69\", \"70\", \"71\", \"72\", \"73\", \"78\", \"79\"], \"mode\": \"lines\", \"name\": \"AUC_micro_max\", \"stepped\": true, \"type\": \"scatter\", \"data\": [0.9970588235294118, 0.9977508650519031, 0.9977508650519031, 0.9991349480968859, 0.9991349480968859, 0.9991349480968859, 0.9991349480968859, 0.9991349480968859, 0.9991349480968859, 0.9991349480968859, 0.9991349480968859, 0.9991349480968859, 0.9991349480968859, 0.9991349480968859, 0.9991349480968859, 0.9991349480968859, 0.9991349480968859, 0.9991349480968859, 0.9991349480968859, 0.9991349480968859, 0.9993079584775086, 0.9993079584775086, 0.9993079584775086, 0.9993079584775086, 0.9993079584775086, 0.9993079584775086, 0.9993079584775086, 0.9993079584775086, 0.9993079584775086, 0.9993079584775086, 0.9993079584775086, 0.9993079584775086, 0.9993079584775086, 0.9993079584775086, 0.9993079584775086, 0.9993079584775086, 0.9993079584775086, 0.9993079584775086, 0.9993079584775086, 0.9998269896193772, 1.0, 1.0, 1.0, 1.0, 1.0, 1.0, 1.0, 1.0, 1.0, 1.0, 1.0, 1.0, 1.0, 1.0, 1.0, 1.0, 1.0, 1.0, 1.0, 1.0, 1.0, 1.0, 1.0, 1.0, 1.0, 1.0, 1.0, 1.0, 1.0, 1.0, 1.0, 1.0, 1.0, 1.0, 1.0, 1.0]}], \"recall_score_micro\": [{\"categories\": [\"0\", \"1\", \"2\", \"3\", \"4\", \"5\", \"6\", \"7\", \"8\", \"9\", \"10\", \"11\", \"12\", \"13\", \"14\", \"15\", \"16\", \"17\", \"18\", \"19\", \"20\", \"21\", \"22\", \"23\", \"24\", \"25\", \"26\", \"27\", \"28\", \"29\", \"30\", \"31\", \"32\", \"33\", \"34\", \"35\", \"36\", \"37\", \"38\", \"39\", \"40\", \"41\", \"42\", \"43\", \"44\", \"45\", \"46\", \"47\", \"48\", \"49\", \"50\", \"51\", \"52\", \"53\", \"54\", \"55\", \"56\", \"57\", \"58\", \"59\", \"60\", \"61\", \"62\", \"63\", \"64\", \"65\", \"66\", \"67\", \"68\", \"69\", \"70\", \"71\", \"72\", \"73\", \"78\", \"79\"], \"mode\": \"markers\", \"name\": \"recall_score_micro\", \"stepped\": false, \"type\": \"scatter\", \"data\": [0.9705882352941178, 0.9705882352941178, 0.9647058823529413, 0.9823529411764707, 0.9705882352941178, 0.9764705882352942, 0.9647058823529413, 0.9764705882352942, 0.9764705882352942, 0.9705882352941178, 0.9529411764705882, 0.9705882352941178, 0.9764705882352942, 0.9529411764705882, 0.9823529411764707, 0.9705882352941178, 0.9705882352941178, 0.9705882352941178, 0.9764705882352942, 0.9647058823529413, 0.9882352941176471, 0.9764705882352942, 0.9823529411764707, 0.9705882352941178, 0.9764705882352942, 0.9764705882352942, 0.9764705882352942, 0.9823529411764707, 0.9764705882352942, 0.9705882352941178, 0.9294117647058824, 0.9764705882352942, 0.9823529411764707, 0.9529411764705882, 0.9764705882352942, 0.9764705882352942, 0.9764705882352942, 0.9764705882352942, 0.9705882352941178, 0.9941176470588236, 1.0, 0.9823529411764707, 0.9588235294117649, 0.9764705882352942, 0.9764705882352942, 0.9764705882352942, 0.9882352941176471, 0.9764705882352942, 0.9823529411764707, 0.9764705882352942, 0.9764705882352942, 0.9705882352941178, 0.9823529411764707, 0.9705882352941178, 0.9647058823529413, 0.9764705882352942, 0.9764705882352942, 0.9764705882352942, 0.9705882352941178, 0.4470588235294118, 0.9823529411764707, 0.9764705882352942, 0.9882352941176471, 0.9470588235294117, 0.9941176470588236, 0.9588235294117646, 0.9764705882352942, 0.9411764705882353, 0.9764705882352942, 0.9764705882352942, 0.9588235294117646, 0.9823529411764707, 0.9823529411764707, 0.9647058823529413, 1.0, 0.9882352941176471]}, {\"categories\": [\"0\", \"1\", \"2\", \"3\", \"4\", \"5\", \"6\", \"7\", \"8\", \"9\", \"10\", \"11\", \"12\", \"13\", \"14\", \"15\", \"16\", \"17\", \"18\", \"19\", \"20\", \"21\", \"22\", \"23\", \"24\", \"25\", \"26\", \"27\", \"28\", \"29\", \"30\", \"31\", \"32\", \"33\", \"34\", \"35\", \"36\", \"37\", \"38\", \"39\", \"40\", \"41\", \"42\", \"43\", \"44\", \"45\", \"46\", \"47\", \"48\", \"49\", \"50\", \"51\", \"52\", \"53\", \"54\", \"55\", \"56\", \"57\", \"58\", \"59\", \"60\", \"61\", \"62\", \"63\", \"64\", \"65\", \"66\", \"67\", \"68\", \"69\", \"70\", \"71\", \"72\", \"73\", \"78\", \"79\"], \"mode\": \"lines\", \"name\": \"recall_score_micro_max\", \"stepped\": true, \"type\": \"scatter\", \"data\": [0.9705882352941178, 0.9705882352941178, 0.9705882352941178, 0.9823529411764707, 0.9823529411764707, 0.9823529411764707, 0.9823529411764707, 0.9823529411764707, 0.9823529411764707, 0.9823529411764707, 0.9823529411764707, 0.9823529411764707, 0.9823529411764707, 0.9823529411764707, 0.9823529411764707, 0.9823529411764707, 0.9823529411764707, 0.9823529411764707, 0.9823529411764707, 0.9823529411764707, 0.9882352941176471, 0.9882352941176471, 0.9882352941176471, 0.9882352941176471, 0.9882352941176471, 0.9882352941176471, 0.9882352941176471, 0.9882352941176471, 0.9882352941176471, 0.9882352941176471, 0.9882352941176471, 0.9882352941176471, 0.9882352941176471, 0.9882352941176471, 0.9882352941176471, 0.9882352941176471, 0.9882352941176471, 0.9882352941176471, 0.9882352941176471, 0.9941176470588236, 1.0, 1.0, 1.0, 1.0, 1.0, 1.0, 1.0, 1.0, 1.0, 1.0, 1.0, 1.0, 1.0, 1.0, 1.0, 1.0, 1.0, 1.0, 1.0, 1.0, 1.0, 1.0, 1.0, 1.0, 1.0, 1.0, 1.0, 1.0, 1.0, 1.0, 1.0, 1.0, 1.0, 1.0, 1.0, 1.0]}], \"average_precision_score_micro\": [{\"categories\": [\"0\", \"1\", \"2\", \"3\", \"4\", \"5\", \"6\", \"7\", \"8\", \"9\", \"10\", \"11\", \"12\", \"13\", \"14\", \"15\", \"16\", \"17\", \"18\", \"19\", \"20\", \"21\", \"22\", \"23\", \"24\", \"25\", \"26\", \"27\", \"28\", \"29\", \"30\", \"31\", \"32\", \"33\", \"34\", \"35\", \"36\", \"37\", \"38\", \"39\", \"40\", \"41\", \"42\", \"43\", \"44\", \"45\", \"46\", \"47\", \"48\", \"49\", \"50\", \"51\", \"52\", \"53\", \"54\", \"55\", \"56\", \"57\", \"58\", \"59\", \"60\", \"61\", \"62\", \"63\", \"64\", \"65\", \"66\", \"67\", \"68\", \"69\", \"70\", \"71\", \"72\", \"73\", \"78\", \"79\"], \"mode\": \"markers\", \"name\": \"average_precision_score_micro\", \"stepped\": false, \"type\": \"scatter\", \"data\": [0.997195692749326, 0.9978657228657228, 0.9963942919657842, 0.9991690009337069, 0.9981776658247247, 0.9980123866283037, 0.9970375118298994, 0.9980239037851495, 0.9980239037851495, 0.9978558365582586, 0.9954478581659423, 0.9978657228657228, 0.9990009337068161, 0.9957647442786761, 0.9991690009337069, 0.9971914509757116, 0.9978657228657228, 0.9975240960189058, 0.9983457330516154, 0.9976976556388321, 0.9993370681605975, 0.9986691931674632, 0.9978543828151141, 0.9978657228657228, 0.9983374526281101, 0.9983457330516154, 0.9990009337068161, 0.998508857124774, 0.9983457330516154, 0.9978657228657228, 0.9935489533527206, 0.9986691931674632, 0.9985088571247742, 0.9944888781849264, 0.9983457330516154, 0.9983457330516154, 0.9990009337068161, 0.9983464593971559, 0.9978558365582588, 0.9998319327731092, 1.0, 0.9991690009337069, 0.9962516031583597, 0.9990009337068161, 0.9980239037851495, 0.9983407898978834, 0.9993370681605975, 0.9983407898978834, 0.998508857124774, 0.9980239037851495, 0.9980189606314174, 0.9978558365582586, 0.9972090054617968, 0.9978558365582586, 0.9970375118298994, 0.9973545750488704, 0.9983457330516154, 0.9980239037851495, 0.9981776658247247, 0.7845019051649267, 0.9991690009337069, 0.9986741363211952, 0.9990086648910179, 0.9952847340927835, 0.9998319327731092, 0.9955911846587497, 0.9973545750488704, 0.993532944877759, 0.9986691931674632, 0.9986691931674632, 0.9959505011945369, 0.9991690009337069, 0.998508857124774, 0.9967260205967865, 1.0, 0.9993370681605975]}, {\"categories\": [\"0\", \"1\", \"2\", \"3\", \"4\", \"5\", \"6\", \"7\", \"8\", \"9\", \"10\", \"11\", \"12\", \"13\", \"14\", \"15\", \"16\", \"17\", \"18\", \"19\", \"20\", \"21\", \"22\", \"23\", \"24\", \"25\", \"26\", \"27\", \"28\", \"29\", \"30\", \"31\", \"32\", \"33\", \"34\", \"35\", \"36\", \"37\", \"38\", \"39\", \"40\", \"41\", \"42\", \"43\", \"44\", \"45\", \"46\", \"47\", \"48\", \"49\", \"50\", \"51\", \"52\", \"53\", \"54\", \"55\", \"56\", \"57\", \"58\", \"59\", \"60\", \"61\", \"62\", \"63\", \"64\", \"65\", \"66\", \"67\", \"68\", \"69\", \"70\", \"71\", \"72\", \"73\", \"78\", \"79\"], \"mode\": \"lines\", \"name\": \"average_precision_score_micro_max\", \"stepped\": true, \"type\": \"scatter\", \"data\": [0.997195692749326, 0.9978657228657228, 0.9978657228657228, 0.9991690009337069, 0.9991690009337069, 0.9991690009337069, 0.9991690009337069, 0.9991690009337069, 0.9991690009337069, 0.9991690009337069, 0.9991690009337069, 0.9991690009337069, 0.9991690009337069, 0.9991690009337069, 0.9991690009337069, 0.9991690009337069, 0.9991690009337069, 0.9991690009337069, 0.9991690009337069, 0.9991690009337069, 0.9993370681605975, 0.9993370681605975, 0.9993370681605975, 0.9993370681605975, 0.9993370681605975, 0.9993370681605975, 0.9993370681605975, 0.9993370681605975, 0.9993370681605975, 0.9993370681605975, 0.9993370681605975, 0.9993370681605975, 0.9993370681605975, 0.9993370681605975, 0.9993370681605975, 0.9993370681605975, 0.9993370681605975, 0.9993370681605975, 0.9993370681605975, 0.9998319327731092, 1.0, 1.0, 1.0, 1.0, 1.0, 1.0, 1.0, 1.0, 1.0, 1.0, 1.0, 1.0, 1.0, 1.0, 1.0, 1.0, 1.0, 1.0, 1.0, 1.0, 1.0, 1.0, 1.0, 1.0, 1.0, 1.0, 1.0, 1.0, 1.0, 1.0, 1.0, 1.0, 1.0, 1.0, 1.0, 1.0]}], \"f1_score_macro\": [{\"categories\": [\"0\", \"1\", \"2\", \"3\", \"4\", \"5\", \"6\", \"7\", \"8\", \"9\", \"10\", \"11\", \"12\", \"13\", \"14\", \"15\", \"16\", \"17\", \"18\", \"19\", \"20\", \"21\", \"22\", \"23\", \"24\", \"25\", \"26\", \"27\", \"28\", \"29\", \"30\", \"31\", \"32\", \"33\", \"34\", \"35\", \"36\", \"37\", \"38\", \"39\", \"40\", \"41\", \"42\", \"43\", \"44\", \"45\", \"46\", \"47\", \"48\", \"49\", \"50\", \"51\", \"52\", \"53\", \"54\", \"55\", \"56\", \"57\", \"58\", \"59\", \"60\", \"61\", \"62\", \"63\", \"64\", \"65\", \"66\", \"67\", \"68\", \"69\", \"70\", \"71\", \"72\", \"73\", \"78\", \"79\"], \"mode\": \"markers\", \"name\": \"f1_score_macro\", \"stepped\": false, \"type\": \"scatter\", \"data\": [0.9701230781472716, 0.9701573091659299, 0.9643176516406257, 0.9822659352901288, 0.9702461607949413, 0.9761232071961812, 0.9642288000116143, 0.9760515873015873, 0.9760515873015873, 0.9701230781472716, 0.9524643077229286, 0.9701573091659299, 0.9761232071961812, 0.9524404761904762, 0.9822659352901288, 0.9701230781472716, 0.9701573091659299, 0.9701230781472716, 0.9760515873015873, 0.9642288000116143, 0.9881944444444445, 0.9761232071961812, 0.9822659352901288, 0.9701573091659299, 0.9761232071961812, 0.976388888888889, 0.9761232071961812, 0.9822659352901288, 0.9760515873015873, 0.9701573091659299, 0.928474831757646, 0.9761232071961812, 0.9821820660182728, 0.9524949715035922, 0.9760515873015873, 0.9760515873015873, 0.9761232071961812, 0.9761232071961812, 0.9701230781472716, 0.9941125541125541, 1.0, 0.9821820660182731, 0.9582164215854428, 0.9761232071961812, 0.9760515873015873, 0.9762535568639572, 0.9881944444444445, 0.9761232071961812, 0.9820517163504968, 0.9760515873015873, 0.9761232071961812, 0.9701230781472716, 0.9822659352901288, 0.9701230781472716, 0.9642288000116143, 0.9762535568639572, 0.9760515873015873, 0.9760515873015873, 0.9701230781472716, 0.30867346938775514, 0.9821820660182731, 0.9760515873015873, 0.9881944444444445, 0.9462088964675172, 0.9939876215738284, 0.958346336481324, 0.9761232071961812, 0.9406176889005031, 0.9761232071961812, 0.9761232071961812, 0.9583720179048321, 0.9820517163504968, 0.9820517163504968, 0.9642288000116143, 1.0, 0.9881944444444445]}, {\"categories\": [\"0\", \"1\", \"2\", \"3\", \"4\", \"5\", \"6\", \"7\", \"8\", \"9\", \"10\", \"11\", \"12\", \"13\", \"14\", \"15\", \"16\", \"17\", \"18\", \"19\", \"20\", \"21\", \"22\", \"23\", \"24\", \"25\", \"26\", \"27\", \"28\", \"29\", \"30\", \"31\", \"32\", \"33\", \"34\", \"35\", \"36\", \"37\", \"38\", \"39\", \"40\", \"41\", \"42\", \"43\", \"44\", \"45\", \"46\", \"47\", \"48\", \"49\", \"50\", \"51\", \"52\", \"53\", \"54\", \"55\", \"56\", \"57\", \"58\", \"59\", \"60\", \"61\", \"62\", \"63\", \"64\", \"65\", \"66\", \"67\", \"68\", \"69\", \"70\", \"71\", \"72\", \"73\", \"78\", \"79\"], \"mode\": \"lines\", \"name\": \"f1_score_macro_max\", \"stepped\": true, \"type\": \"scatter\", \"data\": [0.9701230781472716, 0.9701573091659299, 0.9701573091659299, 0.9822659352901288, 0.9822659352901288, 0.9822659352901288, 0.9822659352901288, 0.9822659352901288, 0.9822659352901288, 0.9822659352901288, 0.9822659352901288, 0.9822659352901288, 0.9822659352901288, 0.9822659352901288, 0.9822659352901288, 0.9822659352901288, 0.9822659352901288, 0.9822659352901288, 0.9822659352901288, 0.9822659352901288, 0.9881944444444445, 0.9881944444444445, 0.9881944444444445, 0.9881944444444445, 0.9881944444444445, 0.9881944444444445, 0.9881944444444445, 0.9881944444444445, 0.9881944444444445, 0.9881944444444445, 0.9881944444444445, 0.9881944444444445, 0.9881944444444445, 0.9881944444444445, 0.9881944444444445, 0.9881944444444445, 0.9881944444444445, 0.9881944444444445, 0.9881944444444445, 0.9941125541125541, 1.0, 1.0, 1.0, 1.0, 1.0, 1.0, 1.0, 1.0, 1.0, 1.0, 1.0, 1.0, 1.0, 1.0, 1.0, 1.0, 1.0, 1.0, 1.0, 1.0, 1.0, 1.0, 1.0, 1.0, 1.0, 1.0, 1.0, 1.0, 1.0, 1.0, 1.0, 1.0, 1.0, 1.0, 1.0, 1.0]}], \"precision_score_weighted\": [{\"categories\": [\"0\", \"1\", \"2\", \"3\", \"4\", \"5\", \"6\", \"7\", \"8\", \"9\", \"10\", \"11\", \"12\", \"13\", \"14\", \"15\", \"16\", \"17\", \"18\", \"19\", \"20\", \"21\", \"22\", \"23\", \"24\", \"25\", \"26\", \"27\", \"28\", \"29\", \"30\", \"31\", \"32\", \"33\", \"34\", \"35\", \"36\", \"37\", \"38\", \"39\", \"40\", \"41\", \"42\", \"43\", \"44\", \"45\", \"46\", \"47\", \"48\", \"49\", \"50\", \"51\", \"52\", \"53\", \"54\", \"55\", \"56\", \"57\", \"58\", \"59\", \"60\", \"61\", \"62\", \"63\", \"64\", \"65\", \"66\", \"67\", \"68\", \"69\", \"70\", \"71\", \"72\", \"73\", \"78\", \"79\"], \"mode\": \"markers\", \"name\": \"precision_score_weighted\", \"stepped\": false, \"type\": \"scatter\", \"data\": [0.9721942724458204, 0.9723013415892673, 0.9679761145944447, 0.9839589783281735, 0.9734908204767976, 0.978356737431815, 0.9667866357069144, 0.9777089783281733, 0.9777089783281733, 0.9721942724458204, 0.9551267731034623, 0.9723013415892673, 0.978356737431815, 0.9555636496084501, 0.9839589783281735, 0.9721942724458204, 0.9723013415892673, 0.9721942724458204, 0.9777089783281733, 0.9667866357069144, 0.9894736842105264, 0.978356737431815, 0.9839589783281735, 0.9723013415892673, 0.978356737431815, 0.9790930613731561, 0.978356737431815, 0.9839589783281735, 0.9777089783281733, 0.9723013415892673, 0.9339970492841099, 0.978356737431815, 0.9839834881320948, 0.9575954592363262, 0.9777089783281733, 0.9777089783281733, 0.978356737431815, 0.978356737431815, 0.9721942724458204, 0.9944444444444445, 1.0, 0.9838854489164085, 0.9611984004127967, 0.978356737431815, 0.9777089783281733, 0.978468782249742, 0.9894736842105264, 0.978356737431815, 0.9838714433141679, 0.9777089783281733, 0.978356737431815, 0.9721942724458204, 0.9839589783281735, 0.9721942724458204, 0.9667866357069144, 0.978468782249742, 0.9777089783281733, 0.9777089783281733, 0.9721942724458204, 0.20069204152249132, 0.9838854489164085, 0.9777089783281733, 0.9894736842105264, 0.9500380709559366, 0.9944117647058823, 0.9611086395342451, 0.978356737431815, 0.9446413069871911, 0.978356737431815, 0.978356737431815, 0.962607069143447, 0.9838714433141679, 0.9838714433141679, 0.9667866357069144, 1.0, 0.9894736842105264]}, {\"categories\": [\"0\", \"1\", \"2\", \"3\", \"4\", \"5\", \"6\", \"7\", \"8\", \"9\", \"10\", \"11\", \"12\", \"13\", \"14\", \"15\", \"16\", \"17\", \"18\", \"19\", \"20\", \"21\", \"22\", \"23\", \"24\", \"25\", \"26\", \"27\", \"28\", \"29\", \"30\", \"31\", \"32\", \"33\", \"34\", \"35\", \"36\", \"37\", \"38\", \"39\", \"40\", \"41\", \"42\", \"43\", \"44\", \"45\", \"46\", \"47\", \"48\", \"49\", \"50\", \"51\", \"52\", \"53\", \"54\", \"55\", \"56\", \"57\", \"58\", \"59\", \"60\", \"61\", \"62\", \"63\", \"64\", \"65\", \"66\", \"67\", \"68\", \"69\", \"70\", \"71\", \"72\", \"73\", \"78\", \"79\"], \"mode\": \"lines\", \"name\": \"precision_score_weighted_max\", \"stepped\": true, \"type\": \"scatter\", \"data\": [0.9721942724458204, 0.9723013415892673, 0.9723013415892673, 0.9839589783281735, 0.9839589783281735, 0.9839589783281735, 0.9839589783281735, 0.9839589783281735, 0.9839589783281735, 0.9839589783281735, 0.9839589783281735, 0.9839589783281735, 0.9839589783281735, 0.9839589783281735, 0.9839589783281735, 0.9839589783281735, 0.9839589783281735, 0.9839589783281735, 0.9839589783281735, 0.9839589783281735, 0.9894736842105264, 0.9894736842105264, 0.9894736842105264, 0.9894736842105264, 0.9894736842105264, 0.9894736842105264, 0.9894736842105264, 0.9894736842105264, 0.9894736842105264, 0.9894736842105264, 0.9894736842105264, 0.9894736842105264, 0.9894736842105264, 0.9894736842105264, 0.9894736842105264, 0.9894736842105264, 0.9894736842105264, 0.9894736842105264, 0.9894736842105264, 0.9944444444444445, 1.0, 1.0, 1.0, 1.0, 1.0, 1.0, 1.0, 1.0, 1.0, 1.0, 1.0, 1.0, 1.0, 1.0, 1.0, 1.0, 1.0, 1.0, 1.0, 1.0, 1.0, 1.0, 1.0, 1.0, 1.0, 1.0, 1.0, 1.0, 1.0, 1.0, 1.0, 1.0, 1.0, 1.0, 1.0, 1.0]}], \"matthews_correlation\": [{\"categories\": [\"0\", \"1\", \"2\", \"3\", \"4\", \"5\", \"6\", \"7\", \"8\", \"9\", \"10\", \"11\", \"12\", \"13\", \"14\", \"15\", \"16\", \"17\", \"18\", \"19\", \"20\", \"21\", \"22\", \"23\", \"24\", \"25\", \"26\", \"27\", \"28\", \"29\", \"30\", \"31\", \"32\", \"33\", \"34\", \"35\", \"36\", \"37\", \"38\", \"39\", \"40\", \"41\", \"42\", \"43\", \"44\", \"45\", \"46\", \"47\", \"48\", \"49\", \"50\", \"51\", \"52\", \"53\", \"54\", \"55\", \"56\", \"57\", \"58\", \"59\", \"60\", \"61\", \"62\", \"63\", \"64\", \"65\", \"66\", \"67\", \"68\", \"69\", \"70\", \"71\", \"72\", \"73\", \"78\", \"79\"], \"mode\": \"markers\", \"name\": \"matthews_correlation\", \"stepped\": false, \"type\": \"scatter\", \"data\": [0.9419032077732764, 0.9419588828216388, 0.9319737535593994, 0.9661889220589905, 0.9434894948281365, 0.9542690902316716, 0.9304431415529016, 0.9534189490420134, 0.9534189490420134, 0.9419032077732764, 0.9068267360276877, 0.9419588828216388, 0.9542690902316716, 0.9074296572593774, 0.9661889220589905, 0.9419032077732764, 0.9419588828216388, 0.9419032077732764, 0.9534189490420134, 0.9304431415529016, 0.9777046633277277, 0.9542690902316716, 0.9661889220589905, 0.9419588828216388, 0.9542690902316716, 0.9554093266554554, 0.9542690902316716, 0.9661889220589905, 0.9534189490420134, 0.9419588828216388, 0.8615557395543089, 0.9542690902316716, 0.9660306218854015, 0.9095004461383169, 0.9534189490420134, 0.9534189490420134, 0.9542690902316716, 0.9542690902316716, 0.9419032077732764, 0.9885618083164127, 1.0, 0.9660306218854015, 0.9187691001105754, 0.9542690902316716, 0.9534189490420134, 0.9545148806166643, 0.9777046633277277, 0.9542690902316716, 0.9657848315004086, 0.9534189490420134, 0.9542690902316716, 0.9419032077732764, 0.9661889220589905, 0.9419032077732764, 0.9304431415529016, 0.9545148806166643, 0.9534189490420134, 0.9534189490420134, 0.9419032077732764, 0.0, 0.9660306218854015, 0.9534189490420134, 0.9777046633277277, 0.8953668174953181, 0.9883259585576738, 0.9189786432641315, 0.9542690902316716, 0.8844538497702658, 0.9542690902316716, 0.9542690902316716, 0.9202800415418523, 0.9657848315004086, 0.9657848315004086, 0.9304431415529016, 1.0, 0.9777046633277277]}, {\"categories\": [\"0\", \"1\", \"2\", \"3\", \"4\", \"5\", \"6\", \"7\", \"8\", \"9\", \"10\", \"11\", \"12\", \"13\", \"14\", \"15\", \"16\", \"17\", \"18\", \"19\", \"20\", \"21\", \"22\", \"23\", \"24\", \"25\", \"26\", \"27\", \"28\", \"29\", \"30\", \"31\", \"32\", \"33\", \"34\", \"35\", \"36\", \"37\", \"38\", \"39\", \"40\", \"41\", \"42\", \"43\", \"44\", \"45\", \"46\", \"47\", \"48\", \"49\", \"50\", \"51\", \"52\", \"53\", \"54\", \"55\", \"56\", \"57\", \"58\", \"59\", \"60\", \"61\", \"62\", \"63\", \"64\", \"65\", \"66\", \"67\", \"68\", \"69\", \"70\", \"71\", \"72\", \"73\", \"78\", \"79\"], \"mode\": \"lines\", \"name\": \"matthews_correlation_max\", \"stepped\": true, \"type\": \"scatter\", \"data\": [0.9419032077732764, 0.9419588828216388, 0.9419588828216388, 0.9661889220589905, 0.9661889220589905, 0.9661889220589905, 0.9661889220589905, 0.9661889220589905, 0.9661889220589905, 0.9661889220589905, 0.9661889220589905, 0.9661889220589905, 0.9661889220589905, 0.9661889220589905, 0.9661889220589905, 0.9661889220589905, 0.9661889220589905, 0.9661889220589905, 0.9661889220589905, 0.9661889220589905, 0.9777046633277277, 0.9777046633277277, 0.9777046633277277, 0.9777046633277277, 0.9777046633277277, 0.9777046633277277, 0.9777046633277277, 0.9777046633277277, 0.9777046633277277, 0.9777046633277277, 0.9777046633277277, 0.9777046633277277, 0.9777046633277277, 0.9777046633277277, 0.9777046633277277, 0.9777046633277277, 0.9777046633277277, 0.9777046633277277, 0.9777046633277277, 0.9885618083164127, 1.0, 1.0, 1.0, 1.0, 1.0, 1.0, 1.0, 1.0, 1.0, 1.0, 1.0, 1.0, 1.0, 1.0, 1.0, 1.0, 1.0, 1.0, 1.0, 1.0, 1.0, 1.0, 1.0, 1.0, 1.0, 1.0, 1.0, 1.0, 1.0, 1.0, 1.0, 1.0, 1.0, 1.0, 1.0, 1.0]}], \"log_loss\": [{\"categories\": [\"0\", \"1\", \"2\", \"3\", \"4\", \"5\", \"6\", \"7\", \"8\", \"9\", \"10\", \"11\", \"12\", \"13\", \"14\", \"15\", \"16\", \"17\", \"18\", \"19\", \"20\", \"21\", \"22\", \"23\", \"24\", \"25\", \"26\", \"27\", \"28\", \"29\", \"30\", \"31\", \"32\", \"33\", \"34\", \"35\", \"36\", \"37\", \"38\", \"39\", \"40\", \"41\", \"42\", \"43\", \"44\", \"45\", \"46\", \"47\", \"48\", \"49\", \"50\", \"51\", \"52\", \"53\", \"54\", \"55\", \"56\", \"57\", \"58\", \"59\", \"60\", \"61\", \"62\", \"63\", \"64\", \"65\", \"66\", \"67\", \"68\", \"69\", \"70\", \"71\", \"72\", \"73\", \"78\", \"79\"], \"mode\": \"markers\", \"name\": \"log_loss\", \"stepped\": false, \"type\": \"scatter\", \"data\": [0.10324816492863745, 0.0826866380426596, 0.08305632062927575, 0.09705127145741141, 0.09142442534330093, 0.09968612220767062, 0.12240784817752293, 0.07237735541706221, 0.06991578024235047, 0.07969304735931156, 0.26680262267517574, 0.2680064112364296, 0.05968348836499413, 0.09302217185622977, 0.09181492714754391, 0.08630125096373571, 0.09717242698074526, 0.19134102811002882, 0.07077636181380367, 0.16247506246085905, 0.18858325393204872, 0.1542611686294311, 0.07417755756520099, 0.0828085352782191, 0.08305144343409708, 0.5424149244129259, 0.0864683527784433, 0.0716188909834348, 0.07165474994499073, 0.2967081230281651, 0.41698970267447055, 0.08546195839541038, 0.24537233800290897, 0.09220207322821089, 0.10519969801237061, 0.0732961418142546, 0.062332520618159845, 0.08852518669715473, 0.1279874766480341, 0.048796143463678075, 0.03694490202784341, 0.09531283375305356, 0.30339519099370005, 0.061442202329757944, 0.082042599239882, 0.24135204732356264, 0.0749556953205621, 0.08802226252517502, 0.06073249502559722, 0.0823534902265723, 0.5949720632839023, 0.1485119717167102, 0.11638819101865219, 0.12977503655425265, 0.18756538603973555, 0.6094805708476276, 0.05998731223083573, 0.08739687891069535, 0.11860912949956211, 0.697052307218024, 0.1238764029565201, 0.10103879094610468, 0.14521363297811504, 0.11695142796836715, 0.13715603055053752, 0.09179815780889125, 0.10763101759208656, 0.12363521136260566, 0.11067207424866307, 0.1024541776072601, 0.5264130472126733, 0.16224729783295405, 0.16203666818294235, 0.1900445563655453, 0.07622182179190493, 0.3875361729910824]}, {\"categories\": [\"0\", \"1\", \"2\", \"3\", \"4\", \"5\", \"6\", \"7\", \"8\", \"9\", \"10\", \"11\", \"12\", \"13\", \"14\", \"15\", \"16\", \"17\", \"18\", \"19\", \"20\", \"21\", \"22\", \"23\", \"24\", \"25\", \"26\", \"27\", \"28\", \"29\", \"30\", \"31\", \"32\", \"33\", \"34\", \"35\", \"36\", \"37\", \"38\", \"39\", \"40\", \"41\", \"42\", \"43\", \"44\", \"45\", \"46\", \"47\", \"48\", \"49\", \"50\", \"51\", \"52\", \"53\", \"54\", \"55\", \"56\", \"57\", \"58\", \"59\", \"60\", \"61\", \"62\", \"63\", \"64\", \"65\", \"66\", \"67\", \"68\", \"69\", \"70\", \"71\", \"72\", \"73\", \"78\", \"79\"], \"mode\": \"lines\", \"name\": \"log_loss_min\", \"stepped\": true, \"type\": \"scatter\", \"data\": [0.10324816492863745, 0.0826866380426596, 0.0826866380426596, 0.0826866380426596, 0.0826866380426596, 0.0826866380426596, 0.0826866380426596, 0.07237735541706221, 0.06991578024235047, 0.06991578024235047, 0.06991578024235047, 0.06991578024235047, 0.05968348836499413, 0.05968348836499413, 0.05968348836499413, 0.05968348836499413, 0.05968348836499413, 0.05968348836499413, 0.05968348836499413, 0.05968348836499413, 0.05968348836499413, 0.05968348836499413, 0.05968348836499413, 0.05968348836499413, 0.05968348836499413, 0.05968348836499413, 0.05968348836499413, 0.05968348836499413, 0.05968348836499413, 0.05968348836499413, 0.05968348836499413, 0.05968348836499413, 0.05968348836499413, 0.05968348836499413, 0.05968348836499413, 0.05968348836499413, 0.05968348836499413, 0.05968348836499413, 0.05968348836499413, 0.048796143463678075, 0.03694490202784341, 0.03694490202784341, 0.03694490202784341, 0.03694490202784341, 0.03694490202784341, 0.03694490202784341, 0.03694490202784341, 0.03694490202784341, 0.03694490202784341, 0.03694490202784341, 0.03694490202784341, 0.03694490202784341, 0.03694490202784341, 0.03694490202784341, 0.03694490202784341, 0.03694490202784341, 0.03694490202784341, 0.03694490202784341, 0.03694490202784341, 0.03694490202784341, 0.03694490202784341, 0.03694490202784341, 0.03694490202784341, 0.03694490202784341, 0.03694490202784341, 0.03694490202784341, 0.03694490202784341, 0.03694490202784341, 0.03694490202784341, 0.03694490202784341, 0.03694490202784341, 0.03694490202784341, 0.03694490202784341, 0.03694490202784341, 0.03694490202784341, 0.03694490202784341]}], \"accuracy\": [{\"categories\": [\"0\", \"1\", \"2\", \"3\", \"4\", \"5\", \"6\", \"7\", \"8\", \"9\", \"10\", \"11\", \"12\", \"13\", \"14\", \"15\", \"16\", \"17\", \"18\", \"19\", \"20\", \"21\", \"22\", \"23\", \"24\", \"25\", \"26\", \"27\", \"28\", \"29\", \"30\", \"31\", \"32\", \"33\", \"34\", \"35\", \"36\", \"37\", \"38\", \"39\", \"40\", \"41\", \"42\", \"43\", \"44\", \"45\", \"46\", \"47\", \"48\", \"49\", \"50\", \"51\", \"52\", \"53\", \"54\", \"55\", \"56\", \"57\", \"58\", \"59\", \"60\", \"61\", \"62\", \"63\", \"64\", \"65\", \"66\", \"67\", \"68\", \"69\", \"70\", \"71\", \"72\", \"73\", \"78\", \"79\"], \"mode\": \"markers\", \"name\": \"accuracy\", \"stepped\": false, \"type\": \"scatter\", \"data\": [0.9705882352941178, 0.9705882352941178, 0.9647058823529413, 0.9823529411764707, 0.9705882352941178, 0.9764705882352942, 0.9647058823529413, 0.9764705882352942, 0.9764705882352942, 0.9705882352941178, 0.9529411764705882, 0.9705882352941178, 0.9764705882352942, 0.9529411764705882, 0.9823529411764707, 0.9705882352941178, 0.9705882352941178, 0.9705882352941178, 0.9764705882352942, 0.9647058823529413, 0.9882352941176471, 0.9764705882352942, 0.9823529411764707, 0.9705882352941178, 0.9764705882352942, 0.9764705882352942, 0.9764705882352942, 0.9823529411764707, 0.9764705882352942, 0.9705882352941178, 0.9294117647058824, 0.9764705882352942, 0.9823529411764707, 0.9529411764705882, 0.9764705882352942, 0.9764705882352942, 0.9764705882352942, 0.9764705882352942, 0.9705882352941178, 0.9941176470588236, 1.0, 0.9823529411764707, 0.9588235294117649, 0.9764705882352942, 0.9764705882352942, 0.9764705882352942, 0.9882352941176471, 0.9764705882352942, 0.9823529411764707, 0.9764705882352942, 0.9764705882352942, 0.9705882352941178, 0.9823529411764707, 0.9705882352941178, 0.9647058823529413, 0.9764705882352942, 0.9764705882352942, 0.9764705882352942, 0.9705882352941178, 0.4470588235294118, 0.9823529411764707, 0.9764705882352942, 0.9882352941176471, 0.9470588235294117, 0.9941176470588236, 0.9588235294117646, 0.9764705882352942, 0.9411764705882353, 0.9764705882352942, 0.9764705882352942, 0.9588235294117646, 0.9823529411764707, 0.9823529411764707, 0.9647058823529413, 1.0, 0.9882352941176471]}, {\"categories\": [\"0\", \"1\", \"2\", \"3\", \"4\", \"5\", \"6\", \"7\", \"8\", \"9\", \"10\", \"11\", \"12\", \"13\", \"14\", \"15\", \"16\", \"17\", \"18\", \"19\", \"20\", \"21\", \"22\", \"23\", \"24\", \"25\", \"26\", \"27\", \"28\", \"29\", \"30\", \"31\", \"32\", \"33\", \"34\", \"35\", \"36\", \"37\", \"38\", \"39\", \"40\", \"41\", \"42\", \"43\", \"44\", \"45\", \"46\", \"47\", \"48\", \"49\", \"50\", \"51\", \"52\", \"53\", \"54\", \"55\", \"56\", \"57\", \"58\", \"59\", \"60\", \"61\", \"62\", \"63\", \"64\", \"65\", \"66\", \"67\", \"68\", \"69\", \"70\", \"71\", \"72\", \"73\", \"78\", \"79\"], \"mode\": \"lines\", \"name\": \"accuracy_max\", \"stepped\": true, \"type\": \"scatter\", \"data\": [0.9705882352941178, 0.9705882352941178, 0.9705882352941178, 0.9823529411764707, 0.9823529411764707, 0.9823529411764707, 0.9823529411764707, 0.9823529411764707, 0.9823529411764707, 0.9823529411764707, 0.9823529411764707, 0.9823529411764707, 0.9823529411764707, 0.9823529411764707, 0.9823529411764707, 0.9823529411764707, 0.9823529411764707, 0.9823529411764707, 0.9823529411764707, 0.9823529411764707, 0.9882352941176471, 0.9882352941176471, 0.9882352941176471, 0.9882352941176471, 0.9882352941176471, 0.9882352941176471, 0.9882352941176471, 0.9882352941176471, 0.9882352941176471, 0.9882352941176471, 0.9882352941176471, 0.9882352941176471, 0.9882352941176471, 0.9882352941176471, 0.9882352941176471, 0.9882352941176471, 0.9882352941176471, 0.9882352941176471, 0.9882352941176471, 0.9941176470588236, 1.0, 1.0, 1.0, 1.0, 1.0, 1.0, 1.0, 1.0, 1.0, 1.0, 1.0, 1.0, 1.0, 1.0, 1.0, 1.0, 1.0, 1.0, 1.0, 1.0, 1.0, 1.0, 1.0, 1.0, 1.0, 1.0, 1.0, 1.0, 1.0, 1.0, 1.0, 1.0, 1.0, 1.0, 1.0, 1.0]}]}, \"metricName\": null, \"primaryMetricName\": \"accuracy\", \"showLegend\": false}, \"run_metrics\": [{\"name\": \"experiment_status\", \"run_id\": \"AutoML_ce25be63-6ad2-40b3-9fb4-4e1a156aa6f9\", \"categories\": [0, 1, 2, 3, 4, 5], \"series\": [{\"data\": [\"DatasetEvaluation\", \"FeaturesGeneration\", \"DatasetFeaturization\", \"DatasetFeaturizationCompleted\", \"DatasetCrossValidationSplit\", \"ModelSelection\"]}]}, {\"name\": \"experiment_status_description\", \"run_id\": \"AutoML_ce25be63-6ad2-40b3-9fb4-4e1a156aa6f9\", \"categories\": [0, 1, 2, 3, 4, 5], \"series\": [{\"data\": [\"Gathering dataset statistics.\", \"Generating features for the dataset.\", \"Beginning to fit featurizers and featurize the dataset.\", \"Completed fit featurizers and featurizing the dataset.\", \"Generating individually featurized CV splits.\", \"Beginning model selection.\"]}]}], \"run_logs\": \"\\nRun is completed.\", \"graph\": {}, \"widget_settings\": {\"childWidgetDisplay\": \"popup\", \"send_telemetry\": false, \"log_level\": \"INFO\", \"sdk_version\": \"1.19.0\"}, \"loading\": false}"
     },
     "metadata": {},
     "output_type": "display_data"
    },
    {
     "name": "stdout",
     "output_type": "stream",
     "text": [
      "\n",
      "Current status: FeaturesGeneration. Generating features for the dataset.\n",
      "Current status: DatasetFeaturization. Beginning to fit featurizers and featurize the dataset.\n",
      "Current status: DatasetCrossValidationSplit. Generating individually featurized CV splits.\n",
      "Current status: ModelSelection. Beginning model selection.\n",
      "\n",
      "****************************************************************************************************\n",
      "DATA GUARDRAILS: \n",
      "\n",
      "TYPE:         Class balancing detection\n",
      "STATUS:       PASSED\n",
      "DESCRIPTION:  Your inputs were analyzed, and all classes are balanced in your training data.\n",
      "              Learn more about imbalanced data: https://aka.ms/AutomatedMLImbalancedData\n",
      "\n",
      "****************************************************************************************************\n",
      "\n",
      "TYPE:         Missing feature values imputation\n",
      "STATUS:       PASSED\n",
      "DESCRIPTION:  No feature missing values were detected in the training data.\n",
      "              Learn more about missing value imputation: https://aka.ms/AutomatedMLFeaturization\n",
      "\n",
      "****************************************************************************************************\n",
      "\n",
      "TYPE:         High cardinality feature detection\n",
      "STATUS:       PASSED\n",
      "DESCRIPTION:  Your inputs were analyzed, and no high cardinality features were detected.\n",
      "              Learn more about high cardinality feature handling: https://aka.ms/AutomatedMLFeaturization\n",
      "\n",
      "****************************************************************************************************\n",
      "\n",
      "****************************************************************************************************\n",
      "ITERATION: The iteration being evaluated.\n",
      "PIPELINE: A summary description of the pipeline being evaluated.\n",
      "DURATION: Time taken for the current iteration.\n",
      "METRIC: The result of computing score on the fitted pipeline.\n",
      "BEST: The best observed score thus far.\n",
      "****************************************************************************************************\n",
      "\n",
      " ITERATION   PIPELINE                                       DURATION      METRIC      BEST\n",
      "         3   MaxAbsScaler RandomForest                      0:00:50       0.9824    0.9824\n",
      "         4   MaxAbsScaler RandomForest                      0:00:40       0.9706    0.9824\n",
      "         0   MaxAbsScaler LightGBM                          0:00:40       0.9706    0.9824\n",
      "         1   MaxAbsScaler XGBoostClassifier                 0:00:48       0.9706    0.9824\n",
      "         2   MaxAbsScaler RandomForest                      0:00:44       0.9647    0.9824\n",
      "         5   MaxAbsScaler RandomForest                      0:00:41       0.9765    0.9824\n",
      "        10   SparseNormalizer XGBoostClassifier             0:00:39       0.9529    0.9824\n",
      "        11   SparseNormalizer XGBoostClassifier             0:00:45       0.9706    0.9824\n",
      "        12   MaxAbsScaler LogisticRegression                0:00:38       0.9765    0.9824\n",
      "         6   SparseNormalizer XGBoostClassifier             0:03:19       0.9647    0.9824\n",
      "         7   SparseNormalizer XGBoostClassifier             0:03:25       0.9765    0.9824\n",
      "         8   SparseNormalizer XGBoostClassifier             0:03:29       0.9765    0.9824\n",
      "         9   SparseNormalizer XGBoostClassifier             0:03:22       0.9706    0.9824\n",
      "        13   MaxAbsScaler RandomForest                      0:00:37       0.9529    0.9824\n",
      "        14   MaxAbsScaler RandomForest                      0:00:49       0.9824    0.9824\n",
      "        15   MaxAbsScaler ExtremeRandomTrees                0:00:42       0.9706    0.9824\n",
      "        16   MaxAbsScaler LightGBM                          0:00:36       0.9706    0.9824\n",
      "        17   MaxAbsScaler LightGBM                          0:00:46       0.9706    0.9824\n",
      "        18   SparseNormalizer LightGBM                      0:00:43       0.9765    0.9824\n",
      "        19   MaxAbsScaler LightGBM                          0:00:35       0.9647    0.9824\n",
      "        20   SparseNormalizer LightGBM                      0:00:42       0.9882    0.9882\n",
      "        22   SparseNormalizer ExtremeRandomTrees            0:00:42       0.9824    0.9882\n",
      "        23   StandardScalerWrapper LightGBM                 0:00:42       0.9706    0.9882\n",
      "        21   SparseNormalizer LightGBM                      0:01:12       0.9765    0.9882\n",
      "        24   MaxAbsScaler ExtremeRandomTrees                0:00:44       0.9765    0.9882\n",
      "        25   SparseNormalizer LightGBM                      0:00:42       0.9765    0.9882\n",
      "        26   MaxAbsScaler RandomForest                      0:00:53       0.9765    0.9882\n",
      "        27   StandardScalerWrapper ExtremeRandomTrees       0:00:46       0.9824    0.9882\n",
      "        28   MaxAbsScaler LightGBM                          0:00:32       0.9765    0.9882\n",
      "        29   StandardScalerWrapper XGBoostClassifier        0:00:40       0.9706    0.9882\n",
      "        30   StandardScalerWrapper LightGBM                 0:00:41       0.9294    0.9882\n",
      "        31   SparseNormalizer ExtremeRandomTrees            0:00:45       0.9765    0.9882\n",
      "        32   MaxAbsScaler GradientBoosting                  0:00:41       0.9824    0.9882\n",
      "        33   SparseNormalizer ExtremeRandomTrees            0:00:44       0.9529    0.9882\n",
      "        35   MaxAbsScaler LightGBM                          0:00:42       0.9765    0.9882\n",
      "        34   SparseNormalizer LightGBM                      0:00:59       0.9765    0.9882\n",
      "        36   StandardScalerWrapper LogisticRegression       0:00:40       0.9765    0.9882\n",
      "        37   MaxAbsScaler LogisticRegression                0:00:40       0.9765    0.9882\n",
      "        38   SparseNormalizer XGBoostClassifier             0:00:39       0.9706    0.9882\n",
      "        39   TruncatedSVDWrapper XGBoostClassifier          0:00:40       0.9941    0.9941\n",
      "        40   TruncatedSVDWrapper LightGBM                   0:00:34       1.0000    1.0000\n",
      "        41   TruncatedSVDWrapper XGBoostClassifier          0:00:45       0.9824    1.0000\n",
      "        42   SparseNormalizer XGBoostClassifier             0:00:37       0.9588    1.0000\n",
      "        43   MaxAbsScaler LogisticRegression                0:00:45       0.9765    1.0000\n",
      "        44   SparseNormalizer XGBoostClassifier             0:00:38       0.9765    1.0000\n",
      "        45   MaxAbsScaler LightGBM                          0:00:40       0.9765    1.0000\n",
      "        46   MaxAbsScaler LightGBM                          0:00:42       0.9882    1.0000\n",
      "        47   MaxAbsScaler ExtremeRandomTrees                0:00:54       0.9765    1.0000\n",
      "        48   SparseNormalizer XGBoostClassifier             0:00:39       0.9824    1.0000\n",
      "        49   MaxAbsScaler LightGBM                          0:00:44       0.9765    1.0000\n",
      "        50   MaxAbsScaler LightGBM                          0:00:46       0.9765    1.0000\n",
      "        51   SparseNormalizer XGBoostClassifier             0:00:42       0.9706    1.0000\n",
      "        52   TruncatedSVDWrapper XGBoostClassifier          0:00:39       0.9824    1.0000\n",
      "        53   SparseNormalizer XGBoostClassifier             0:00:40       0.9706    1.0000\n",
      "        54   StandardScalerWrapper LightGBM                 0:00:40       0.9647    1.0000\n",
      "        55   MaxAbsScaler LightGBM                          0:00:37       0.9765    1.0000\n",
      "        56   SparseNormalizer XGBoostClassifier             0:00:39       0.9765    1.0000\n",
      "        57   SparseNormalizer XGBoostClassifier             0:00:37       0.9765    1.0000\n",
      "        58   SparseNormalizer LightGBM                      0:00:37       0.9706    1.0000\n",
      "        59   MaxAbsScaler LightGBM                          0:00:39       0.4471    1.0000\n",
      "        60   TruncatedSVDWrapper XGBoostClassifier          0:00:38       0.9824    1.0000\n",
      "        61   MaxAbsScaler LightGBM                          0:00:29       0.9765    1.0000\n",
      "        62   MaxAbsScaler RandomForest                      0:00:40       0.9882    1.0000\n",
      "        63   MaxAbsScaler ExtremeRandomTrees                0:00:43       0.9471    1.0000\n",
      "        64   TruncatedSVDWrapper LightGBM                   0:00:37       0.9941    1.0000\n",
      "        65   SparseNormalizer ExtremeRandomTrees            0:00:52       0.9588    1.0000\n",
      "        66   StandardScalerWrapper ExtremeRandomTrees       0:00:40       0.9765    1.0000\n",
      "        67   SparseNormalizer ExtremeRandomTrees            0:00:35       0.9412    1.0000\n",
      "        68   MaxAbsScaler ExtremeRandomTrees                0:00:52       0.9765    1.0000\n",
      "        69   MaxAbsScaler ExtremeRandomTrees                0:00:49       0.9765    1.0000\n",
      "        70   StandardScalerWrapper LightGBM                 0:00:43       0.9588    1.0000\n",
      "        72   MaxAbsScaler LightGBM                          0:00:37       0.9824    1.0000\n",
      "        71   MaxAbsScaler LightGBM                          0:00:42       0.9824    1.0000\n",
      "        73   MaxAbsScaler LightGBM                          0:00:37       0.9647    1.0000\n",
      "        74   StandardScalerWrapper LightGBM                 0:00:22          nan    1.0000\n",
      "        75                                                  0:00:14          nan    1.0000\n",
      "        76                                                  0:00:16          nan    1.0000\n",
      "        77                                                  0:00:10          nan    1.0000\n",
      "        78    VotingEnsemble                                0:01:55       1.0000    1.0000\n",
      "        79    StackEnsemble                                 0:01:54       0.9882    1.0000\n"
     ]
    },
    {
     "data": {
      "text/plain": [
       "{'runId': 'AutoML_ce25be63-6ad2-40b3-9fb4-4e1a156aa6f9',\n",
       " 'target': 'optCompute',\n",
       " 'status': 'Completed',\n",
       " 'startTimeUtc': '2021-01-08T18:04:19.172662Z',\n",
       " 'endTimeUtc': '2021-01-08T18:37:55.162045Z',\n",
       " 'properties': {'num_iterations': '1000',\n",
       "  'training_type': 'TrainFull',\n",
       "  'acquisition_function': 'EI',\n",
       "  'primary_metric': 'accuracy',\n",
       "  'train_split': '0',\n",
       "  'acquisition_parameter': '0',\n",
       "  'num_cross_validation': '5',\n",
       "  'target': 'optCompute',\n",
       "  'AMLSettingsJsonString': '{\"path\":null,\"name\":\"CapstoneExp\",\"subscription_id\":\"d7f39349-a66b-446e-aba6-0053c2cf1c11\",\"resource_group\":\"aml-quickstarts-133988\",\"workspace_name\":\"quick-starts-ws-133988\",\"region\":\"southcentralus\",\"compute_target\":\"optCompute\",\"spark_service\":null,\"azure_service\":\"remote\",\"many_models\":false,\"pipeline_fetch_max_batch_size\":1,\"iterations\":1000,\"primary_metric\":\"accuracy\",\"task_type\":\"classification\",\"data_script\":null,\"validation_size\":0.0,\"n_cross_validations\":5,\"y_min\":null,\"y_max\":null,\"num_classes\":null,\"featurization\":\"auto\",\"_ignore_package_version_incompatibilities\":false,\"is_timeseries\":false,\"max_cores_per_iteration\":1,\"max_concurrent_iterations\":5,\"iteration_timeout_minutes\":null,\"mem_in_mb\":null,\"enforce_time_on_windows\":false,\"experiment_timeout_minutes\":20,\"experiment_exit_score\":null,\"whitelist_models\":null,\"blacklist_algos\":[\"TensorFlowLinearClassifier\",\"TensorFlowDNN\"],\"supported_models\":[\"LinearSVM\",\"AveragedPerceptronClassifier\",\"SGD\",\"MultinomialNaiveBayes\",\"SVM\",\"RandomForest\",\"TensorFlowDNN\",\"BernoulliNaiveBayes\",\"TensorFlowLinearClassifier\",\"KNN\",\"ExtremeRandomTrees\",\"XGBoostClassifier\",\"DecisionTree\",\"LogisticRegression\",\"LightGBM\",\"GradientBoosting\"],\"auto_blacklist\":true,\"blacklist_samples_reached\":false,\"exclude_nan_labels\":true,\"verbosity\":20,\"_debug_log\":\"azureml_automl.log\",\"show_warnings\":false,\"model_explainability\":true,\"service_url\":null,\"sdk_url\":null,\"sdk_packages\":null,\"enable_onnx_compatible_models\":false,\"enable_split_onnx_featurizer_estimator_models\":false,\"vm_type\":\"STANDARD_D2_V2\",\"telemetry_verbosity\":20,\"send_telemetry\":true,\"enable_dnn\":false,\"scenario\":\"SDK-1.13.0\",\"environment_label\":null,\"force_text_dnn\":false,\"enable_feature_sweeping\":true,\"enable_early_stopping\":false,\"early_stopping_n_iters\":10,\"metrics\":null,\"enable_ensembling\":true,\"enable_stack_ensembling\":true,\"ensemble_iterations\":15,\"enable_tf\":false,\"enable_subsampling\":null,\"subsample_seed\":null,\"enable_nimbusml\":false,\"enable_streaming\":false,\"force_streaming\":false,\"track_child_runs\":true,\"allowed_private_models\":[],\"label_column_name\":\"Class\",\"weight_column_name\":null,\"cv_split_column_names\":null,\"enable_local_managed\":false,\"_local_managed_run_id\":null,\"cost_mode\":1,\"lag_length\":0,\"metric_operation\":\"maximize\",\"preprocess\":true}',\n",
       "  'DataPrepJsonString': '{\\\\\"training_data\\\\\": \\\\\"{\\\\\\\\\\\\\"blocks\\\\\\\\\\\\\": [{\\\\\\\\\\\\\"id\\\\\\\\\\\\\": \\\\\\\\\\\\\"70ea0057-b9c5-4ade-83e4-b7cc36aa1b70\\\\\\\\\\\\\", \\\\\\\\\\\\\"type\\\\\\\\\\\\\": \\\\\\\\\\\\\"Microsoft.DPrep.GetFilesBlock\\\\\\\\\\\\\", \\\\\\\\\\\\\"arguments\\\\\\\\\\\\\": {\\\\\\\\\\\\\"isArchive\\\\\\\\\\\\\": false, \\\\\\\\\\\\\"path\\\\\\\\\\\\\": {\\\\\\\\\\\\\"target\\\\\\\\\\\\\": 4, \\\\\\\\\\\\\"resourceDetails\\\\\\\\\\\\\": [{\\\\\\\\\\\\\"path\\\\\\\\\\\\\": \\\\\\\\\\\\\"https://raw.githubusercontent.com/khalidw/Capstone-Project-Azure-Machine-Learning-Engineer/master/divorce.csv\\\\\\\\\\\\\"}]}}, \\\\\\\\\\\\\"localData\\\\\\\\\\\\\": {}, \\\\\\\\\\\\\"isEnabled\\\\\\\\\\\\\": true, \\\\\\\\\\\\\"name\\\\\\\\\\\\\": null, \\\\\\\\\\\\\"annotation\\\\\\\\\\\\\": null}, {\\\\\\\\\\\\\"id\\\\\\\\\\\\\": \\\\\\\\\\\\\"6b3a0763-6514-4836-b41a-a06e89d245e6\\\\\\\\\\\\\", \\\\\\\\\\\\\"type\\\\\\\\\\\\\": \\\\\\\\\\\\\"Microsoft.DPrep.ParseDelimitedBlock\\\\\\\\\\\\\", \\\\\\\\\\\\\"arguments\\\\\\\\\\\\\": {\\\\\\\\\\\\\"columnHeadersMode\\\\\\\\\\\\\": 3, \\\\\\\\\\\\\"fileEncoding\\\\\\\\\\\\\": 0, \\\\\\\\\\\\\"handleQuotedLineBreaks\\\\\\\\\\\\\": false, \\\\\\\\\\\\\"preview\\\\\\\\\\\\\": false, \\\\\\\\\\\\\"separator\\\\\\\\\\\\\": \\\\\\\\\\\\\",\\\\\\\\\\\\\", \\\\\\\\\\\\\"skipRows\\\\\\\\\\\\\": 0, \\\\\\\\\\\\\"skipRowsMode\\\\\\\\\\\\\": 0}, \\\\\\\\\\\\\"localData\\\\\\\\\\\\\": {}, \\\\\\\\\\\\\"isEnabled\\\\\\\\\\\\\": true, \\\\\\\\\\\\\"name\\\\\\\\\\\\\": null, \\\\\\\\\\\\\"annotation\\\\\\\\\\\\\": null}, {\\\\\\\\\\\\\"id\\\\\\\\\\\\\": \\\\\\\\\\\\\"56bde4f4-e309-4d8b-b395-ec05d11b8a5c\\\\\\\\\\\\\", \\\\\\\\\\\\\"type\\\\\\\\\\\\\": \\\\\\\\\\\\\"Microsoft.DPrep.DropColumnsBlock\\\\\\\\\\\\\", \\\\\\\\\\\\\"arguments\\\\\\\\\\\\\": {\\\\\\\\\\\\\"columns\\\\\\\\\\\\\": {\\\\\\\\\\\\\"type\\\\\\\\\\\\\": 0, \\\\\\\\\\\\\"details\\\\\\\\\\\\\": {\\\\\\\\\\\\\"selectedColumns\\\\\\\\\\\\\": [\\\\\\\\\\\\\"Path\\\\\\\\\\\\\"]}}}, \\\\\\\\\\\\\"localData\\\\\\\\\\\\\": {}, \\\\\\\\\\\\\"isEnabled\\\\\\\\\\\\\": true, \\\\\\\\\\\\\"name\\\\\\\\\\\\\": null, \\\\\\\\\\\\\"annotation\\\\\\\\\\\\\": null}, {\\\\\\\\\\\\\"id\\\\\\\\\\\\\": \\\\\\\\\\\\\"49e57369-55d5-47f6-8f1d-336925f082ec\\\\\\\\\\\\\", \\\\\\\\\\\\\"type\\\\\\\\\\\\\": \\\\\\\\\\\\\"Microsoft.DPrep.SetColumnTypesBlock\\\\\\\\\\\\\", \\\\\\\\\\\\\"arguments\\\\\\\\\\\\\": {\\\\\\\\\\\\\"columnConversion\\\\\\\\\\\\\": [{\\\\\\\\\\\\\"column\\\\\\\\\\\\\": {\\\\\\\\\\\\\"type\\\\\\\\\\\\\": 2, \\\\\\\\\\\\\"details\\\\\\\\\\\\\": {\\\\\\\\\\\\\"selectedColumn\\\\\\\\\\\\\": \\\\\\\\\\\\\"Atr1\\\\\\\\\\\\\"}}, \\\\\\\\\\\\\"typeProperty\\\\\\\\\\\\\": 2}, {\\\\\\\\\\\\\"column\\\\\\\\\\\\\": {\\\\\\\\\\\\\"type\\\\\\\\\\\\\": 2, \\\\\\\\\\\\\"details\\\\\\\\\\\\\": {\\\\\\\\\\\\\"selectedColumn\\\\\\\\\\\\\": \\\\\\\\\\\\\"Atr2\\\\\\\\\\\\\"}}, \\\\\\\\\\\\\"typeProperty\\\\\\\\\\\\\": 2}, {\\\\\\\\\\\\\"column\\\\\\\\\\\\\": {\\\\\\\\\\\\\"type\\\\\\\\\\\\\": 2, \\\\\\\\\\\\\"details\\\\\\\\\\\\\": {\\\\\\\\\\\\\"selectedColumn\\\\\\\\\\\\\": \\\\\\\\\\\\\"Atr3\\\\\\\\\\\\\"}}, \\\\\\\\\\\\\"typeProperty\\\\\\\\\\\\\": 2}, {\\\\\\\\\\\\\"column\\\\\\\\\\\\\": {\\\\\\\\\\\\\"type\\\\\\\\\\\\\": 2, \\\\\\\\\\\\\"details\\\\\\\\\\\\\": {\\\\\\\\\\\\\"selectedColumn\\\\\\\\\\\\\": \\\\\\\\\\\\\"Atr4\\\\\\\\\\\\\"}}, \\\\\\\\\\\\\"typeProperty\\\\\\\\\\\\\": 2}, {\\\\\\\\\\\\\"column\\\\\\\\\\\\\": {\\\\\\\\\\\\\"type\\\\\\\\\\\\\": 2, \\\\\\\\\\\\\"details\\\\\\\\\\\\\": {\\\\\\\\\\\\\"selectedColumn\\\\\\\\\\\\\": \\\\\\\\\\\\\"Atr5\\\\\\\\\\\\\"}}, \\\\\\\\\\\\\"typeProperty\\\\\\\\\\\\\": 2}, {\\\\\\\\\\\\\"column\\\\\\\\\\\\\": {\\\\\\\\\\\\\"type\\\\\\\\\\\\\": 2, \\\\\\\\\\\\\"details\\\\\\\\\\\\\": {\\\\\\\\\\\\\"selectedColumn\\\\\\\\\\\\\": \\\\\\\\\\\\\"Atr6\\\\\\\\\\\\\"}}, \\\\\\\\\\\\\"typeProperty\\\\\\\\\\\\\": 2}, {\\\\\\\\\\\\\"column\\\\\\\\\\\\\": {\\\\\\\\\\\\\"type\\\\\\\\\\\\\": 2, \\\\\\\\\\\\\"details\\\\\\\\\\\\\": {\\\\\\\\\\\\\"selectedColumn\\\\\\\\\\\\\": \\\\\\\\\\\\\"Atr7\\\\\\\\\\\\\"}}, \\\\\\\\\\\\\"typeProperty\\\\\\\\\\\\\": 2}, {\\\\\\\\\\\\\"column\\\\\\\\\\\\\": {\\\\\\\\\\\\\"type\\\\\\\\\\\\\": 2, \\\\\\\\\\\\\"details\\\\\\\\\\\\\": {\\\\\\\\\\\\\"selectedColumn\\\\\\\\\\\\\": \\\\\\\\\\\\\"Atr8\\\\\\\\\\\\\"}}, \\\\\\\\\\\\\"typeProperty\\\\\\\\\\\\\": 2}, {\\\\\\\\\\\\\"column\\\\\\\\\\\\\": {\\\\\\\\\\\\\"type\\\\\\\\\\\\\": 2, \\\\\\\\\\\\\"details\\\\\\\\\\\\\": {\\\\\\\\\\\\\"selectedColumn\\\\\\\\\\\\\": \\\\\\\\\\\\\"Atr9\\\\\\\\\\\\\"}}, \\\\\\\\\\\\\"typeProperty\\\\\\\\\\\\\": 2}, {\\\\\\\\\\\\\"column\\\\\\\\\\\\\": {\\\\\\\\\\\\\"type\\\\\\\\\\\\\": 2, \\\\\\\\\\\\\"details\\\\\\\\\\\\\": {\\\\\\\\\\\\\"selectedColumn\\\\\\\\\\\\\": \\\\\\\\\\\\\"Atr10\\\\\\\\\\\\\"}}, \\\\\\\\\\\\\"typeProperty\\\\\\\\\\\\\": 2}, {\\\\\\\\\\\\\"column\\\\\\\\\\\\\": {\\\\\\\\\\\\\"type\\\\\\\\\\\\\": 2, \\\\\\\\\\\\\"details\\\\\\\\\\\\\": {\\\\\\\\\\\\\"selectedColumn\\\\\\\\\\\\\": \\\\\\\\\\\\\"Atr11\\\\\\\\\\\\\"}}, \\\\\\\\\\\\\"typeProperty\\\\\\\\\\\\\": 2}, {\\\\\\\\\\\\\"column\\\\\\\\\\\\\": {\\\\\\\\\\\\\"type\\\\\\\\\\\\\": 2, \\\\\\\\\\\\\"details\\\\\\\\\\\\\": {\\\\\\\\\\\\\"selectedColumn\\\\\\\\\\\\\": \\\\\\\\\\\\\"Atr12\\\\\\\\\\\\\"}}, \\\\\\\\\\\\\"typeProperty\\\\\\\\\\\\\": 2}, {\\\\\\\\\\\\\"column\\\\\\\\\\\\\": {\\\\\\\\\\\\\"type\\\\\\\\\\\\\": 2, \\\\\\\\\\\\\"details\\\\\\\\\\\\\": {\\\\\\\\\\\\\"selectedColumn\\\\\\\\\\\\\": \\\\\\\\\\\\\"Atr13\\\\\\\\\\\\\"}}, \\\\\\\\\\\\\"typeProperty\\\\\\\\\\\\\": 2}, {\\\\\\\\\\\\\"column\\\\\\\\\\\\\": {\\\\\\\\\\\\\"type\\\\\\\\\\\\\": 2, \\\\\\\\\\\\\"details\\\\\\\\\\\\\": {\\\\\\\\\\\\\"selectedColumn\\\\\\\\\\\\\": \\\\\\\\\\\\\"Atr14\\\\\\\\\\\\\"}}, \\\\\\\\\\\\\"typeProperty\\\\\\\\\\\\\": 2}, {\\\\\\\\\\\\\"column\\\\\\\\\\\\\": {\\\\\\\\\\\\\"type\\\\\\\\\\\\\": 2, \\\\\\\\\\\\\"details\\\\\\\\\\\\\": {\\\\\\\\\\\\\"selectedColumn\\\\\\\\\\\\\": \\\\\\\\\\\\\"Atr15\\\\\\\\\\\\\"}}, \\\\\\\\\\\\\"typeProperty\\\\\\\\\\\\\": 2}, {\\\\\\\\\\\\\"column\\\\\\\\\\\\\": {\\\\\\\\\\\\\"type\\\\\\\\\\\\\": 2, \\\\\\\\\\\\\"details\\\\\\\\\\\\\": {\\\\\\\\\\\\\"selectedColumn\\\\\\\\\\\\\": \\\\\\\\\\\\\"Atr16\\\\\\\\\\\\\"}}, \\\\\\\\\\\\\"typeProperty\\\\\\\\\\\\\": 2}, {\\\\\\\\\\\\\"column\\\\\\\\\\\\\": {\\\\\\\\\\\\\"type\\\\\\\\\\\\\": 2, \\\\\\\\\\\\\"details\\\\\\\\\\\\\": {\\\\\\\\\\\\\"selectedColumn\\\\\\\\\\\\\": \\\\\\\\\\\\\"Atr17\\\\\\\\\\\\\"}}, \\\\\\\\\\\\\"typeProperty\\\\\\\\\\\\\": 2}, {\\\\\\\\\\\\\"column\\\\\\\\\\\\\": {\\\\\\\\\\\\\"type\\\\\\\\\\\\\": 2, \\\\\\\\\\\\\"details\\\\\\\\\\\\\": {\\\\\\\\\\\\\"selectedColumn\\\\\\\\\\\\\": \\\\\\\\\\\\\"Atr18\\\\\\\\\\\\\"}}, \\\\\\\\\\\\\"typeProperty\\\\\\\\\\\\\": 2}, {\\\\\\\\\\\\\"column\\\\\\\\\\\\\": {\\\\\\\\\\\\\"type\\\\\\\\\\\\\": 2, \\\\\\\\\\\\\"details\\\\\\\\\\\\\": {\\\\\\\\\\\\\"selectedColumn\\\\\\\\\\\\\": \\\\\\\\\\\\\"Atr19\\\\\\\\\\\\\"}}, \\\\\\\\\\\\\"typeProperty\\\\\\\\\\\\\": 2}, {\\\\\\\\\\\\\"column\\\\\\\\\\\\\": {\\\\\\\\\\\\\"type\\\\\\\\\\\\\": 2, \\\\\\\\\\\\\"details\\\\\\\\\\\\\": {\\\\\\\\\\\\\"selectedColumn\\\\\\\\\\\\\": \\\\\\\\\\\\\"Atr20\\\\\\\\\\\\\"}}, \\\\\\\\\\\\\"typeProperty\\\\\\\\\\\\\": 2}, {\\\\\\\\\\\\\"column\\\\\\\\\\\\\": {\\\\\\\\\\\\\"type\\\\\\\\\\\\\": 2, \\\\\\\\\\\\\"details\\\\\\\\\\\\\": {\\\\\\\\\\\\\"selectedColumn\\\\\\\\\\\\\": \\\\\\\\\\\\\"Atr21\\\\\\\\\\\\\"}}, \\\\\\\\\\\\\"typeProperty\\\\\\\\\\\\\": 2}, {\\\\\\\\\\\\\"column\\\\\\\\\\\\\": {\\\\\\\\\\\\\"type\\\\\\\\\\\\\": 2, \\\\\\\\\\\\\"details\\\\\\\\\\\\\": {\\\\\\\\\\\\\"selectedColumn\\\\\\\\\\\\\": \\\\\\\\\\\\\"Atr22\\\\\\\\\\\\\"}}, \\\\\\\\\\\\\"typeProperty\\\\\\\\\\\\\": 2}, {\\\\\\\\\\\\\"column\\\\\\\\\\\\\": {\\\\\\\\\\\\\"type\\\\\\\\\\\\\": 2, \\\\\\\\\\\\\"details\\\\\\\\\\\\\": {\\\\\\\\\\\\\"selectedColumn\\\\\\\\\\\\\": \\\\\\\\\\\\\"Atr23\\\\\\\\\\\\\"}}, \\\\\\\\\\\\\"typeProperty\\\\\\\\\\\\\": 2}, {\\\\\\\\\\\\\"column\\\\\\\\\\\\\": {\\\\\\\\\\\\\"type\\\\\\\\\\\\\": 2, \\\\\\\\\\\\\"details\\\\\\\\\\\\\": {\\\\\\\\\\\\\"selectedColumn\\\\\\\\\\\\\": \\\\\\\\\\\\\"Atr24\\\\\\\\\\\\\"}}, \\\\\\\\\\\\\"typeProperty\\\\\\\\\\\\\": 2}, {\\\\\\\\\\\\\"column\\\\\\\\\\\\\": {\\\\\\\\\\\\\"type\\\\\\\\\\\\\": 2, \\\\\\\\\\\\\"details\\\\\\\\\\\\\": {\\\\\\\\\\\\\"selectedColumn\\\\\\\\\\\\\": \\\\\\\\\\\\\"Atr25\\\\\\\\\\\\\"}}, \\\\\\\\\\\\\"typeProperty\\\\\\\\\\\\\": 2}, {\\\\\\\\\\\\\"column\\\\\\\\\\\\\": {\\\\\\\\\\\\\"type\\\\\\\\\\\\\": 2, \\\\\\\\\\\\\"details\\\\\\\\\\\\\": {\\\\\\\\\\\\\"selectedColumn\\\\\\\\\\\\\": \\\\\\\\\\\\\"Atr26\\\\\\\\\\\\\"}}, \\\\\\\\\\\\\"typeProperty\\\\\\\\\\\\\": 2}, {\\\\\\\\\\\\\"column\\\\\\\\\\\\\": {\\\\\\\\\\\\\"type\\\\\\\\\\\\\": 2, \\\\\\\\\\\\\"details\\\\\\\\\\\\\": {\\\\\\\\\\\\\"selectedColumn\\\\\\\\\\\\\": \\\\\\\\\\\\\"Atr27\\\\\\\\\\\\\"}}, \\\\\\\\\\\\\"typeProperty\\\\\\\\\\\\\": 2}, {\\\\\\\\\\\\\"column\\\\\\\\\\\\\": {\\\\\\\\\\\\\"type\\\\\\\\\\\\\": 2, \\\\\\\\\\\\\"details\\\\\\\\\\\\\": {\\\\\\\\\\\\\"selectedColumn\\\\\\\\\\\\\": \\\\\\\\\\\\\"Atr28\\\\\\\\\\\\\"}}, \\\\\\\\\\\\\"typeProperty\\\\\\\\\\\\\": 2}, {\\\\\\\\\\\\\"column\\\\\\\\\\\\\": {\\\\\\\\\\\\\"type\\\\\\\\\\\\\": 2, \\\\\\\\\\\\\"details\\\\\\\\\\\\\": {\\\\\\\\\\\\\"selectedColumn\\\\\\\\\\\\\": \\\\\\\\\\\\\"Atr29\\\\\\\\\\\\\"}}, \\\\\\\\\\\\\"typeProperty\\\\\\\\\\\\\": 2}, {\\\\\\\\\\\\\"column\\\\\\\\\\\\\": {\\\\\\\\\\\\\"type\\\\\\\\\\\\\": 2, \\\\\\\\\\\\\"details\\\\\\\\\\\\\": {\\\\\\\\\\\\\"selectedColumn\\\\\\\\\\\\\": \\\\\\\\\\\\\"Atr30\\\\\\\\\\\\\"}}, \\\\\\\\\\\\\"typeProperty\\\\\\\\\\\\\": 2}, {\\\\\\\\\\\\\"column\\\\\\\\\\\\\": {\\\\\\\\\\\\\"type\\\\\\\\\\\\\": 2, \\\\\\\\\\\\\"details\\\\\\\\\\\\\": {\\\\\\\\\\\\\"selectedColumn\\\\\\\\\\\\\": \\\\\\\\\\\\\"Atr31\\\\\\\\\\\\\"}}, \\\\\\\\\\\\\"typeProperty\\\\\\\\\\\\\": 2}, {\\\\\\\\\\\\\"column\\\\\\\\\\\\\": {\\\\\\\\\\\\\"type\\\\\\\\\\\\\": 2, \\\\\\\\\\\\\"details\\\\\\\\\\\\\": {\\\\\\\\\\\\\"selectedColumn\\\\\\\\\\\\\": \\\\\\\\\\\\\"Atr32\\\\\\\\\\\\\"}}, \\\\\\\\\\\\\"typeProperty\\\\\\\\\\\\\": 2}, {\\\\\\\\\\\\\"column\\\\\\\\\\\\\": {\\\\\\\\\\\\\"type\\\\\\\\\\\\\": 2, \\\\\\\\\\\\\"details\\\\\\\\\\\\\": {\\\\\\\\\\\\\"selectedColumn\\\\\\\\\\\\\": \\\\\\\\\\\\\"Atr33\\\\\\\\\\\\\"}}, \\\\\\\\\\\\\"typeProperty\\\\\\\\\\\\\": 2}, {\\\\\\\\\\\\\"column\\\\\\\\\\\\\": {\\\\\\\\\\\\\"type\\\\\\\\\\\\\": 2, \\\\\\\\\\\\\"details\\\\\\\\\\\\\": {\\\\\\\\\\\\\"selectedColumn\\\\\\\\\\\\\": \\\\\\\\\\\\\"Atr34\\\\\\\\\\\\\"}}, \\\\\\\\\\\\\"typeProperty\\\\\\\\\\\\\": 2}, {\\\\\\\\\\\\\"column\\\\\\\\\\\\\": {\\\\\\\\\\\\\"type\\\\\\\\\\\\\": 2, \\\\\\\\\\\\\"details\\\\\\\\\\\\\": {\\\\\\\\\\\\\"selectedColumn\\\\\\\\\\\\\": \\\\\\\\\\\\\"Atr35\\\\\\\\\\\\\"}}, \\\\\\\\\\\\\"typeProperty\\\\\\\\\\\\\": 2}, {\\\\\\\\\\\\\"column\\\\\\\\\\\\\": {\\\\\\\\\\\\\"type\\\\\\\\\\\\\": 2, \\\\\\\\\\\\\"details\\\\\\\\\\\\\": {\\\\\\\\\\\\\"selectedColumn\\\\\\\\\\\\\": \\\\\\\\\\\\\"Atr36\\\\\\\\\\\\\"}}, \\\\\\\\\\\\\"typeProperty\\\\\\\\\\\\\": 2}, {\\\\\\\\\\\\\"column\\\\\\\\\\\\\": {\\\\\\\\\\\\\"type\\\\\\\\\\\\\": 2, \\\\\\\\\\\\\"details\\\\\\\\\\\\\": {\\\\\\\\\\\\\"selectedColumn\\\\\\\\\\\\\": \\\\\\\\\\\\\"Atr37\\\\\\\\\\\\\"}}, \\\\\\\\\\\\\"typeProperty\\\\\\\\\\\\\": 2}, {\\\\\\\\\\\\\"column\\\\\\\\\\\\\": {\\\\\\\\\\\\\"type\\\\\\\\\\\\\": 2, \\\\\\\\\\\\\"details\\\\\\\\\\\\\": {\\\\\\\\\\\\\"selectedColumn\\\\\\\\\\\\\": \\\\\\\\\\\\\"Atr38\\\\\\\\\\\\\"}}, \\\\\\\\\\\\\"typeProperty\\\\\\\\\\\\\": 2}, {\\\\\\\\\\\\\"column\\\\\\\\\\\\\": {\\\\\\\\\\\\\"type\\\\\\\\\\\\\": 2, \\\\\\\\\\\\\"details\\\\\\\\\\\\\": {\\\\\\\\\\\\\"selectedColumn\\\\\\\\\\\\\": \\\\\\\\\\\\\"Atr39\\\\\\\\\\\\\"}}, \\\\\\\\\\\\\"typeProperty\\\\\\\\\\\\\": 2}, {\\\\\\\\\\\\\"column\\\\\\\\\\\\\": {\\\\\\\\\\\\\"type\\\\\\\\\\\\\": 2, \\\\\\\\\\\\\"details\\\\\\\\\\\\\": {\\\\\\\\\\\\\"selectedColumn\\\\\\\\\\\\\": \\\\\\\\\\\\\"Atr40\\\\\\\\\\\\\"}}, \\\\\\\\\\\\\"typeProperty\\\\\\\\\\\\\": 2}, {\\\\\\\\\\\\\"column\\\\\\\\\\\\\": {\\\\\\\\\\\\\"type\\\\\\\\\\\\\": 2, \\\\\\\\\\\\\"details\\\\\\\\\\\\\": {\\\\\\\\\\\\\"selectedColumn\\\\\\\\\\\\\": \\\\\\\\\\\\\"Atr41\\\\\\\\\\\\\"}}, \\\\\\\\\\\\\"typeProperty\\\\\\\\\\\\\": 2}, {\\\\\\\\\\\\\"column\\\\\\\\\\\\\": {\\\\\\\\\\\\\"type\\\\\\\\\\\\\": 2, \\\\\\\\\\\\\"details\\\\\\\\\\\\\": {\\\\\\\\\\\\\"selectedColumn\\\\\\\\\\\\\": \\\\\\\\\\\\\"Atr42\\\\\\\\\\\\\"}}, \\\\\\\\\\\\\"typeProperty\\\\\\\\\\\\\": 2}, {\\\\\\\\\\\\\"column\\\\\\\\\\\\\": {\\\\\\\\\\\\\"type\\\\\\\\\\\\\": 2, \\\\\\\\\\\\\"details\\\\\\\\\\\\\": {\\\\\\\\\\\\\"selectedColumn\\\\\\\\\\\\\": \\\\\\\\\\\\\"Atr43\\\\\\\\\\\\\"}}, \\\\\\\\\\\\\"typeProperty\\\\\\\\\\\\\": 2}, {\\\\\\\\\\\\\"column\\\\\\\\\\\\\": {\\\\\\\\\\\\\"type\\\\\\\\\\\\\": 2, \\\\\\\\\\\\\"details\\\\\\\\\\\\\": {\\\\\\\\\\\\\"selectedColumn\\\\\\\\\\\\\": \\\\\\\\\\\\\"Atr44\\\\\\\\\\\\\"}}, \\\\\\\\\\\\\"typeProperty\\\\\\\\\\\\\": 2}, {\\\\\\\\\\\\\"column\\\\\\\\\\\\\": {\\\\\\\\\\\\\"type\\\\\\\\\\\\\": 2, \\\\\\\\\\\\\"details\\\\\\\\\\\\\": {\\\\\\\\\\\\\"selectedColumn\\\\\\\\\\\\\": \\\\\\\\\\\\\"Atr45\\\\\\\\\\\\\"}}, \\\\\\\\\\\\\"typeProperty\\\\\\\\\\\\\": 2}, {\\\\\\\\\\\\\"column\\\\\\\\\\\\\": {\\\\\\\\\\\\\"type\\\\\\\\\\\\\": 2, \\\\\\\\\\\\\"details\\\\\\\\\\\\\": {\\\\\\\\\\\\\"selectedColumn\\\\\\\\\\\\\": \\\\\\\\\\\\\"Atr46\\\\\\\\\\\\\"}}, \\\\\\\\\\\\\"typeProperty\\\\\\\\\\\\\": 2}, {\\\\\\\\\\\\\"column\\\\\\\\\\\\\": {\\\\\\\\\\\\\"type\\\\\\\\\\\\\": 2, \\\\\\\\\\\\\"details\\\\\\\\\\\\\": {\\\\\\\\\\\\\"selectedColumn\\\\\\\\\\\\\": \\\\\\\\\\\\\"Atr47\\\\\\\\\\\\\"}}, \\\\\\\\\\\\\"typeProperty\\\\\\\\\\\\\": 2}, {\\\\\\\\\\\\\"column\\\\\\\\\\\\\": {\\\\\\\\\\\\\"type\\\\\\\\\\\\\": 2, \\\\\\\\\\\\\"details\\\\\\\\\\\\\": {\\\\\\\\\\\\\"selectedColumn\\\\\\\\\\\\\": \\\\\\\\\\\\\"Atr48\\\\\\\\\\\\\"}}, \\\\\\\\\\\\\"typeProperty\\\\\\\\\\\\\": 2}, {\\\\\\\\\\\\\"column\\\\\\\\\\\\\": {\\\\\\\\\\\\\"type\\\\\\\\\\\\\": 2, \\\\\\\\\\\\\"details\\\\\\\\\\\\\": {\\\\\\\\\\\\\"selectedColumn\\\\\\\\\\\\\": \\\\\\\\\\\\\"Atr49\\\\\\\\\\\\\"}}, \\\\\\\\\\\\\"typeProperty\\\\\\\\\\\\\": 2}, {\\\\\\\\\\\\\"column\\\\\\\\\\\\\": {\\\\\\\\\\\\\"type\\\\\\\\\\\\\": 2, \\\\\\\\\\\\\"details\\\\\\\\\\\\\": {\\\\\\\\\\\\\"selectedColumn\\\\\\\\\\\\\": \\\\\\\\\\\\\"Atr50\\\\\\\\\\\\\"}}, \\\\\\\\\\\\\"typeProperty\\\\\\\\\\\\\": 2}, {\\\\\\\\\\\\\"column\\\\\\\\\\\\\": {\\\\\\\\\\\\\"type\\\\\\\\\\\\\": 2, \\\\\\\\\\\\\"details\\\\\\\\\\\\\": {\\\\\\\\\\\\\"selectedColumn\\\\\\\\\\\\\": \\\\\\\\\\\\\"Atr51\\\\\\\\\\\\\"}}, \\\\\\\\\\\\\"typeProperty\\\\\\\\\\\\\": 2}, {\\\\\\\\\\\\\"column\\\\\\\\\\\\\": {\\\\\\\\\\\\\"type\\\\\\\\\\\\\": 2, \\\\\\\\\\\\\"details\\\\\\\\\\\\\": {\\\\\\\\\\\\\"selectedColumn\\\\\\\\\\\\\": \\\\\\\\\\\\\"Atr52\\\\\\\\\\\\\"}}, \\\\\\\\\\\\\"typeProperty\\\\\\\\\\\\\": 2}, {\\\\\\\\\\\\\"column\\\\\\\\\\\\\": {\\\\\\\\\\\\\"type\\\\\\\\\\\\\": 2, \\\\\\\\\\\\\"details\\\\\\\\\\\\\": {\\\\\\\\\\\\\"selectedColumn\\\\\\\\\\\\\": \\\\\\\\\\\\\"Atr53\\\\\\\\\\\\\"}}, \\\\\\\\\\\\\"typeProperty\\\\\\\\\\\\\": 2}, {\\\\\\\\\\\\\"column\\\\\\\\\\\\\": {\\\\\\\\\\\\\"type\\\\\\\\\\\\\": 2, \\\\\\\\\\\\\"details\\\\\\\\\\\\\": {\\\\\\\\\\\\\"selectedColumn\\\\\\\\\\\\\": \\\\\\\\\\\\\"Atr54\\\\\\\\\\\\\"}}, \\\\\\\\\\\\\"typeProperty\\\\\\\\\\\\\": 2}, {\\\\\\\\\\\\\"column\\\\\\\\\\\\\": {\\\\\\\\\\\\\"type\\\\\\\\\\\\\": 2, \\\\\\\\\\\\\"details\\\\\\\\\\\\\": {\\\\\\\\\\\\\"selectedColumn\\\\\\\\\\\\\": \\\\\\\\\\\\\"Class\\\\\\\\\\\\\"}}, \\\\\\\\\\\\\"typeProperty\\\\\\\\\\\\\": 2}]}, \\\\\\\\\\\\\"localData\\\\\\\\\\\\\": {}, \\\\\\\\\\\\\"isEnabled\\\\\\\\\\\\\": true, \\\\\\\\\\\\\"name\\\\\\\\\\\\\": null, \\\\\\\\\\\\\"annotation\\\\\\\\\\\\\": null}], \\\\\\\\\\\\\"inspectors\\\\\\\\\\\\\": [], \\\\\\\\\\\\\"meta\\\\\\\\\\\\\": {\\\\\\\\\\\\\"savedDatasetId\\\\\\\\\\\\\": \\\\\\\\\\\\\"209db0a0-3ce7-41ba-b7ed-c00fd233ee3c\\\\\\\\\\\\\", \\\\\\\\\\\\\"datasetType\\\\\\\\\\\\\": \\\\\\\\\\\\\"tabular\\\\\\\\\\\\\", \\\\\\\\\\\\\"subscriptionId\\\\\\\\\\\\\": \\\\\\\\\\\\\"d7f39349-a66b-446e-aba6-0053c2cf1c11\\\\\\\\\\\\\", \\\\\\\\\\\\\"workspaceId\\\\\\\\\\\\\": \\\\\\\\\\\\\"97d50da7-e499-4e24-a8ed-92719d9fead4\\\\\\\\\\\\\", \\\\\\\\\\\\\"workspaceLocation\\\\\\\\\\\\\": \\\\\\\\\\\\\"southcentralus\\\\\\\\\\\\\"}}\\\\\", \\\\\"activities\\\\\": 0}',\n",
       "  'EnableSubsampling': None,\n",
       "  'runTemplate': 'AutoML',\n",
       "  'azureml.runsource': 'automl',\n",
       "  'display_task_type': 'classification',\n",
       "  'dependencies_versions': '{\"azureml-widgets\": \"1.19.0\", \"azureml-train\": \"1.19.0\", \"azureml-train-restclients-hyperdrive\": \"1.19.0\", \"azureml-train-core\": \"1.19.0\", \"azureml-train-automl\": \"1.19.0\", \"azureml-train-automl-runtime\": \"1.19.0\", \"azureml-train-automl-client\": \"1.19.0\", \"azureml-tensorboard\": \"1.19.0\", \"azureml-telemetry\": \"1.19.0\", \"azureml-sdk\": \"1.19.0\", \"azureml-samples\": \"0+unknown\", \"azureml-pipeline\": \"1.19.0\", \"azureml-pipeline-steps\": \"1.19.0\", \"azureml-pipeline-core\": \"1.19.0\", \"azureml-opendatasets\": \"1.19.0\", \"azureml-model-management-sdk\": \"1.0.1b6.post1\", \"azureml-mlflow\": \"1.19.0\", \"azureml-interpret\": \"1.19.0\", \"azureml-explain-model\": \"1.19.0\", \"azureml-defaults\": \"1.19.0\", \"azureml-dataset-runtime\": \"1.19.0\", \"azureml-dataprep\": \"2.6.1\", \"azureml-dataprep-rslex\": \"1.4.0\", \"azureml-dataprep-native\": \"26.0.0\", \"azureml-datadrift\": \"1.19.0\", \"azureml-core\": \"1.19.0\", \"azureml-contrib-services\": \"1.19.0\", \"azureml-contrib-server\": \"1.19.0\", \"azureml-contrib-reinforcementlearning\": \"1.19.0\", \"azureml-contrib-pipeline-steps\": \"1.19.0\", \"azureml-contrib-notebook\": \"1.19.0\", \"azureml-contrib-interpret\": \"1.19.0\", \"azureml-contrib-gbdt\": \"1.19.0\", \"azureml-contrib-fairness\": \"1.19.0\", \"azureml-contrib-dataset\": \"1.19.0\", \"azureml-cli-common\": \"1.19.0\", \"azureml-automl-runtime\": \"1.19.0\", \"azureml-automl-core\": \"1.19.0\", \"azureml-accel-models\": \"1.19.0\"}',\n",
       "  '_aml_system_scenario_identification': 'Remote.Parent',\n",
       "  'ClientType': 'SDK',\n",
       "  'environment_cpu_name': 'AzureML-AutoML',\n",
       "  'environment_cpu_label': 'prod',\n",
       "  'environment_gpu_name': 'AzureML-AutoML-GPU',\n",
       "  'environment_gpu_label': 'prod',\n",
       "  'root_attribution': 'automl',\n",
       "  'attribution': 'AutoML',\n",
       "  'Orchestrator': 'AutoML',\n",
       "  'CancelUri': 'https://southcentralus.experiments.azureml.net/jasmine/v1.0/subscriptions/d7f39349-a66b-446e-aba6-0053c2cf1c11/resourceGroups/aml-quickstarts-133988/providers/Microsoft.MachineLearningServices/workspaces/quick-starts-ws-133988/experimentids/989aaffe-e5b2-4d64-91f2-aedcffe67845/cancel/AutoML_ce25be63-6ad2-40b3-9fb4-4e1a156aa6f9',\n",
       "  'ClientSdkVersion': '1.19.0',\n",
       "  'snapshotId': '00000000-0000-0000-0000-000000000000',\n",
       "  'SetupRunId': 'AutoML_ce25be63-6ad2-40b3-9fb4-4e1a156aa6f9_setup',\n",
       "  'SetupRunContainerId': 'dcid.AutoML_ce25be63-6ad2-40b3-9fb4-4e1a156aa6f9_setup',\n",
       "  'FeaturizationRunJsonPath': 'featurizer_container.json',\n",
       "  'FeaturizationRunId': 'AutoML_ce25be63-6ad2-40b3-9fb4-4e1a156aa6f9_featurize',\n",
       "  'ProblemInfoJsonString': '{\"dataset_num_categorical\": 0, \"is_sparse\": true, \"subsampling\": false, \"dataset_classes\": 2, \"dataset_features\": 270, \"dataset_samples\": 170, \"single_frequency_class_detected\": false}',\n",
       "  'ModelExplainRunId': 'AutoML_ce25be63-6ad2-40b3-9fb4-4e1a156aa6f9_ModelExplain'},\n",
       " 'inputDatasets': [{'dataset': {'id': '209db0a0-3ce7-41ba-b7ed-c00fd233ee3c'}, 'consumptionDetails': {'type': 'RunInput', 'inputName': 'training_data', 'mechanism': 'Direct'}}],\n",
       " 'outputDatasets': [],\n",
       " 'logFiles': {}}"
      ]
     },
     "execution_count": 12,
     "metadata": {},
     "output_type": "execute_result"
    }
   ],
   "source": [
    "RunDetails(remote_run).show()\n",
    "remote_run.wait_for_completion(show_output=True)"
   ]
  },
  {
   "cell_type": "markdown",
   "metadata": {},
   "source": [
    "## Best Model\n",
    "\n",
    "TODO: In the cell below, get the best model from the automl experiments and display all the properties of the model.\n",
    "\n"
   ]
  },
  {
   "cell_type": "code",
   "execution_count": 13,
   "metadata": {
    "gather": {
     "logged": 1598431425670
    },
    "jupyter": {
     "outputs_hidden": false,
     "source_hidden": false
    },
    "nteract": {
     "transient": {
      "deleting": false
     }
    }
   },
   "outputs": [
    {
     "name": "stdout",
     "output_type": "stream",
     "text": [
      "Run(Experiment: CapstoneExp,\n",
      "Id: AutoML_ce25be63-6ad2-40b3-9fb4-4e1a156aa6f9_40,\n",
      "Type: azureml.scriptrun,\n",
      "Status: Completed)\n",
      "precision_score_micro 1.0\n",
      "weighted_accuracy 1.0\n",
      "AUC_macro 1.0\n",
      "precision_score_weighted 1.0\n",
      "average_precision_score_macro 1.0\n",
      "accuracy 1.0\n",
      "norm_macro_recall 1.0\n",
      "AUC_micro 1.0\n",
      "recall_score_macro 1.0\n",
      "balanced_accuracy 1.0\n",
      "AUC_weighted 1.0\n",
      "f1_score_macro 1.0\n",
      "f1_score_weighted 1.0\n",
      "average_precision_score_micro 1.0\n",
      "log_loss 0.03694490202784341\n",
      "f1_score_micro 1.0\n",
      "precision_score_macro 1.0\n",
      "recall_score_weighted 1.0\n",
      "matthews_correlation 1.0\n",
      "average_precision_score_weighted 1.0\n",
      "recall_score_micro 1.0\n",
      "accuracy_table aml://artifactId/ExperimentRun/dcid.AutoML_ce25be63-6ad2-40b3-9fb4-4e1a156aa6f9_40/accuracy_table\n",
      "confusion_matrix aml://artifactId/ExperimentRun/dcid.AutoML_ce25be63-6ad2-40b3-9fb4-4e1a156aa6f9_40/confusion_matrix\n"
     ]
    }
   ],
   "source": [
    "# Get best run and model\n",
    "best_run, fitted_model = remote_run.get_output()\n",
    "\n",
    "# Print the best run\n",
    "print(best_run)\n",
    "\n",
    "# Get all metrics of the best run\n",
    "best_run_metrics = best_run.get_metrics()\n",
    "\n",
    "# Print all metrics of the best run\n",
    "for metric_name in best_run_metrics:\n",
    "    metric = best_run_metrics[metric_name]\n",
    "    print(metric_name, metric)"
   ]
  },
  {
   "cell_type": "code",
   "execution_count": 14,
   "metadata": {
    "gather": {
     "logged": 1598431425670
    },
    "jupyter": {
     "outputs_hidden": false,
     "source_hidden": false
    },
    "nteract": {
     "transient": {
      "deleting": false
     }
    }
   },
   "outputs": [
    {
     "name": "stdout",
     "output_type": "stream",
     "text": [
      "datatransformer\n",
      "{'enable_dnn': None,\n",
      " 'enable_feature_sweeping': None,\n",
      " 'feature_sweeping_config': None,\n",
      " 'feature_sweeping_timeout': None,\n",
      " 'featurization_config': None,\n",
      " 'force_text_dnn': None,\n",
      " 'is_cross_validation': None,\n",
      " 'is_onnx_compatible': None,\n",
      " 'logger': None,\n",
      " 'observer': None,\n",
      " 'task': None,\n",
      " 'working_dir': None}\n",
      "\n",
      "TruncatedSVDWrapper\n",
      "{'n_components': 0.5047368421052632, 'random_state': None}\n",
      "\n",
      "LightGBMClassifier\n",
      "{'boosting_type': 'goss',\n",
      " 'class_weight': None,\n",
      " 'colsample_bytree': 0.5944444444444444,\n",
      " 'importance_type': 'split',\n",
      " 'learning_rate': 0.05263631578947369,\n",
      " 'max_bin': 360,\n",
      " 'max_depth': -1,\n",
      " 'min_child_samples': 9,\n",
      " 'min_child_weight': 0,\n",
      " 'min_split_gain': 0.3684210526315789,\n",
      " 'n_estimators': 400,\n",
      " 'n_jobs': 1,\n",
      " 'num_leaves': 89,\n",
      " 'objective': None,\n",
      " 'random_state': None,\n",
      " 'reg_alpha': 0.5263157894736842,\n",
      " 'reg_lambda': 0.5263157894736842,\n",
      " 'silent': True,\n",
      " 'subsample': 1,\n",
      " 'subsample_for_bin': 200000,\n",
      " 'subsample_freq': 0,\n",
      " 'verbose': -10}\n",
      "\n"
     ]
    }
   ],
   "source": [
    "# Print detailed parameters of the fitted model\n",
    "def print_model(model, prefix=\"\"):\n",
    "    for step in model.steps:\n",
    "        print(prefix + step[0])\n",
    "        if hasattr(step[1], 'estimators') and hasattr(step[1], 'weights'):\n",
    "            pprint({'estimators': list(\n",
    "                e[0] for e in step[1].estimators), 'weights': step[1].weights})\n",
    "            print()\n",
    "            for estimator in step[1].estimators:\n",
    "                print_model(estimator[1], estimator[0] + ' - ')\n",
    "        else:\n",
    "            pprint(step[1].get_params())\n",
    "            print()\n",
    "\n",
    "print_model(fitted_model)"
   ]
  },
  {
   "cell_type": "code",
   "execution_count": 15,
   "metadata": {
    "gather": {
     "logged": 1598431426111
    },
    "jupyter": {
     "outputs_hidden": false,
     "source_hidden": false
    },
    "nteract": {
     "transient": {
      "deleting": false
     }
    }
   },
   "outputs": [
    {
     "data": {
      "text/plain": [
       "Model(workspace=Workspace.create(name='quick-starts-ws-133988', subscription_id='d7f39349-a66b-446e-aba6-0053c2cf1c11', resource_group='aml-quickstarts-133988'), name=capstoneModel_automl, id=capstoneModel_automl:1, version=1, tags={'Training context': 'Auto ML'}, properties={'Accuracy': '1.0'})"
      ]
     },
     "execution_count": 15,
     "metadata": {},
     "output_type": "execute_result"
    }
   ],
   "source": [
    "#TODO: Save the best model\n",
    "myModel = best_run.register_model(model_path='outputs/model.pkl', model_name='capstoneModel_automl',\n",
    "                        tags={'Training context':'Auto ML'},\n",
    "                        properties={'Accuracy': best_run_metrics['accuracy']})\n",
    "\n",
    "print(myModel)"
   ]
  },
  {
   "cell_type": "code",
   "execution_count": 16,
   "metadata": {
    "gather": {
     "logged": 1598431426111
    },
    "jupyter": {
     "outputs_hidden": false,
     "source_hidden": false
    },
    "nteract": {
     "transient": {
      "deleting": false
     }
    }
   },
   "outputs": [
    {
     "name": "stdout",
     "output_type": "stream",
     "text": [
      "capstoneModel_automl version: 1\n",
      "\t Training context : Auto ML\n",
      "\t Accuracy : 1.0\n",
      "\n",
      "\n",
      "HyperDrive_HighAccuracy version: 1\n",
      "\t Accuracy : 0.9803921568627451\n",
      "\t Regularization Strength : 4.0\n",
      "\t Max Iterations : 80\n",
      "\n",
      "\n"
     ]
    }
   ],
   "source": [
    "# List registered models to verify if model has been saved\n",
    "for model in Model.list(ws):\n",
    "    print(model.name, 'version:', model.version)\n",
    "    for tag_name in model.tags:\n",
    "        tag = model.tags[tag_name]\n",
    "        print ('\\t',tag_name, ':', tag)\n",
    "    for prop_name in model.properties:\n",
    "        prop = model.properties[prop_name]\n",
    "        print ('\\t',prop_name, ':', prop)\n",
    "    print('\\n')"
   ]
  },
  {
   "cell_type": "markdown",
   "metadata": {},
   "source": [
    "## Model Deployment\n",
    "\n",
    "Remember you have to deploy only one of the two models you trained.. Perform the steps in the rest of this notebook only if you wish to deploy this model.\n",
    "\n",
    "TODO: In the cell below, register the model, create an inference config and deploy the model as a web service."
   ]
  },
  {
   "cell_type": "code",
   "execution_count": null,
   "metadata": {},
   "outputs": [],
   "source": [
    "# List all files in the output\n",
    "# This is used to identify the scoring script and dependencies\n",
    "os.listdir('outputs')\n"
   ]
  },
  {
   "cell_type": "code",
   "execution_count": null,
   "metadata": {
    "gather": {
     "logged": 1598431435189
    },
    "jupyter": {
     "outputs_hidden": false,
     "source_hidden": false
    },
    "nteract": {
     "transient": {
      "deleting": false
     }
    }
   },
   "outputs": [],
   "source": [
    "from azureml.core.environment import Environment\n",
    "from azureml.core.model import InferenceConfig\n",
    "\n",
    "\n",
    "#env = Environment.get(workspace, \"AzureML-Minimal\").clone(env_name)\n",
    "\n",
    "# for pip_package in [\"scikit-learn\"]:\n",
    "#     env.python.conda_dependencies.add_pip_package(pip_package)\n",
    "\n",
    "inference_config = InferenceConfig(entry_script='path-to-score.py',\n",
    "                                    environment=best_run.get_environment())\n",
    "\n",
    "# deploy\n",
    "from azureml.core.webservice import AciWebservice\n",
    "\n",
    "deployment_config = AciWebservice.deploy_configuration(cpu_cores = 1, memory_gb = 1)\n",
    "service = Model.deploy(ws, \"myservice\", [myModel], inference_config, deployment_config)\n",
    "service.wait_for_deployment(show_output = True)\n",
    "print(service.state)\n",
    "\n",
    "print(service.scoring_uri)\n",
    "\n",
    "print(service.swagger_uri)"
   ]
  },
  {
   "cell_type": "code",
   "execution_count": null,
   "metadata": {},
   "outputs": [],
   "source": [
    "import json\n",
    "\n",
    "#Import test data\n",
    "test_df = data.sample(5) # data is the pandas dataframe of the original data\n",
    "label_df = test_df.pop('Class')\n",
    "\n",
    "test_sample = json.dumps({'data': test_df.to_dict(orient='records')})\n",
    "\n",
    "print(test_sample)"
   ]
  },
  {
   "cell_type": "markdown",
   "metadata": {
    "gather": {
     "logged": 1598431657736
    },
    "jupyter": {
     "outputs_hidden": false,
     "source_hidden": false
    },
    "nteract": {
     "transient": {
      "deleting": false
     }
    }
   },
   "source": [
    "TODO: In the cell below, send a request to the web service you deployed to test it."
   ]
  },
  {
   "cell_type": "code",
   "execution_count": null,
   "metadata": {
    "gather": {
     "logged": 1598432707604
    },
    "jupyter": {
     "outputs_hidden": false,
     "source_hidden": false
    },
    "nteract": {
     "transient": {
      "deleting": false
     }
    }
   },
   "outputs": [],
   "source": [
    "response = service.run(input_data = test_sample)"
   ]
  },
  {
   "cell_type": "code",
   "execution_count": null,
   "metadata": {},
   "outputs": [],
   "source": [
    "print(response)"
   ]
  },
  {
   "cell_type": "code",
   "execution_count": null,
   "metadata": {},
   "outputs": [],
   "source": [
    "print(label_df)"
   ]
  },
  {
   "cell_type": "markdown",
   "metadata": {
    "gather": {
     "logged": 1598432765711
    },
    "jupyter": {
     "outputs_hidden": false,
     "source_hidden": false
    },
    "nteract": {
     "transient": {
      "deleting": false
     }
    }
   },
   "source": [
    "TODO: In the cell below, print the logs of the web service and delete the service"
   ]
  },
  {
   "cell_type": "code",
   "execution_count": null,
   "metadata": {},
   "outputs": [],
   "source": [
    "print(service.get_logs())"
   ]
  },
  {
   "cell_type": "code",
   "execution_count": null,
   "metadata": {
    "jupyter": {
     "outputs_hidden": false,
     "source_hidden": false
    },
    "nteract": {
     "transient": {
      "deleting": false
     }
    }
   },
   "outputs": [],
   "source": [
    "service.delete()"
   ]
  }
 ],
 "metadata": {
  "kernel_info": {
   "name": "python3-azureml"
  },
  "kernelspec": {
   "display_name": "Python 3",
   "language": "python",
   "name": "python3"
  },
  "language_info": {
   "codemirror_mode": {
    "name": "ipython",
    "version": 3
   },
   "file_extension": ".py",
   "mimetype": "text/x-python",
   "name": "python",
   "nbconvert_exporter": "python",
   "pygments_lexer": "ipython3",
   "version": "3.6.11"
  },
  "nteract": {
   "version": "nteract-front-end@1.0.0"
  }
 },
 "nbformat": 4,
 "nbformat_minor": 4
}
